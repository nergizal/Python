{
 "cells": [
  {
   "cell_type": "code",
   "execution_count": 1,
   "id": "70c9b79b-b205-4e58-9afc-b46de11a2fce",
   "metadata": {
    "tags": []
   },
   "outputs": [],
   "source": [
    "# docstringi olan bir fonksiyon yazalım\n",
    "\n",
    "import math\n",
    "\n",
    "def ustel_hesapla(sayi,ust):\n",
    "    \"\"\"\n",
    "        Bu fonksiyon üstel hesaplama yapar.\n",
    "        Parametreler int sayi,int ust\n",
    "        Sonuç verilen sayının verile üssünü döner\n",
    "    \"\"\"\n",
    "    #sayının üstünü hesapla\n",
    "    #ustel=sayi**ust\n",
    "    \n",
    "    ustel=math.pow(sayi,ust)\n",
    "    \n",
    "    #bulduğun üssü dön\n",
    "    \n",
    "    return ustel\n",
    "        "
   ]
  },
  {
   "cell_type": "code",
   "execution_count": 3,
   "id": "bb33851f-cab6-42c3-8dbf-97747ffd4d4e",
   "metadata": {
    "tags": []
   },
   "outputs": [
    {
     "name": "stdout",
     "output_type": "stream",
     "text": [
      "Help on function ustel_hesapla in module __main__:\n",
      "\n",
      "ustel_hesapla(sayi, ust)\n",
      "    Bu fonksiyon üstel hesaplama yapar.\n",
      "    Parametreler int sayi,int ust\n",
      "    Sonuç verilen sayının verile üssünü döner\n",
      "\n"
     ]
    }
   ],
   "source": [
    "#Şimdi bu fonksiyon için yardım çağıralım\n",
    " #help yöntemi\n",
    "    \n",
    "help(ustel_hesapla)\n",
    "    "
   ]
  },
  {
   "cell_type": "code",
   "execution_count": 4,
   "id": "7d8bf2dd-978f-4dc1-998f-cbcf243c7514",
   "metadata": {
    "tags": []
   },
   "outputs": [
    {
     "data": {
      "text/plain": [
       "\u001b[0;31mSignature:\u001b[0m \u001b[0mustel_hesapla\u001b[0m\u001b[0;34m(\u001b[0m\u001b[0msayi\u001b[0m\u001b[0;34m,\u001b[0m \u001b[0must\u001b[0m\u001b[0;34m)\u001b[0m\u001b[0;34m\u001b[0m\u001b[0;34m\u001b[0m\u001b[0m\n",
       "\u001b[0;31mDocstring:\u001b[0m\n",
       "Bu fonksiyon üstel hesaplama yapar.\n",
       "Parametreler int sayi,int ust\n",
       "Sonuç verilen sayının verile üssünü döner\n",
       "\u001b[0;31mFile:\u001b[0m      /var/folders/jn/fbzcrx0n0fg31rt9f05lggnm0000gn/T/ipykernel_2010/3160899800.py\n",
       "\u001b[0;31mType:\u001b[0m      function"
      ]
     },
     "metadata": {},
     "output_type": "display_data"
    }
   ],
   "source": [
    "# ? işareti yöntemi\n",
    "\n",
    "ustel_hesapla?"
   ]
  },
  {
   "cell_type": "code",
   "execution_count": 5,
   "id": "1d468772-1109-40d5-a8ea-d0a73ecf1368",
   "metadata": {
    "tags": []
   },
   "outputs": [
    {
     "data": {
      "text/plain": [
       "\u001b[0;31mSignature:\u001b[0m \u001b[0mustel_hesapla\u001b[0m\u001b[0;34m(\u001b[0m\u001b[0msayi\u001b[0m\u001b[0;34m,\u001b[0m \u001b[0must\u001b[0m\u001b[0;34m)\u001b[0m\u001b[0;34m\u001b[0m\u001b[0;34m\u001b[0m\u001b[0m\n",
       "\u001b[0;31mSource:\u001b[0m   \n",
       "\u001b[0;32mdef\u001b[0m \u001b[0mustel_hesapla\u001b[0m\u001b[0;34m(\u001b[0m\u001b[0msayi\u001b[0m\u001b[0;34m,\u001b[0m\u001b[0must\u001b[0m\u001b[0;34m)\u001b[0m\u001b[0;34m:\u001b[0m\u001b[0;34m\u001b[0m\n",
       "\u001b[0;34m\u001b[0m    \u001b[0;34m\"\"\"\u001b[0m\n",
       "\u001b[0;34m        Bu fonksiyon üstel hesaplama yapar.\u001b[0m\n",
       "\u001b[0;34m        Parametreler int sayi,int ust\u001b[0m\n",
       "\u001b[0;34m        Sonuç verilen sayının verile üssünü döner\u001b[0m\n",
       "\u001b[0;34m    \"\"\"\u001b[0m\u001b[0;34m\u001b[0m\n",
       "\u001b[0;34m\u001b[0m    \u001b[0;31m#sayının üstünü hesapla\u001b[0m\u001b[0;34m\u001b[0m\n",
       "\u001b[0;34m\u001b[0m    \u001b[0;31m#ustel=sayi**ust\u001b[0m\u001b[0;34m\u001b[0m\n",
       "\u001b[0;34m\u001b[0m    \u001b[0;34m\u001b[0m\n",
       "\u001b[0;34m\u001b[0m    \u001b[0mustel\u001b[0m\u001b[0;34m=\u001b[0m\u001b[0mmath\u001b[0m\u001b[0;34m.\u001b[0m\u001b[0mpow\u001b[0m\u001b[0;34m(\u001b[0m\u001b[0msayi\u001b[0m\u001b[0;34m,\u001b[0m\u001b[0must\u001b[0m\u001b[0;34m)\u001b[0m\u001b[0;34m\u001b[0m\n",
       "\u001b[0;34m\u001b[0m    \u001b[0;34m\u001b[0m\n",
       "\u001b[0;34m\u001b[0m    \u001b[0;31m#bulduğun üssü dön\u001b[0m\u001b[0;34m\u001b[0m\n",
       "\u001b[0;34m\u001b[0m    \u001b[0;34m\u001b[0m\n",
       "\u001b[0;34m\u001b[0m    \u001b[0;32mreturn\u001b[0m \u001b[0mustel\u001b[0m\u001b[0;34m\u001b[0m\u001b[0;34m\u001b[0m\u001b[0m\n",
       "\u001b[0;31mFile:\u001b[0m      /var/folders/jn/fbzcrx0n0fg31rt9f05lggnm0000gn/T/ipykernel_2010/3160899800.py\n",
       "\u001b[0;31mType:\u001b[0m      function"
      ]
     },
     "metadata": {},
     "output_type": "display_data"
    }
   ],
   "source": [
    "# ?? soru işareti ile yardım\n",
    "\n",
    "ustel_hesapla??\n"
   ]
  },
  {
   "cell_type": "markdown",
   "id": "d1a4a8e9-c107-4460-bc2c-d9454e75b9d5",
   "metadata": {},
   "source": [
    "### Hazır Method ve attribute'ler\n"
   ]
  },
  {
   "cell_type": "markdown",
   "id": "62982f5e-d585-4c52-b6d7-71a61efae2a4",
   "metadata": {},
   "source": [
    "Python'da nesnelerin hazır methodları ve hazır attributeler'i vardır.\n",
    "\n",
    "Bunlara kısa yollardan erişilebilir."
   ]
  },
  {
   "cell_type": "code",
   "execution_count": 6,
   "id": "efe1ea8e-39df-4a37-8661-d7dda467c798",
   "metadata": {
    "tags": []
   },
   "outputs": [
    {
     "data": {
      "text/plain": [
       "'\\n        Bu fonksiyon üstel hesaplama yapar.\\n        Parametreler int sayi,int ust\\n        Sonuç verilen sayının verile üssünü döner\\n    '"
      ]
     },
     "execution_count": 6,
     "metadata": {},
     "output_type": "execute_result"
    }
   ],
   "source": [
    "# Docstring için-> __doc__\n",
    "\n",
    "ustel_hesapla.__doc__"
   ]
  },
  {
   "cell_type": "code",
   "execution_count": 7,
   "id": "511fbfc8-efa4-452a-aac7-a00f5b6780fd",
   "metadata": {
    "tags": []
   },
   "outputs": [
    {
     "name": "stdout",
     "output_type": "stream",
     "text": [
      "\n",
      "        Bu fonksiyon üstel hesaplama yapar.\n",
      "        Parametreler int sayi,int ust\n",
      "        Sonuç verilen sayının verile üssünü döner\n",
      "    \n"
     ]
    }
   ],
   "source": [
    "print(ustel_hesapla.__doc__)"
   ]
  },
  {
   "cell_type": "markdown",
   "id": "b48d2e2e-b06f-41a7-a931-7003a0b91d90",
   "metadata": {},
   "source": [
    "Python'da built-in(hazır) olan iki alt tire ile erişilen method ya da attribute'lara **dunder** adı verilir.\n",
    "\n",
    "dunder= double underscore\n"
   ]
  },
  {
   "cell_type": "code",
   "execution_count": 9,
   "id": "2c8b3d88-f56b-44ce-b811-8cd9af0a7744",
   "metadata": {
    "tags": []
   },
   "outputs": [],
   "source": [
    "# Hangi modülde olduğunu görmek için .__modeule__ \n"
   ]
  },
  {
   "cell_type": "code",
   "execution_count": 33,
   "id": "043929e0-fb18-4af7-97f8-599db778bc49",
   "metadata": {
    "tags": []
   },
   "outputs": [
    {
     "name": "stdout",
     "output_type": "stream",
     "text": [
      "selam clara kent ve superman\n"
     ]
    }
   ],
   "source": [
    "#1.yol\n",
    "def isimleri_selamla(isim1,isim2):\n",
    "    birlesmis_isim = \"selam\"  +  isim1 + \" ve\" + isim2\n",
    "    print(birlesmis_isim)\n",
    "    \n",
    "isimleri_selamla( \" clara kent\" , \" superman\")"
   ]
  },
  {
   "cell_type": "code",
   "execution_count": 39,
   "id": "d77196f3-0b76-4546-a322-e6d2a9b622e7",
   "metadata": {
    "tags": []
   },
   "outputs": [
    {
     "name": "stdout",
     "output_type": "stream",
     "text": [
      "selam  clara kent ve  superman \n"
     ]
    }
   ],
   "source": [
    "#2.yol str.format() metodu\n",
    "def isimleri_selamla(isim1,isim2):\n",
    "    print(\"selam {0} ve {1} \".format(isim1, isim2))\n",
    "isimleri_selamla( \" clara kent\" , \" superman\")\n"
   ]
  },
  {
   "cell_type": "code",
   "execution_count": 43,
   "id": "5abdacf5-98a4-4b03-843c-715e74acdc66",
   "metadata": {
    "tags": []
   },
   "outputs": [
    {
     "name": "stdin",
     "output_type": "stream",
     "text": [
      "Lütfen ismini söyler misin? nergiz\n"
     ]
    },
    {
     "name": "stdout",
     "output_type": "stream",
     "text": [
      "selam sana nergiz\n"
     ]
    }
   ],
   "source": [
    "#soru3\n",
    "def ismini_soyle():\n",
    "    #input() kullanıcıdan enter tuşu bekler\n",
    "    isim= input(\"Lütfen ismini söyler misin?\" )\n",
    "    \n",
    "    print(\"selam sana {0}\".format(isim))\n",
    "    #enter sonrasında kod devam eder\n",
    "ismini_soyle()"
   ]
  },
  {
   "cell_type": "code",
   "execution_count": null,
   "id": "825c53f5-d501-4d89-9d75-462abab91509",
   "metadata": {},
   "outputs": [],
   "source": []
  }
 ],
 "metadata": {
  "kernelspec": {
   "display_name": "Python 3 (ipykernel)",
   "language": "python",
   "name": "python3"
  },
  "language_info": {
   "codemirror_mode": {
    "name": "ipython",
    "version": 3
   },
   "file_extension": ".py",
   "mimetype": "text/x-python",
   "name": "python",
   "nbconvert_exporter": "python",
   "pygments_lexer": "ipython3",
   "version": "3.11.4"
  }
 },
 "nbformat": 4,
 "nbformat_minor": 5
}
