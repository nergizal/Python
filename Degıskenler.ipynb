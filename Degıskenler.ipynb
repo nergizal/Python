{
 "cells": [
  {
   "cell_type": "markdown",
   "id": "6e3fbf2c-30f8-4b47-b9fa-bcbba3b35718",
   "metadata": {
    "tags": []
   },
   "source": [
    "## Değişkenler"
   ]
  },
  {
   "cell_type": "markdown",
   "id": "366f595d-8407-4b91-b16e-0f87478c6c48",
   "metadata": {},
   "source": [
    "### Değişken bir atıftır."
   ]
  },
  {
   "cell_type": "markdown",
   "id": "1771f84d-2690-4180-8786-c98f2ff56edd",
   "metadata": {},
   "source": [
    "**Değişken,** bir **değere** atıfta bulunan bir isimdir.\n",
    "\n",
    "Bilgisayarın hafızasında, o değere ait adresin ismidir. (adres numarası)\n",
    "\n",
    "**Atama** (assignment) işlemi, yeni bir değişken oluşturur, ona bir değer atar."
   ]
  },
  {
   "cell_type": "code",
   "execution_count": 2,
   "id": "c40a39b2-8861-4d97-90d1-5eef71570a97",
   "metadata": {
    "tags": []
   },
   "outputs": [],
   "source": [
    "a=12"
   ]
  },
  {
   "cell_type": "code",
   "execution_count": 3,
   "id": "7a3c8ace-02fe-4c2f-93e1-c631d3e20880",
   "metadata": {
    "tags": []
   },
   "outputs": [
    {
     "data": {
      "text/plain": [
       "12"
      ]
     },
     "execution_count": 3,
     "metadata": {},
     "output_type": "execute_result"
    }
   ],
   "source": [
    "a"
   ]
  },
  {
   "cell_type": "code",
   "execution_count": 5,
   "id": "5f81f202-9e6b-452b-ac33-91db308d7603",
   "metadata": {
    "tags": []
   },
   "outputs": [],
   "source": [
    "bilgi = \"Python adı,Monthy Python ve Kutsal Kase dizisinden gelir.\""
   ]
  },
  {
   "cell_type": "code",
   "execution_count": 6,
   "id": "1a8f2afd-496a-4314-a15e-ff3eb43d3a1e",
   "metadata": {
    "tags": []
   },
   "outputs": [
    {
     "name": "stdout",
     "output_type": "stream",
     "text": [
      "Python adı,Monthy Python ve Kutsal Kase dizisinden gelir.\n"
     ]
    }
   ],
   "source": [
    "print(bilgi)"
   ]
  },
  {
   "cell_type": "code",
   "execution_count": 8,
   "id": "7b8a6ee0-036e-43ee-8c43-88b07f4a354e",
   "metadata": {
    "tags": []
   },
   "outputs": [
    {
     "name": "stdout",
     "output_type": "stream",
     "text": [
      "3.1415\n"
     ]
    }
   ],
   "source": [
    "pi=3.1415\n",
    "print(pi)"
   ]
  },
  {
   "cell_type": "code",
   "execution_count": 10,
   "id": "3ca8c48f-2d69-4d9e-a290-06728292da83",
   "metadata": {
    "tags": []
   },
   "outputs": [],
   "source": [
    "n=12"
   ]
  },
  {
   "cell_type": "code",
   "execution_count": 11,
   "id": "8ff78686-19df-439a-8374-62258bbb3a56",
   "metadata": {
    "tags": []
   },
   "outputs": [],
   "source": [
    "a=1000"
   ]
  },
  {
   "cell_type": "code",
   "execution_count": 12,
   "id": "73bfba56-7c35-4c68-8976-2507323550ef",
   "metadata": {
    "tags": []
   },
   "outputs": [
    {
     "name": "stdout",
     "output_type": "stream",
     "text": [
      "1000\n"
     ]
    }
   ],
   "source": [
    "print(a)"
   ]
  },
  {
   "cell_type": "markdown",
   "id": "42bb154e-b854-431b-ab33-5557403bcd58",
   "metadata": {},
   "source": [
    "## Değişken İsimleri"
   ]
  },
  {
   "cell_type": "markdown",
   "id": "474256d2-54e7-4d66-92e1-9025e2d1ba87",
   "metadata": {},
   "source": [
    "Python'da değişken isimleri:\n",
    "\n",
    "* Seçtiğiniz değişken ismi anlamlı, kendi adına konuşan isimler olmalıdır.\n",
    "* Genel olarak snake_case isimlendirme kullanılır.\n",
    "\n",
    "ortalama_hiz\n",
    "sesli_harfler\n",
    "\n",
    "Değişken İsimleri:\n",
    "* sayı ile başlayamaz\n",
    "    * 1sayi\n",
    "    * 2.deger\n",
    "* boşluk karakteri olamaz\n",
    "    * ortalama hiz\n",
    "* özel karakter bulunamaz\n",
    "    * @, -, +, * vs.\n",
    "    * @sayi\n",
    "* keyword(anahtar kelime içeremez)"
   ]
  },
  {
   "cell_type": "markdown",
   "id": "c9f7f847-71df-48a2-b03a-06ef0f61044f",
   "metadata": {},
   "source": [
    "Syntax:Söz Dizimi"
   ]
  },
  {
   "cell_type": "markdown",
   "id": "70d45fb7-1e60-4911-9c2a-8f6b534e2b0f",
   "metadata": {},
   "source": [
    "**Keyword:** for, True, return, try..."
   ]
  },
  {
   "cell_type": "markdown",
   "id": "51db4170-04af-4b32-a796-c2cda15778eb",
   "metadata": {},
   "source": [
    "**Önemli:** Python'da **BÜYÜK-küçük** eşit değildir."
   ]
  },
  {
   "cell_type": "code",
   "execution_count": 13,
   "id": "8bc0e7a9-e2a1-4bcf-b19b-90c0472ea956",
   "metadata": {
    "tags": []
   },
   "outputs": [],
   "source": [
    "a=10\n",
    "A=45"
   ]
  },
  {
   "cell_type": "code",
   "execution_count": 14,
   "id": "5f92db00-feca-4e9a-921b-6e68aecfa95b",
   "metadata": {
    "tags": []
   },
   "outputs": [
    {
     "name": "stdout",
     "output_type": "stream",
     "text": [
      "10\n"
     ]
    }
   ],
   "source": [
    "print(a)"
   ]
  },
  {
   "cell_type": "code",
   "execution_count": 15,
   "id": "0ccc6124-d426-41e4-968c-0b2d6e7118b8",
   "metadata": {
    "tags": []
   },
   "outputs": [
    {
     "name": "stdout",
     "output_type": "stream",
     "text": [
      "45\n"
     ]
    }
   ],
   "source": [
    "print(A)"
   ]
  },
  {
   "cell_type": "markdown",
   "id": "b9fadd5f-94e0-4599-9ba8-6a1236576dda",
   "metadata": {},
   "source": [
    "a eşit değildir A'ya."
   ]
  },
  {
   "cell_type": "markdown",
   "id": "f857ed0d-840d-4d43-980a-64a141274c47",
   "metadata": {},
   "source": [
    "Değişken adlarında Türkçe karakter kullanmayın."
   ]
  },
  {
   "cell_type": "markdown",
   "id": "4624bcbf-8424-4e4e-9c08-aa334c184f95",
   "metadata": {},
   "source": [
    "## Python Veri Tipleri"
   ]
  },
  {
   "cell_type": "markdown",
   "id": "ff821c10-b4f1-4555-bad1-a83347173ab8",
   "metadata": {},
   "source": [
    "**Python Veri Tipleri:**\n",
    "* Text(metin) tipi: **str**\n",
    "* Numerik Tipler: **int, float**\n",
    "* Liste Tipleri:**list, tuple, range**\n",
    "* İlişki Tipi:**dict**\n",
    "* Küme Tipi:**set**\n",
    "* Boolean Tipi: **bool**"
   ]
  },
  {
   "cell_type": "markdown",
   "id": "3db49297-f5f2-4d4e-bd19-30f56456a905",
   "metadata": {},
   "source": [
    "Bir Değişkenin Tipi: `type()`\n"
   ]
  },
  {
   "cell_type": "code",
   "execution_count": 16,
   "id": "e1dd2260-4751-403c-99f9-ffb6a83a02bb",
   "metadata": {
    "tags": []
   },
   "outputs": [
    {
     "data": {
      "text/plain": [
       "int"
      ]
     },
     "execution_count": 16,
     "metadata": {},
     "output_type": "execute_result"
    }
   ],
   "source": [
    "A=25\n",
    "type(A)"
   ]
  },
  {
   "cell_type": "code",
   "execution_count": 18,
   "id": "7703e168-418b-456f-a80b-7b1cd33fe3f1",
   "metadata": {
    "tags": []
   },
   "outputs": [
    {
     "data": {
      "text/plain": [
       "str"
      ]
     },
     "execution_count": 18,
     "metadata": {},
     "output_type": "execute_result"
    }
   ],
   "source": [
    "metin=(\"Bu bir metin tipidir.\")\n",
    "type(metin)"
   ]
  },
  {
   "cell_type": "code",
   "execution_count": 19,
   "id": "84998487-63ff-46d9-849f-16b904cecf08",
   "metadata": {
    "tags": []
   },
   "outputs": [
    {
     "data": {
      "text/plain": [
       "int"
      ]
     },
     "execution_count": 19,
     "metadata": {},
     "output_type": "execute_result"
    }
   ],
   "source": [
    "tam_sayi=16\n",
    "type(tam_sayi)"
   ]
  },
  {
   "cell_type": "code",
   "execution_count": 20,
   "id": "18b5766e-f8fe-41b7-b49b-dd15d703f6c7",
   "metadata": {
    "tags": []
   },
   "outputs": [
    {
     "name": "stdout",
     "output_type": "stream",
     "text": [
      "<class 'float'>\n"
     ]
    }
   ],
   "source": [
    "kesirli_sayi=4.16\n",
    "print(type(kesirli_sayi))"
   ]
  },
  {
   "cell_type": "code",
   "execution_count": 21,
   "id": "751e766b-8e4a-4ba2-b956-037b8aeb82c4",
   "metadata": {
    "tags": []
   },
   "outputs": [
    {
     "data": {
      "text/plain": [
       "float"
      ]
     },
     "execution_count": 21,
     "metadata": {},
     "output_type": "execute_result"
    }
   ],
   "source": [
    "type(kesirli_sayi)"
   ]
  },
  {
   "cell_type": "code",
   "execution_count": 26,
   "id": "9080a634-1212-4e1d-a544-37e0c636ff55",
   "metadata": {
    "tags": []
   },
   "outputs": [
    {
     "name": "stdout",
     "output_type": "stream",
     "text": [
      "[1, 2, 3, 4, 5]\n"
     ]
    },
    {
     "data": {
      "text/plain": [
       "list"
      ]
     },
     "execution_count": 26,
     "metadata": {},
     "output_type": "execute_result"
    }
   ],
   "source": [
    "liste = [1,2,3,4,5]\n",
    "print(liste)\n",
    "type(liste)"
   ]
  },
  {
   "cell_type": "code",
   "execution_count": 27,
   "id": "33cfeb0b-ee2f-4ab4-9a1c-3ec0099716b9",
   "metadata": {
    "tags": []
   },
   "outputs": [
    {
     "name": "stdout",
     "output_type": "stream",
     "text": [
      "('A', 'B', 'C')\n",
      "<class 'tuple'>\n"
     ]
    }
   ],
   "source": [
    "uclu=('A', 'B', 'C' )\n",
    "print(uclu)\n",
    "print(type(uclu))"
   ]
  },
  {
   "cell_type": "code",
   "execution_count": 30,
   "id": "7f6ce33a-8914-4d37-882a-f7399d588b51",
   "metadata": {
    "tags": []
   },
   "outputs": [
    {
     "name": "stdout",
     "output_type": "stream",
     "text": [
      "range(0, 10)\n"
     ]
    },
    {
     "data": {
      "text/plain": [
       "range"
      ]
     },
     "execution_count": 30,
     "metadata": {},
     "output_type": "execute_result"
    }
   ],
   "source": [
    "onluk=range(10)\n",
    "print(onluk)\n",
    "type(onluk)"
   ]
  },
  {
   "cell_type": "code",
   "execution_count": 42,
   "id": "1ae55880-7950-4531-b515-fc5745ea2c35",
   "metadata": {},
   "outputs": [
    {
     "name": "stdout",
     "output_type": "stream",
     "text": [
      "{'ad': 'Nergiz', 'soyad': 'b', 'programlama': 'Python'}\n"
     ]
    },
    {
     "data": {
      "text/plain": [
       "dict"
      ]
     },
     "execution_count": 42,
     "metadata": {},
     "output_type": "execute_result"
    }
   ],
   "source": [
    "sozluk = {\n",
    "    \"ad\": \"Nergiz\", \n",
    "    \"soyad\": \"b\", \n",
    "    \"programlama\": \"Python\"\n",
    "}\n",
    "print(sozluk)\n",
    "type(sozluk)"
   ]
  },
  {
   "cell_type": "code",
   "execution_count": 48,
   "id": "6dc94dfc-aa4b-4cf8-85f8-5b16626a9db6",
   "metadata": {
    "tags": []
   },
   "outputs": [
    {
     "name": "stdout",
     "output_type": "stream",
     "text": [
      "{1, 2, 3, 4, 5}\n"
     ]
    },
    {
     "data": {
      "text/plain": [
       "set"
      ]
     },
     "execution_count": 48,
     "metadata": {},
     "output_type": "execute_result"
    }
   ],
   "source": [
    "kume= set([1,2,3,4,5,3,2,5,4,1,])\n",
    "print(kume)\n",
    "type(kume)"
   ]
  },
  {
   "cell_type": "code",
   "execution_count": 50,
   "id": "00d1137d-5f65-4064-8b34-88289f365329",
   "metadata": {
    "tags": []
   },
   "outputs": [
    {
     "name": "stdout",
     "output_type": "stream",
     "text": [
      "True\n",
      "False\n"
     ]
    },
    {
     "data": {
      "text/plain": [
       "bool"
      ]
     },
     "execution_count": 50,
     "metadata": {},
     "output_type": "execute_result"
    }
   ],
   "source": [
    "dogru= True\n",
    "yanlis= False\n",
    "print(dogru)\n",
    "print(yanlis)\n",
    "type(dogru)"
   ]
  },
  {
   "cell_type": "markdown",
   "id": "e745af7e-509f-4578-ab8a-fcd56ea36987",
   "metadata": {},
   "source": [
    "## Pyhthon'da Yorum Satırı ##\n"
   ]
  },
  {
   "cell_type": "markdown",
   "id": "c28a225f-742d-455d-929f-0b93da17086b",
   "metadata": {},
   "source": [
    "**Derleyici:** Kaynak kodu, makine diline çeviren yazılımdır.(Compiler)\n",
    "\n",
    "Compiler kod yazımı tamamlanınca tüm kodu makine diline çevirir."
   ]
  },
  {
   "cell_type": "markdown",
   "id": "2bf7b467-a50b-4a3c-86ed-81ddce8f7096",
   "metadata": {},
   "source": [
    "**Yorumlayıcı:** Kaynak kodu makine diline çeviren yazılımdır.(Interpreter)\n",
    "\n",
    "Interpreter, kod yazılırken çevirir. Satır satır makine diline çevirir."
   ]
  },
  {
   "cell_type": "markdown",
   "id": "25007d5d-f8ef-4a3b-b8b4-f7b3ac3a0c1e",
   "metadata": {},
   "source": [
    "**CPU:** Central Process Unit "
   ]
  },
  {
   "cell_type": "markdown",
   "id": "471d2d35-605d-41d2-8644-6e3419b31747",
   "metadata": {},
   "source": [
    "**Yorum Satırı:** Yorum satırı Python Interpreter tarafından göz ardı edilen satırdır.\n",
    "\n",
    "Interpreter, yorum satırı gördüğünde çalıştırmaz.\n"
   ]
  },
  {
   "cell_type": "code",
   "execution_count": 1,
   "id": "ce758a4a-87ff-46eb-9a53-1170e6141262",
   "metadata": {
    "tags": []
   },
   "outputs": [],
   "source": [
    "# Python'da tek satır yorum\n",
    "\n",
    "# Bu da bir yorum satırıdır."
   ]
  },
  {
   "cell_type": "code",
   "execution_count": 2,
   "id": "acc7b982-2128-466c-a5dd-51e916f2b757",
   "metadata": {
    "tags": []
   },
   "outputs": [
    {
     "name": "stdout",
     "output_type": "stream",
     "text": [
      "90000\n"
     ]
    }
   ],
   "source": [
    "# bu değişken aracın km'sini tutar\n",
    "\n",
    "arac_km= 90000\n",
    "print(arac_km)"
   ]
  },
  {
   "cell_type": "code",
   "execution_count": 4,
   "id": "c00e2763-49db-482b-b415-f7971cb3e8f1",
   "metadata": {
    "tags": []
   },
   "outputs": [
    {
     "name": "stdout",
     "output_type": "stream",
     "text": [
      "75.0\n"
     ]
    }
   ],
   "source": [
    "# ortalama hız= gidilen mesafe/geçen zaman\n",
    "\n",
    "#önce mesafe ve süreyi al\n",
    "gidilen_mesafe= 450 #km\n",
    "gecen_sure= 6       #saat\n",
    "\n",
    "#ortalamaa hızı hesapla\n",
    "ortalama_hiz= gidilen_mesafe/gecen_sure\n",
    "\n",
    "#bulduğumuz değeri yazdıralım\n",
    "print(ortalama_hiz)\n",
    "\n"
   ]
  },
  {
   "cell_type": "code",
   "execution_count": 11,
   "id": "d737646a-03e5-45ff-9942-d5543187fc2f",
   "metadata": {
    "tags": []
   },
   "outputs": [
    {
     "data": {
      "text/plain": [
       "\"\\nÇok satır yorum\\n\\nPython'da çok satır yorum.\\n2 adet üçlü tırnak ile gösterilir.\\n\\nBu örnekte olduğu gibi.\\n\""
      ]
     },
     "execution_count": 11,
     "metadata": {},
     "output_type": "execute_result"
    }
   ],
   "source": [
    "\"\"\"\n",
    "Çok satır yorum\n",
    "\n",
    "Python'da çok satır yorum.\n",
    "2 adet üçlü tırnak ile gösterilir.\n",
    "\n",
    "Bu örnekte olduğu gibi.\n",
    "\"\"\"\n",
    "\n",
    "\n",
    "\n"
   ]
  },
  {
   "cell_type": "code",
   "execution_count": 7,
   "id": "cddf3e43-5b7b-4d3d-bbd0-ccf6a146d4a0",
   "metadata": {
    "tags": []
   },
   "outputs": [
    {
     "name": "stdout",
     "output_type": "stream",
     "text": [
      "Satır1 \n",
      "Satır2 \n",
      "Satır3\n"
     ]
    }
   ],
   "source": [
    "cok_satir_metin= \"Satır1 \\nSatır2 \\nSatır3\"\n",
    "print(cok_satir_metin)"
   ]
  },
  {
   "cell_type": "markdown",
   "id": "0cdbf344-7640-43a3-bc07-474d8f281020",
   "metadata": {},
   "source": [
    "`\\n`bir alt satıra geçer."
   ]
  },
  {
   "cell_type": "code",
   "execution_count": 9,
   "id": "8b0acce0-58a8-43f1-8728-11b3f4cf5605",
   "metadata": {
    "tags": []
   },
   "outputs": [
    {
     "name": "stdout",
     "output_type": "stream",
     "text": [
      "Selam sana \n",
      "Demir ayak...\n"
     ]
    }
   ],
   "source": [
    "print(\"Selam sana \\nDemir ayak...\")"
   ]
  },
  {
   "cell_type": "code",
   "execution_count": 12,
   "id": "b925d44e-aefd-43d3-b5ae-28f9fdea111a",
   "metadata": {
    "tags": []
   },
   "outputs": [
    {
     "data": {
      "text/plain": [
       "'\\n     Bu satır 1\\n         Bu satır 2\\n             Bu satır 3\\n'"
      ]
     },
     "execution_count": 12,
     "metadata": {},
     "output_type": "execute_result"
    }
   ],
   "source": [
    "\"\"\"\n",
    "     Bu satır 1\n",
    "         Bu satır 2\n",
    "             Bu satır 3\n",
    "\"\"\""
   ]
  },
  {
   "cell_type": "markdown",
   "id": "93cf98a3-9204-4745-ab1a-281704ed8e2a",
   "metadata": {},
   "source": [
    "## Numerik Operasyonlar ##"
   ]
  },
  {
   "cell_type": "code",
   "execution_count": 17,
   "id": "2afb39ce-265d-4356-87d1-0961ec4b728f",
   "metadata": {
    "tags": []
   },
   "outputs": [
    {
     "name": "stdout",
     "output_type": "stream",
     "text": [
      "107\n",
      "93\n",
      "700\n",
      "14.285714285714286\n",
      "14\n",
      "2\n",
      "100000000000000\n"
     ]
    }
   ],
   "source": [
    "# değişkenleri tanımla\n",
    "a=100\n",
    "b=7\n",
    "\n",
    "print(a + b) #toplama\n",
    "print(a- b)  #çıkartma\n",
    "print(a*b)   #çarpma\n",
    "print(a/b)   #bölme\n",
    "print(a//b)  #tam sayılı bölme\n",
    "print(a % b) #mod\n",
    "print(a**b)  #üstel\n"
   ]
  },
  {
   "cell_type": "markdown",
   "id": "d449cfd0-3131-4025-8ea4-4cec0db956f0",
   "metadata": {},
   "source": [
    "**Öncelik Sırası:** Parantez, Üstel, Bölme, Çarpma, Toplama\n",
    "**BEDMAS**"
   ]
  },
  {
   "cell_type": "code",
   "execution_count": 18,
   "id": "f3876d5d-d986-4e9c-a57f-0183c86c2575",
   "metadata": {
    "tags": []
   },
   "outputs": [
    {
     "name": "stdout",
     "output_type": "stream",
     "text": [
      "13.0\n"
     ]
    }
   ],
   "source": [
    "print(4*5-9+14/7)"
   ]
  },
  {
   "cell_type": "code",
   "execution_count": 21,
   "id": "4bce19af-15dc-4f4e-b61b-707f78b7a580",
   "metadata": {
    "tags": []
   },
   "outputs": [
    {
     "data": {
      "text/plain": [
       "10"
      ]
     },
     "execution_count": 21,
     "metadata": {},
     "output_type": "execute_result"
    }
   ],
   "source": [
    "a=9\n",
    "#a'yı bir artır.\n",
    "a= a + 1\n",
    "a"
   ]
  },
  {
   "cell_type": "code",
   "execution_count": 30,
   "id": "999acc64-74e2-4952-911a-1cc6b3e038b7",
   "metadata": {
    "tags": []
   },
   "outputs": [
    {
     "name": "stdout",
     "output_type": "stream",
     "text": [
      "26\n"
     ]
    }
   ],
   "source": [
    "print(a)"
   ]
  },
  {
   "cell_type": "code",
   "execution_count": 31,
   "id": "e1916280-2396-41ec-b083-c777908b8e70",
   "metadata": {
    "tags": []
   },
   "outputs": [
    {
     "data": {
      "text/plain": [
       "29"
      ]
     },
     "execution_count": 31,
     "metadata": {},
     "output_type": "execute_result"
    }
   ],
   "source": [
    "#kısa yoldan toplama\n",
    "a+=3\n",
    "a"
   ]
  },
  {
   "cell_type": "markdown",
   "id": "f8266f23-62fb-4516-a50a-3f073dfd7176",
   "metadata": {},
   "source": [
    "## String (Metin) İşlemleri ##"
   ]
  },
  {
   "cell_type": "markdown",
   "id": "bd443635-9ec0-414f-bf99-91d1a90e2a43",
   "metadata": {},
   "source": [
    "Python'da Stringler(Metinler) hem **tek tırnak(')** hem **çift tırnak(\")** olarak gösterilebilir."
   ]
  },
  {
   "cell_type": "markdown",
   "id": "b23fa0b4-8845-4231-b221-ad91b327df7b",
   "metadata": {},
   "source": [
    "Dikkat etmeniz gereken, tırnakların tuttarlı olmasıdır."
   ]
  },
  {
   "cell_type": "code",
   "execution_count": 2,
   "id": "eafcfe31-205e-4dda-ba73-4deb5b57daa4",
   "metadata": {
    "tags": []
   },
   "outputs": [
    {
     "name": "stdout",
     "output_type": "stream",
     "text": [
      "Bu çift tırnaklı bir metindir.\n"
     ]
    }
   ],
   "source": [
    "metin_cift = \"Bu çift tırnaklı bir metindir.\"\n",
    "print(metin_cift)"
   ]
  },
  {
   "cell_type": "code",
   "execution_count": 3,
   "id": "3a193cec-56e0-4690-b971-ab592884d36f",
   "metadata": {
    "tags": []
   },
   "outputs": [
    {
     "name": "stdout",
     "output_type": "stream",
     "text": [
      "Bu da tek tırnaklı bir metindir.\n"
     ]
    }
   ],
   "source": [
    "metin_tek = \"Bu da tek tırnaklı bir metindir.\"\n",
    "print(metin_tek)"
   ]
  },
  {
   "cell_type": "code",
   "execution_count": 4,
   "id": "f0955de5-9c60-42fd-84df-fff5a6166e6b",
   "metadata": {
    "tags": []
   },
   "outputs": [
    {
     "data": {
      "text/plain": [
       "\"Ilgaz Anadolu'nun sen yüce bir dağısın.\""
      ]
     },
     "execution_count": 4,
     "metadata": {},
     "output_type": "execute_result"
    }
   ],
   "source": [
    "#Eğer her ikisini de kullanmak gerekirse\n",
    "metin_iki_icinde_bir_tirnak = \"Ilgaz Anadolu'nun sen yüce bir dağısın.\"\n",
    "metin_iki_icinde_bir_tirnak"
   ]
  },
  {
   "cell_type": "code",
   "execution_count": 7,
   "id": "09cf3b66-9de8-41e8-8b5f-7c2e851e5e14",
   "metadata": {
    "tags": []
   },
   "outputs": [
    {
     "data": {
      "text/plain": [
       "'Alice şöyle bağırdı: \" Koş tavşan koş...\" '"
      ]
     },
     "execution_count": 7,
     "metadata": {},
     "output_type": "execute_result"
    }
   ],
   "source": [
    "metin_tek_icinde_iki_tirnak = 'Alice şöyle bağırdı: \" Koş tavşan koş...\" '\n",
    "metin_tek_icinde_iki_tirnak"
   ]
  },
  {
   "cell_type": "code",
   "execution_count": 8,
   "id": "193f9a7e-204f-4598-9162-7088d982973e",
   "metadata": {
    "tags": []
   },
   "outputs": [
    {
     "ename": "SyntaxError",
     "evalue": "unterminated string literal (detected at line 1) (2878558217.py, line 1)",
     "output_type": "error",
     "traceback": [
      "\u001b[0;36m  Cell \u001b[0;32mIn[8], line 1\u001b[0;36m\u001b[0m\n\u001b[0;31m    yanlis = \"Bu iki'li tırnaktır.'\u001b[0m\n\u001b[0m             ^\u001b[0m\n\u001b[0;31mSyntaxError\u001b[0m\u001b[0;31m:\u001b[0m unterminated string literal (detected at line 1)\n"
     ]
    }
   ],
   "source": [
    "yanlis = \"Bu iki'li tırnaktır.'\n",
    "yanlis"
   ]
  },
  {
   "cell_type": "markdown",
   "id": "7ee5b564-a23a-4534-9a46-96c5f8518e9a",
   "metadata": {},
   "source": [
    "Python'da metinler(str) üzerinde aritmetik işlemler yapamazsınız.\n",
    "* -, /\n",
    "* '4' - '3'"
   ]
  },
  {
   "cell_type": "code",
   "execution_count": 9,
   "id": "09f05ce4-aaa8-465c-a2fd-31fb848c0567",
   "metadata": {
    "tags": []
   },
   "outputs": [
    {
     "ename": "TypeError",
     "evalue": "unsupported operand type(s) for -: 'str' and 'str'",
     "output_type": "error",
     "traceback": [
      "\u001b[0;31m---------------------------------------------------------------------------\u001b[0m",
      "\u001b[0;31mTypeError\u001b[0m                                 Traceback (most recent call last)",
      "Cell \u001b[0;32mIn[9], line 1\u001b[0m\n\u001b[0;32m----> 1\u001b[0m \u001b[38;5;124m'\u001b[39m\u001b[38;5;124m4\u001b[39m\u001b[38;5;124m'\u001b[39m \u001b[38;5;241m-\u001b[39m \u001b[38;5;124m'\u001b[39m\u001b[38;5;124m3\u001b[39m\u001b[38;5;124m'\u001b[39m\n",
      "\u001b[0;31mTypeError\u001b[0m: unsupported operand type(s) for -: 'str' and 'str'"
     ]
    }
   ],
   "source": [
    "'4' - '3'"
   ]
  },
  {
   "cell_type": "markdown",
   "id": "643f3cca-73b9-4592-a895-6d43424124ca",
   "metadata": {},
   "source": [
    "**İstisna:** + ve * çarpma yapılabilir. (str ile)"
   ]
  },
  {
   "cell_type": "code",
   "execution_count": 10,
   "id": "a5420496-6562-4e02-be7f-58e0cd03536c",
   "metadata": {
    "tags": []
   },
   "outputs": [],
   "source": [
    "birinci = \"Güneşli\"\n",
    "ikinci = 'Günler'"
   ]
  },
  {
   "cell_type": "code",
   "execution_count": 11,
   "id": "9b3729cd-a262-4411-a97b-ba76928ffbf1",
   "metadata": {
    "tags": []
   },
   "outputs": [
    {
     "data": {
      "text/plain": [
       "'GüneşliGünler'"
      ]
     },
     "execution_count": 11,
     "metadata": {},
     "output_type": "execute_result"
    }
   ],
   "source": [
    "#Metinlerde toplama işlemi(Concatination İşlemi)\n",
    "birinci+ikinci"
   ]
  },
  {
   "cell_type": "code",
   "execution_count": 12,
   "id": "862b2932-18c6-4d74-aee0-f62fdd12e6ec",
   "metadata": {
    "tags": []
   },
   "outputs": [
    {
     "data": {
      "text/plain": [
       "'GüneşliGünlerGüneşliGünler'"
      ]
     },
     "execution_count": 12,
     "metadata": {},
     "output_type": "execute_result"
    }
   ],
   "source": [
    "birinci + ikinci + birinci + ikinci"
   ]
  },
  {
   "cell_type": "code",
   "execution_count": 13,
   "id": "69de7ae6-2002-4d22-9608-9b7c87ad32d4",
   "metadata": {
    "tags": []
   },
   "outputs": [
    {
     "data": {
      "text/plain": [
       "'Güneşli'"
      ]
     },
     "execution_count": 13,
     "metadata": {},
     "output_type": "execute_result"
    }
   ],
   "source": [
    "birinci"
   ]
  },
  {
   "cell_type": "code",
   "execution_count": 14,
   "id": "f6e3a9a4-0899-4514-b9c8-9e46d4d61cd6",
   "metadata": {
    "tags": []
   },
   "outputs": [
    {
     "data": {
      "text/plain": [
       "'GüneşliGüneşliGüneşliGüneşli'"
      ]
     },
     "execution_count": 14,
     "metadata": {},
     "output_type": "execute_result"
    }
   ],
   "source": [
    "#Metinlerde Çarpma İşlemi\n",
    "4*birinci"
   ]
  },
  {
   "cell_type": "code",
   "execution_count": 16,
   "id": "9f19367f-6231-4ce3-98e3-34f75fbfe3d4",
   "metadata": {
    "tags": []
   },
   "outputs": [
    {
     "data": {
      "text/plain": [
       "'GüneşliGüneşliGüneşliGüneşliGüneşli'"
      ]
     },
     "execution_count": 16,
     "metadata": {},
     "output_type": "execute_result"
    }
   ],
   "source": [
    "5*birinci"
   ]
  },
  {
   "cell_type": "code",
   "execution_count": 17,
   "id": "fa05ad9e-1903-437b-93e2-910d4a4e98ac",
   "metadata": {
    "tags": []
   },
   "outputs": [
    {
     "data": {
      "text/plain": [
       "'555555'"
      ]
     },
     "execution_count": 17,
     "metadata": {},
     "output_type": "execute_result"
    }
   ],
   "source": [
    "6 * '5' #string çarpması yapacak"
   ]
  },
  {
   "cell_type": "markdown",
   "id": "7ffe51e0-e162-46fe-a142-377064392a50",
   "metadata": {
    "tags": []
   },
   "source": [
    "## Anahtar Kelimeler (Keywords) ##"
   ]
  },
  {
   "cell_type": "markdown",
   "id": "56727d13-a66c-41c4-b237-cd97753544b4",
   "metadata": {},
   "source": [
    "Python'daki Anahtar Kelimeler(Keyword) **keyword** paketi içinde yer alır"
   ]
  },
  {
   "cell_type": "markdown",
   "id": "53dcd9c0-cd72-4db2-be7e-99d19649dbf3",
   "metadata": {},
   "source": [
    "**import**\n"
   ]
  },
  {
   "cell_type": "code",
   "execution_count": 20,
   "id": "74333bbb-5a09-48ed-9438-4e3a4497043b",
   "metadata": {
    "tags": []
   },
   "outputs": [],
   "source": [
    "#Önce paketimizi import(içeri almak) edelim.\n",
    "import keyword"
   ]
  },
  {
   "cell_type": "code",
   "execution_count": 22,
   "id": "944a070c-70ac-4c56-8ee9-1569d810b4c1",
   "metadata": {
    "tags": []
   },
   "outputs": [
    {
     "name": "stdout",
     "output_type": "stream",
     "text": [
      "['False', 'None', 'True', 'and', 'as', 'assert', 'async', 'await', 'break', 'class', 'continue', 'def', 'del', 'elif', 'else', 'except', 'finally', 'for', 'from', 'global', 'if', 'import', 'in', 'is', 'lambda', 'nonlocal', 'not', 'or', 'pass', 'raise', 'return', 'try', 'while', 'with', 'yield']\n"
     ]
    }
   ],
   "source": [
    "#Şimdi keyword listesini alalım.\n",
    "# Bu listeyi bir değişkene atayalım.\n",
    "\n",
    "#şimdi bu listeyi yazdır.\n",
    "anahtar_kelimeler= keyword.kwlist\n",
    "print(anahtar_kelimeler)\n"
   ]
  },
  {
   "cell_type": "code",
   "execution_count": 23,
   "id": "baae7cca-e0a5-4ea2-967c-5b512e9a7f0d",
   "metadata": {
    "tags": []
   },
   "outputs": [
    {
     "ename": "SyntaxError",
     "evalue": "invalid syntax (3681637931.py, line 1)",
     "output_type": "error",
     "traceback": [
      "\u001b[0;36m  Cell \u001b[0;32mIn[23], line 1\u001b[0;36m\u001b[0m\n\u001b[0;31m    import = 45\u001b[0m\n\u001b[0m           ^\u001b[0m\n\u001b[0;31mSyntaxError\u001b[0m\u001b[0;31m:\u001b[0m invalid syntax\n"
     ]
    }
   ],
   "source": [
    "import = 45"
   ]
  },
  {
   "cell_type": "markdown",
   "id": "568d1908-6470-4317-b59f-f890a63d53fd",
   "metadata": {},
   "source": [
    "Peki herhangi bir kelime Python için Keyword müdür?"
   ]
  },
  {
   "cell_type": "code",
   "execution_count": 25,
   "id": "69557021-6c39-45c3-8e6c-ea87916b27a3",
   "metadata": {
    "tags": []
   },
   "outputs": [
    {
     "data": {
      "text/plain": [
       "True"
      ]
     },
     "execution_count": 25,
     "metadata": {},
     "output_type": "execute_result"
    }
   ],
   "source": [
    "#Bunun için keyword paketi içindeki -> iskeyword metodunu kullanacağız.\n",
    "keyword.iskeyword('not')"
   ]
  },
  {
   "cell_type": "code",
   "execution_count": 26,
   "id": "43c222ff-7070-442e-a036-9f6035a5e16d",
   "metadata": {
    "tags": []
   },
   "outputs": [
    {
     "data": {
      "text/plain": [
       "True"
      ]
     },
     "execution_count": 26,
     "metadata": {},
     "output_type": "execute_result"
    }
   ],
   "source": [
    "keyword.iskeyword('return')"
   ]
  },
  {
   "cell_type": "code",
   "execution_count": 27,
   "id": "784e32fe-7657-455b-b1d4-228d10cac5d4",
   "metadata": {
    "tags": []
   },
   "outputs": [
    {
     "data": {
      "text/plain": [
       "False"
      ]
     },
     "execution_count": 27,
     "metadata": {},
     "output_type": "execute_result"
    }
   ],
   "source": [
    "keyword.iskeyword('kelime')"
   ]
  },
  {
   "cell_type": "code",
   "execution_count": 28,
   "id": "99115447-c5e6-46f1-9d50-658c776c580b",
   "metadata": {
    "tags": []
   },
   "outputs": [
    {
     "data": {
      "text/plain": [
       "False"
      ]
     },
     "execution_count": 28,
     "metadata": {},
     "output_type": "execute_result"
    }
   ],
   "source": [
    "keyword.iskeyword('word')"
   ]
  },
  {
   "cell_type": "markdown",
   "id": "74ce8e2d-2622-4b48-a192-b701a3442726",
   "metadata": {},
   "source": [
    "# Genel Syntax\n"
   ]
  },
  {
   "cell_type": "markdown",
   "id": "c7a8799b-5117-40c0-803f-79fe70e1ba61",
   "metadata": {
    "tags": []
   },
   "source": [
    "Soru 1: Ekrana \"Hello World\" yazmak için noktalı yeri doldurun.\n"
   ]
  },
  {
   "cell_type": "code",
   "execution_count": 7,
   "id": "21bdee4e-c411-4c10-b987-7a981f613c21",
   "metadata": {
    "tags": []
   },
   "outputs": [
    {
     "name": "stdout",
     "output_type": "stream",
     "text": [
      "Hello World\n"
     ]
    }
   ],
   "source": [
    "print(\"Hello World\")"
   ]
  },
  {
   "cell_type": "markdown",
   "id": "be2e9c25-cc04-4054-ab49-2bde259f35f0",
   "metadata": {
    "tags": []
   },
   "source": [
    "Soru 2: Aşağıdaki kodda yer alan yazım yanlışını düzeltin."
   ]
  },
  {
   "cell_type": "markdown",
   "id": "349635e1-6b26-4f1f-9047-6666991aa965",
   "metadata": {},
   "source": [
    "print(\"5 2'den büyüktür.')"
   ]
  },
  {
   "cell_type": "code",
   "execution_count": 8,
   "id": "f1a5abc1-c2b8-4ed3-abfe-a15c309d0bc3",
   "metadata": {
    "tags": []
   },
   "outputs": [
    {
     "name": "stdout",
     "output_type": "stream",
     "text": [
      "5 2'den büyüktür.\n"
     ]
    }
   ],
   "source": [
    "print(\"5 2'den büyüktür.\")"
   ]
  },
  {
   "cell_type": "markdown",
   "id": "a4a9d654-6da1-4b23-a2e1-07f58d57fc75",
   "metadata": {
    "tags": []
   },
   "source": [
    "Aşağıdaki satırı bir yorum satırı yapınız.\n",
    "\n",
    "Bu bir yorum satırıdır."
   ]
  },
  {
   "cell_type": "code",
   "execution_count": 9,
   "id": "ddb731b3-1e85-4c18-a329-6b2e72c60ff7",
   "metadata": {
    "tags": []
   },
   "outputs": [],
   "source": [
    "#Bu bir yorum satırıdır."
   ]
  },
  {
   "cell_type": "markdown",
   "id": "19a62170-b0f1-4273-950f-6a883cc1f88f",
   "metadata": {
    "tags": []
   },
   "source": [
    "Çok satır yorum özelliğini kullanıp aşağıdaki satırı yorum satırı yapın.\n",
    "\n",
    "Bu yorum satırı\n",
    "\n",
    "Çok satırlıdır\n",
    "\n",
    "Sadece bir satır yorum değil.."
   ]
  },
  {
   "cell_type": "code",
   "execution_count": 11,
   "id": "8fb2ae62-7532-4165-ba4b-3cae4bf9cb5c",
   "metadata": {
    "tags": []
   },
   "outputs": [
    {
     "data": {
      "text/plain": [
       "'\\n\\nBu yorum satırı\\n\\nÇok satırlıdır\\n\\nSadece bir satır yorum değil..\\n'"
      ]
     },
     "execution_count": 11,
     "metadata": {},
     "output_type": "execute_result"
    }
   ],
   "source": [
    "\"\"\"\n",
    "\n",
    "Bu yorum satırı\n",
    "\n",
    "Çok satırlıdır\n",
    "\n",
    "Sadece bir satır yorum değil..\n",
    "\"\"\""
   ]
  },
  {
   "cell_type": "code",
   "execution_count": 20,
   "id": "a90ed0b1-e830-4a8e-a8a3-fbd893d45235",
   "metadata": {
    "tags": []
   },
   "outputs": [
    {
     "name": "stdout",
     "output_type": "stream",
     "text": [
      "Dünya bizim bugünümüz\n",
      "    Dünyamızı balina yutmasın,\n",
      "           Hep yerinde kalsın Dünyamız.\n"
     ]
    }
   ],
   "source": [
    "#Çözüm 5\n",
    "\n",
    "#1.yol\n",
    "\"\"\" \n",
    "Dünya bizim bugünümüz,\n",
    "    Dünyamızı balina yutmasın,\n",
    "            Hep yerinde kalsın Dünyamız.\n",
    "\"\"\"\n",
    "#2.yol\n",
    "\n",
    "print(\"Dünya bizim bugünümüz\")\n",
    "print('    Dünyamızı balina yutmasın,')\n",
    "print('           Hep yerinde kalsın Dünyamız.')\n",
    "\n",
    "    "
   ]
  },
  {
   "cell_type": "markdown",
   "id": "383b8686-5c26-42f0-8d45-069cf2dc6281",
   "metadata": {
    "tags": []
   },
   "source": [
    "### Python Değişkenler"
   ]
  },
  {
   "cell_type": "markdown",
   "id": "f3d591cc-84bd-4554-9f80-4fcec5ec78c9",
   "metadata": {},
   "source": [
    "İsmi araba_markasi olan bir değişken oluşturun ve bu değişkene volvo değerini atayın."
   ]
  },
  {
   "cell_type": "code",
   "execution_count": 22,
   "id": "7d41306c-f256-46b7-9abe-e69a3ca8a9fc",
   "metadata": {
    "tags": []
   },
   "outputs": [
    {
     "data": {
      "text/plain": [
       "'Volvo'"
      ]
     },
     "execution_count": 22,
     "metadata": {},
     "output_type": "execute_result"
    }
   ],
   "source": [
    "araba_markasi=\"Volvo\"\n",
    "araba_markasi"
   ]
  },
  {
   "cell_type": "markdown",
   "id": "67790828-c530-4439-98dd-399b300959e9",
   "metadata": {},
   "source": [
    "X adında bir değişken oluşturun ve değerini 50 olarak atayın."
   ]
  },
  {
   "cell_type": "code",
   "execution_count": 23,
   "id": "56baec43-39cf-414a-b4f5-2ec0293f4fa8",
   "metadata": {
    "tags": []
   },
   "outputs": [
    {
     "name": "stdout",
     "output_type": "stream",
     "text": [
      "50\n"
     ]
    }
   ],
   "source": [
    "x = 50\n",
    "print(x)"
   ]
  },
  {
   "cell_type": "markdown",
   "id": "9aeb47a1-907c-4ca9-bba8-17fb81bf420a",
   "metadata": {
    "tags": []
   },
   "source": [
    "x ve y adında iki değer oluşturun ve değerlerini 20 ve 80 olarak atayın.\n",
    "\n",
    "z adında bir değişken oluşturun, değerini x+y olarak atayın ve ekrana gösterin."
   ]
  },
  {
   "cell_type": "code",
   "execution_count": 24,
   "id": "2cb46dcf-42f9-42f8-8020-159a5dddac23",
   "metadata": {
    "tags": []
   },
   "outputs": [
    {
     "name": "stdout",
     "output_type": "stream",
     "text": [
      "20\n",
      "80\n"
     ]
    }
   ],
   "source": [
    "x = 20\n",
    "y = 80\n",
    "print(x)\n",
    "print(y)"
   ]
  },
  {
   "cell_type": "code",
   "execution_count": 26,
   "id": "c2b8a6d1-4333-4d8f-bb05-d12a23cea310",
   "metadata": {
    "tags": []
   },
   "outputs": [
    {
     "name": "stdout",
     "output_type": "stream",
     "text": [
      "100\n"
     ]
    }
   ],
   "source": [
    "z=x+y\n",
    "print(z)"
   ]
  },
  {
   "cell_type": "code",
   "execution_count": 27,
   "id": "f8c618c2-d969-4759-9402-6302336ac6bd",
   "metadata": {
    "tags": []
   },
   "outputs": [],
   "source": [
    "#Değişkenler numerik sayılarla başlayamz ve kelimeler arası alt çizgi olmalıdır."
   ]
  },
  {
   "cell_type": "markdown",
   "id": "36179cba-7f3f-4bd9-8d7d-0df5f6183d99",
   "metadata": {},
   "source": [
    "Üç değişkene aynı değeri tek seferde atamak için aşağıdaki boşlukları doldurun."
   ]
  },
  {
   "cell_type": "code",
   "execution_count": 28,
   "id": "4687d16c-f9e4-4089-82b5-19dd01378691",
   "metadata": {
    "tags": []
   },
   "outputs": [
    {
     "name": "stdout",
     "output_type": "stream",
     "text": [
      "Portakal\n",
      "Portakal\n",
      "Portakal\n"
     ]
    }
   ],
   "source": [
    "x = y = z = 'Portakal'\n",
    "print(x)\n",
    "print(y)\n",
    "print(z)"
   ]
  },
  {
   "cell_type": "code",
   "execution_count": null,
   "id": "300f0633-5078-4b8d-a69e-cff8309ca3ee",
   "metadata": {},
   "outputs": [],
   "source": []
  }
 ],
 "metadata": {
  "kernelspec": {
   "display_name": "Python 3 (ipykernel)",
   "language": "python",
   "name": "python3"
  },
  "language_info": {
   "codemirror_mode": {
    "name": "ipython",
    "version": 3
   },
   "file_extension": ".py",
   "mimetype": "text/x-python",
   "name": "python",
   "nbconvert_exporter": "python",
   "pygments_lexer": "ipython3",
   "version": "3.11.4"
  }
 },
 "nbformat": 4,
 "nbformat_minor": 5
}
