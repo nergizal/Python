{
 "cells": [
  {
   "cell_type": "markdown",
   "id": "3c3bb06e-89fc-444d-a90b-74e9caa45349",
   "metadata": {},
   "source": [
    "### List Comprehension"
   ]
  },
  {
   "cell_type": "code",
   "execution_count": 1,
   "id": "67656419-7da6-4eec-8213-fb30df213bfd",
   "metadata": {
    "tags": []
   },
   "outputs": [],
   "source": [
    "salaries= [1000,2000,3000,4000,5000]"
   ]
  },
  {
   "cell_type": "code",
   "execution_count": 2,
   "id": "def057fb-e22a-429d-a171-f331ff2ea418",
   "metadata": {
    "tags": []
   },
   "outputs": [],
   "source": [
    "def new_salary(x):\n",
    "    return x*20/100+x"
   ]
  },
  {
   "cell_type": "code",
   "execution_count": 3,
   "id": "6c0f603d-12f3-465a-b9ed-70f8e341492e",
   "metadata": {
    "tags": []
   },
   "outputs": [
    {
     "name": "stdout",
     "output_type": "stream",
     "text": [
      "1200.0\n",
      "2400.0\n",
      "3600.0\n",
      "4800.0\n",
      "6000.0\n"
     ]
    }
   ],
   "source": [
    "for salary in salaries:\n",
    "    print(new_salary(salary))"
   ]
  },
  {
   "cell_type": "code",
   "execution_count": 8,
   "id": "1b31e23d-d6a0-404c-87af-37dcf1a9e693",
   "metadata": {
    "tags": []
   },
   "outputs": [],
   "source": [
    "null_list=[]\n"
   ]
  },
  {
   "cell_type": "code",
   "execution_count": 9,
   "id": "4d4b6dcc-12cf-4c7f-8905-f6f49232b6ee",
   "metadata": {
    "tags": []
   },
   "outputs": [],
   "source": [
    "for salary in salaries:\n",
    "    null_list.append(new_salary(salary))"
   ]
  },
  {
   "cell_type": "code",
   "execution_count": null,
   "id": "1c485658-f85d-4558-95b6-5c05c8c9ee22",
   "metadata": {},
   "outputs": [],
   "source": []
  },
  {
   "cell_type": "code",
   "execution_count": 10,
   "id": "46e45b69-8729-4a43-8c8e-09461362fe01",
   "metadata": {
    "tags": []
   },
   "outputs": [
    {
     "data": {
      "text/plain": [
       "[1200.0, 2400.0, 3600.0, 4800.0, 6000.0]"
      ]
     },
     "execution_count": 10,
     "metadata": {},
     "output_type": "execute_result"
    }
   ],
   "source": [
    "null_list"
   ]
  },
  {
   "cell_type": "code",
   "execution_count": 16,
   "id": "bcf078ff-1ae4-4ca3-bd13-6e877c7de4f3",
   "metadata": {
    "tags": []
   },
   "outputs": [],
   "source": [
    "null_list=[]"
   ]
  },
  {
   "cell_type": "code",
   "execution_count": 18,
   "id": "faafbec7-f9a3-4019-8fb2-28527cf0e6f0",
   "metadata": {
    "tags": []
   },
   "outputs": [],
   "source": [
    "for salary in salaries:\n",
    "    if salary>3000:\n",
    "        null_list.append(new_salary(salary))\n",
    "    else:\n",
    "        null_list.append(new_salary(salary*2))"
   ]
  },
  {
   "cell_type": "code",
   "execution_count": 19,
   "id": "bd7d781e-8ef0-49fc-9ad6-412975df8235",
   "metadata": {
    "tags": []
   },
   "outputs": [
    {
     "data": {
      "text/plain": [
       "[2400.0, 4800.0, 7200.0, 4800.0, 6000.0]"
      ]
     },
     "execution_count": 19,
     "metadata": {},
     "output_type": "execute_result"
    }
   ],
   "source": [
    "null_list"
   ]
  },
  {
   "cell_type": "code",
   "execution_count": 23,
   "id": "9e6e8a9e-8095-4ea2-8605-0e52c4028704",
   "metadata": {
    "tags": []
   },
   "outputs": [
    {
     "data": {
      "text/plain": [
       "[2400.0, 4800.0, 3600.0, 4800.0, 6000.0]"
      ]
     },
     "execution_count": 23,
     "metadata": {},
     "output_type": "execute_result"
    }
   ],
   "source": [
    "[new_salary(salary*2) if salary<3000 else new_salary(salary) for salary in salaries]"
   ]
  },
  {
   "cell_type": "markdown",
   "id": "4216d948-f713-4bdf-b0de-76c92d08ec05",
   "metadata": {},
   "source": [
    "Tek başına bir if kullanacaksak bu en sağda olur ama if -elsd beraber kullanacaksak for en sonda olur"
   ]
  },
  {
   "cell_type": "markdown",
   "id": "1a929475-b71b-428e-90e3-eb6def5606e2",
   "metadata": {},
   "source": [
    "### Dict Comprehension"
   ]
  },
  {
   "cell_type": "code",
   "execution_count": 24,
   "id": "cf5b8e4c-9af8-4a3c-89f8-16889670701c",
   "metadata": {
    "tags": []
   },
   "outputs": [],
   "source": [
    "dictionary={'a':1,\n",
    "            'b':2,\n",
    "            'c':3,\n",
    "            'd':4}"
   ]
  },
  {
   "cell_type": "code",
   "execution_count": 25,
   "id": "ac953b70-0d9d-41e0-bcc8-6a8a01f40b94",
   "metadata": {
    "tags": []
   },
   "outputs": [
    {
     "data": {
      "text/plain": [
       "dict_keys(['a', 'b', 'c', 'd'])"
      ]
     },
     "execution_count": 25,
     "metadata": {},
     "output_type": "execute_result"
    }
   ],
   "source": [
    "dictionary.keys()"
   ]
  },
  {
   "cell_type": "code",
   "execution_count": 26,
   "id": "e8a925dd-5c0e-4b2b-8aab-eaf91a517db7",
   "metadata": {
    "tags": []
   },
   "outputs": [
    {
     "data": {
      "text/plain": [
       "dict_values([1, 2, 3, 4])"
      ]
     },
     "execution_count": 26,
     "metadata": {},
     "output_type": "execute_result"
    }
   ],
   "source": [
    "dictionary.values()"
   ]
  },
  {
   "cell_type": "code",
   "execution_count": 27,
   "id": "d96d529d-93e0-49bc-a63d-fef56e18653c",
   "metadata": {
    "tags": []
   },
   "outputs": [
    {
     "data": {
      "text/plain": [
       "dict_items([('a', 1), ('b', 2), ('c', 3), ('d', 4)])"
      ]
     },
     "execution_count": 27,
     "metadata": {},
     "output_type": "execute_result"
    }
   ],
   "source": [
    "dictionary.items()"
   ]
  },
  {
   "cell_type": "code",
   "execution_count": 28,
   "id": "f407fe18-f28a-403b-8271-d9d799375b3e",
   "metadata": {
    "tags": []
   },
   "outputs": [
    {
     "data": {
      "text/plain": [
       "{'a': 1, 'b': 4, 'c': 9, 'd': 16}"
      ]
     },
     "execution_count": 28,
     "metadata": {},
     "output_type": "execute_result"
    }
   ],
   "source": [
    "{k: v**2 for(k,v) in dictionary.items()}"
   ]
  },
  {
   "cell_type": "code",
   "execution_count": 32,
   "id": "ff91a635-9a70-43d7-8737-c822c19f5657",
   "metadata": {
    "tags": []
   },
   "outputs": [
    {
     "data": {
      "text/plain": [
       "{'A': 1, 'B': 2, 'C': 3, 'D': 4}"
      ]
     },
     "execution_count": 32,
     "metadata": {},
     "output_type": "execute_result"
    }
   ],
   "source": [
    "{k.upper(): v for(k,v) in dictionary.items()}"
   ]
  },
  {
   "cell_type": "code",
   "execution_count": null,
   "id": "ca4d0873-7ebf-4a7d-bb1f-dbe89f0ce3a6",
   "metadata": {},
   "outputs": [],
   "source": []
  },
  {
   "cell_type": "markdown",
   "id": "a1591593-ecf2-4ac4-8b05-9ce096678541",
   "metadata": {},
   "source": [
    "Soru: çift sayıların karesi alınarak bir sözlüğe eklemek istiyoruz\n",
    "\n",
    "Key'ler orijinal değerler value'lar ise değiştirilmiş değerler olacak."
   ]
  },
  {
   "cell_type": "code",
   "execution_count": 33,
   "id": "54ce1ccb-cb4d-4fc8-95be-6738cd8416f8",
   "metadata": {
    "tags": []
   },
   "outputs": [],
   "source": [
    "numbers=range(10)"
   ]
  },
  {
   "cell_type": "code",
   "execution_count": 34,
   "id": "297259a9-b67d-4b18-b822-366787fc1c23",
   "metadata": {
    "tags": []
   },
   "outputs": [],
   "source": [
    "new_dict={}"
   ]
  },
  {
   "cell_type": "code",
   "execution_count": 35,
   "id": "2d5045a6-8a1a-4201-8cdf-7866d78f82fb",
   "metadata": {
    "tags": []
   },
   "outputs": [],
   "source": [
    "for n in numbers:\n",
    "    if n%2==0:\n",
    "        new_dict[n]=n**2"
   ]
  },
  {
   "cell_type": "code",
   "execution_count": 36,
   "id": "12339b35-8dd5-4d81-bcad-9ed193ff127d",
   "metadata": {
    "tags": []
   },
   "outputs": [
    {
     "data": {
      "text/plain": [
       "{0: 0, 2: 4, 4: 16, 6: 36, 8: 64}"
      ]
     },
     "execution_count": 36,
     "metadata": {},
     "output_type": "execute_result"
    }
   ],
   "source": [
    "new_dict"
   ]
  },
  {
   "cell_type": "code",
   "execution_count": 37,
   "id": "a01b0ca0-a322-41dc-8497-c1c69390a838",
   "metadata": {
    "tags": []
   },
   "outputs": [
    {
     "data": {
      "text/plain": [
       "{0: 0, 2: 4, 4: 16, 6: 36, 8: 64}"
      ]
     },
     "execution_count": 37,
     "metadata": {},
     "output_type": "execute_result"
    }
   ],
   "source": [
    "{n:n**2 for n in numbers if n %2==0}"
   ]
  },
  {
   "cell_type": "code",
   "execution_count": 38,
   "id": "22006b95-10b5-4ce6-b67c-cd997ff47df7",
   "metadata": {
    "tags": []
   },
   "outputs": [
    {
     "data": {
      "text/plain": [
       "{0: 0, 2: 4, 4: 16, 6: 36, 8: 64}"
      ]
     },
     "execution_count": 38,
     "metadata": {},
     "output_type": "execute_result"
    }
   ],
   "source": [
    "new_dict"
   ]
  },
  {
   "cell_type": "markdown",
   "id": "fb57c80c-e1da-4da1-81bb-fbcfd42aeaf9",
   "metadata": {},
   "source": [
    "### List & Dict Comprehension Uygulamalar"
   ]
  },
  {
   "cell_type": "code",
   "execution_count": 1,
   "id": "4e67a0dc-b655-4ca0-978b-32611281f5fd",
   "metadata": {
    "tags": []
   },
   "outputs": [],
   "source": [
    "# Bir veri Setindeki Değişken İsimlerini Değiştirmek"
   ]
  },
  {
   "cell_type": "code",
   "execution_count": 2,
   "id": "fd02d493-11d2-40b2-a569-ead0f4cabf8c",
   "metadata": {
    "tags": []
   },
   "outputs": [],
   "source": [
    "# before\n",
    "#['total', 'speeding', alchool', 'not_distracted', 'no_previous', 'ins_premium', 'ins_losses', 'abbrev']\n"
   ]
  },
  {
   "cell_type": "code",
   "execution_count": 3,
   "id": "3717ef93-630d-4351-a4a8-9a446282925d",
   "metadata": {
    "tags": []
   },
   "outputs": [],
   "source": [
    "#after\n",
    "# [ 'TOTAL', 'SPEEDING', 'ALCHOOL', 'NOT DISTRACTED', 'NO_PREVIOUS','INS_PREMIUM', INS_LOSSES', 'ABBREV']"
   ]
  },
  {
   "cell_type": "markdown",
   "id": "3767f5eb-c25c-4a46-aa71-340ded1c9b77",
   "metadata": {},
   "source": [
    "Dataframe ndeir pandas modülünün paketinin, kütüphanesinin bir veri yapısıdır. Birbirinden farklı tiplerdeki verileri tutma imkanı sağlar."
   ]
  },
  {
   "cell_type": "code",
   "execution_count": 5,
   "id": "cc5b03a8-7612-4520-ae44-c5ea20079657",
   "metadata": {
    "tags": []
   },
   "outputs": [
    {
     "data": {
      "text/plain": [
       "Index(['total', 'speeding', 'alcohol', 'not_distracted', 'no_previous',\n",
       "       'ins_premium', 'ins_losses', 'abbrev'],\n",
       "      dtype='object')"
      ]
     },
     "execution_count": 5,
     "metadata": {},
     "output_type": "execute_result"
    }
   ],
   "source": [
    "import seaborn as sns\n",
    "df= sns.load_dataset(\"car_crashes\")\n",
    "df.columns"
   ]
  },
  {
   "cell_type": "code",
   "execution_count": 6,
   "id": "515b5a36-ba9a-43f9-9f28-971f4a89173a",
   "metadata": {
    "tags": []
   },
   "outputs": [
    {
     "data": {
      "text/plain": [
       "Index(['total', 'speeding', 'alcohol', 'not_distracted', 'no_previous',\n",
       "       'ins_premium', 'ins_losses', 'abbrev'],\n",
       "      dtype='object')"
      ]
     },
     "execution_count": 6,
     "metadata": {},
     "output_type": "execute_result"
    }
   ],
   "source": [
    "df= sns.load_dataset(\"car_crashes\")\n",
    "df.columns"
   ]
  },
  {
   "cell_type": "code",
   "execution_count": 8,
   "id": "44364fae-a560-44c1-8c7e-5211209746cc",
   "metadata": {
    "tags": []
   },
   "outputs": [
    {
     "name": "stdout",
     "output_type": "stream",
     "text": [
      "total\n",
      "speeding\n",
      "alcohol\n",
      "not_distracted\n",
      "no_previous\n",
      "ins_premium\n",
      "ins_losses\n",
      "abbrev\n"
     ]
    }
   ],
   "source": [
    "for col in df.columns:\n",
    "    print(col)"
   ]
  },
  {
   "cell_type": "code",
   "execution_count": 9,
   "id": "3ce94703-4bf3-4920-9dbc-1f2849e67ae2",
   "metadata": {
    "tags": []
   },
   "outputs": [],
   "source": [
    "A = []"
   ]
  },
  {
   "cell_type": "code",
   "execution_count": 12,
   "id": "e38a9c30-3a39-4a18-bb67-df4cb82d0378",
   "metadata": {
    "tags": []
   },
   "outputs": [],
   "source": [
    "for col in df.columns: # liste içinde geziyorum\n",
    "    A.append(col.upper()) #gezdiğim listedeki elemanların ismini büyültüp append metoduyla A listesine ekliyorum."
   ]
  },
  {
   "cell_type": "code",
   "execution_count": 13,
   "id": "9b37a4b4-760c-4375-a6a3-95a70d27526f",
   "metadata": {
    "tags": []
   },
   "outputs": [
    {
     "data": {
      "text/plain": [
       "['TOTAL',\n",
       " 'SPEEDING',\n",
       " 'ALCOHOL',\n",
       " 'NOT_DISTRACTED',\n",
       " 'NO_PREVIOUS',\n",
       " 'INS_PREMIUM',\n",
       " 'INS_LOSSES',\n",
       " 'ABBREV',\n",
       " 'TOTAL',\n",
       " 'SPEEDING',\n",
       " 'ALCOHOL',\n",
       " 'NOT_DISTRACTED',\n",
       " 'NO_PREVIOUS',\n",
       " 'INS_PREMIUM',\n",
       " 'INS_LOSSES',\n",
       " 'ABBREV',\n",
       " 'TOTAL',\n",
       " 'SPEEDING',\n",
       " 'ALCOHOL',\n",
       " 'NOT_DISTRACTED',\n",
       " 'NO_PREVIOUS',\n",
       " 'INS_PREMIUM',\n",
       " 'INS_LOSSES',\n",
       " 'ABBREV']"
      ]
     },
     "execution_count": 13,
     "metadata": {},
     "output_type": "execute_result"
    }
   ],
   "source": [
    "A"
   ]
  },
  {
   "cell_type": "code",
   "execution_count": 17,
   "id": "71bb4672-3187-4f35-a397-9e221395b629",
   "metadata": {
    "tags": []
   },
   "outputs": [
    {
     "data": {
      "text/plain": [
       "Index(['total', 'speeding', 'alcohol', 'not_distracted', 'no_previous',\n",
       "       'ins_premium', 'ins_losses', 'abbrev'],\n",
       "      dtype='object')"
      ]
     },
     "execution_count": 17,
     "metadata": {},
     "output_type": "execute_result"
    }
   ],
   "source": [
    "df.columns"
   ]
  },
  {
   "cell_type": "code",
   "execution_count": 20,
   "id": "e2d3d4f9-39c6-48d6-abd4-b24a5772bee2",
   "metadata": {
    "tags": []
   },
   "outputs": [],
   "source": [
    "df= sns.load_dataset(\"car_crashes\")\n"
   ]
  },
  {
   "cell_type": "code",
   "execution_count": 21,
   "id": "63cd03d8-e212-4439-850e-b32eb34b5cc7",
   "metadata": {
    "tags": []
   },
   "outputs": [],
   "source": [
    "df.columns= [col.upper() for col in df.columns]"
   ]
  },
  {
   "cell_type": "code",
   "execution_count": 22,
   "id": "e755d63d-4f31-4fb5-ba91-019b2511349c",
   "metadata": {
    "tags": []
   },
   "outputs": [
    {
     "data": {
      "text/plain": [
       "Index(['TOTAL', 'SPEEDING', 'ALCOHOL', 'NOT_DISTRACTED', 'NO_PREVIOUS',\n",
       "       'INS_PREMIUM', 'INS_LOSSES', 'ABBREV'],\n",
       "      dtype='object')"
      ]
     },
     "execution_count": 22,
     "metadata": {},
     "output_type": "execute_result"
    }
   ],
   "source": [
    "df.columns"
   ]
  },
  {
   "cell_type": "code",
   "execution_count": 23,
   "id": "317797a2-7c01-4b03-a125-689c4ce019ae",
   "metadata": {
    "tags": []
   },
   "outputs": [],
   "source": [
    "# İsminde INS olan değişkenlerin başına FLAG diğerlerine NO_FLAG eklemek istiyoruz."
   ]
  },
  {
   "cell_type": "code",
   "execution_count": 25,
   "id": "7011cdc8-bfb5-4c66-bde9-7b0fddf0e15b",
   "metadata": {
    "tags": []
   },
   "outputs": [
    {
     "ename": "SyntaxError",
     "evalue": "invalid syntax (2098110257.py, line 1)",
     "output_type": "error",
     "traceback": [
      "\u001b[0;36m  Cell \u001b[0;32mIn[25], line 1\u001b[0;36m\u001b[0m\n\u001b[0;31m    [ col for in df.columns if \"INS\" in col]\u001b[0m\n\u001b[0m              ^\u001b[0m\n\u001b[0;31mSyntaxError\u001b[0m\u001b[0;31m:\u001b[0m invalid syntax\n"
     ]
    }
   ],
   "source": [
    "[ col for in df.columns if \"INS\" in col]\n"
   ]
  },
  {
   "cell_type": "code",
   "execution_count": 26,
   "id": "0fd504f8-dd48-4559-a461-98003b25d140",
   "metadata": {
    "tags": []
   },
   "outputs": [
    {
     "data": {
      "text/plain": [
       "['FLAG_INS_PREMIUM', 'FLAG_INS_LOSSES']"
      ]
     },
     "execution_count": 26,
     "metadata": {},
     "output_type": "execute_result"
    }
   ],
   "source": [
    "[\"FLAG_\" + col for col in df.columns if \"INS\" in col]"
   ]
  },
  {
   "cell_type": "code",
   "execution_count": 27,
   "id": "76e5496a-a4bb-4a3b-baf5-6dc169caca95",
   "metadata": {
    "tags": []
   },
   "outputs": [
    {
     "data": {
      "text/plain": [
       "['NO_FLAG_TOTAL',\n",
       " 'NO_FLAG_SPEEDING',\n",
       " 'NO_FLAG_ALCOHOL',\n",
       " 'NO_FLAG_NOT_DISTRACTED',\n",
       " 'NO_FLAG_NO_PREVIOUS',\n",
       " 'FLAG_INS_PREMIUM',\n",
       " 'FLAG_INS_LOSSES',\n",
       " 'NO_FLAG_ABBREV']"
      ]
     },
     "execution_count": 27,
     "metadata": {},
     "output_type": "execute_result"
    }
   ],
   "source": [
    "[\"FLAG_\" + col if \"INS\" in col else \"NO_FLAG_\" + col for col in df.columns]"
   ]
  },
  {
   "cell_type": "code",
   "execution_count": 28,
   "id": "e7f5b1f1-d61a-44b3-9de0-add2e06b6641",
   "metadata": {
    "tags": []
   },
   "outputs": [],
   "source": [
    "df.columns=[\"FLAG_\" + col if \"INS\" in col else \"NO_FLAG_\" + col for col in df.columns]"
   ]
  },
  {
   "cell_type": "code",
   "execution_count": 29,
   "id": "18979c98-d2b6-4a95-b683-fc4b52fb9710",
   "metadata": {
    "tags": []
   },
   "outputs": [
    {
     "data": {
      "text/plain": [
       "Index(['NO_FLAG_TOTAL', 'NO_FLAG_SPEEDING', 'NO_FLAG_ALCOHOL',\n",
       "       'NO_FLAG_NOT_DISTRACTED', 'NO_FLAG_NO_PREVIOUS', 'FLAG_INS_PREMIUM',\n",
       "       'FLAG_INS_LOSSES', 'NO_FLAG_ABBREV'],\n",
       "      dtype='object')"
      ]
     },
     "execution_count": 29,
     "metadata": {},
     "output_type": "execute_result"
    }
   ],
   "source": [
    "df.columns"
   ]
  },
  {
   "cell_type": "code",
   "execution_count": 36,
   "id": "470422da-4cf5-4438-ad99-e33fbc851f37",
   "metadata": {
    "tags": []
   },
   "outputs": [],
   "source": [
    "# Amaç key'i string, value'su aşağıdaki gibibir liste olan sözlük oluşturmak."
   ]
  },
  {
   "cell_type": "code",
   "execution_count": 36,
   "id": "2f06d14e-93af-4694-9725-de7c993ad04f",
   "metadata": {
    "tags": []
   },
   "outputs": [],
   "source": [
    "#Bu işlemi sadece sayısal veriler için yapmak istiyoruz"
   ]
  },
  {
   "cell_type": "code",
   "execution_count": 31,
   "id": "3380b93c-6241-4a87-bae6-d66ffdc0b412",
   "metadata": {
    "tags": []
   },
   "outputs": [],
   "source": [
    " #Output:\n",
    " #{'total':['mean','min', 'max','var'], \n",
    " #'speeding:['mean','min', 'max','var'],\n",
    " #'alchohol':['mean','min', 'max','var'], \n",
    " #'not_distracted:['mean','min', 'max','var'],\n",
    "#'no_previous':['mean','min', 'max','var'],\n",
    "#'ins_premium':['mean','min', 'max','var'],\n",
    "#'ins_losses':['mean','min', 'max','var']}\n"
   ]
  },
  {
   "cell_type": "code",
   "execution_count": 32,
   "id": "9566c5c8-60d2-47b6-8f25-ba34b8610676",
   "metadata": {
    "tags": []
   },
   "outputs": [],
   "source": [
    "import seaborn as sns\n"
   ]
  },
  {
   "cell_type": "code",
   "execution_count": 33,
   "id": "4999a0b7-281e-47a3-881b-91d06c58358b",
   "metadata": {
    "tags": []
   },
   "outputs": [],
   "source": [
    "df = sns.load_dataset(\"car_crashes\")"
   ]
  },
  {
   "cell_type": "code",
   "execution_count": 34,
   "id": "d1dcb900-15b1-492f-af61-fb28236d92ce",
   "metadata": {
    "tags": []
   },
   "outputs": [
    {
     "data": {
      "text/plain": [
       "Index(['total', 'speeding', 'alcohol', 'not_distracted', 'no_previous',\n",
       "       'ins_premium', 'ins_losses', 'abbrev'],\n",
       "      dtype='object')"
      ]
     },
     "execution_count": 34,
     "metadata": {},
     "output_type": "execute_result"
    }
   ],
   "source": [
    "df.columns"
   ]
  },
  {
   "cell_type": "code",
   "execution_count": 39,
   "id": "52bdc2c1-5aab-4f6d-a591-405d1febb22b",
   "metadata": {
    "tags": []
   },
   "outputs": [],
   "source": [
    "num_cols=[ col for col in df.columns if  df[col].dtype !=\"O\"]"
   ]
  },
  {
   "cell_type": "code",
   "execution_count": 38,
   "id": "f580f2e4-3379-4999-a489-48e0bc4ce9cd",
   "metadata": {
    "tags": []
   },
   "outputs": [
    {
     "data": {
      "text/plain": [
       "['total',\n",
       " 'speeding',\n",
       " 'alcohol',\n",
       " 'not_distracted',\n",
       " 'no_previous',\n",
       " 'ins_premium',\n",
       " 'ins_losses',\n",
       " 'abbrev']"
      ]
     },
     "execution_count": 38,
     "metadata": {},
     "output_type": "execute_result"
    }
   ],
   "source": [
    "num_cols"
   ]
  },
  {
   "cell_type": "code",
   "execution_count": 40,
   "id": "da2eed37-d13c-40ec-8fba-4fe686311ad3",
   "metadata": {
    "tags": []
   },
   "outputs": [],
   "source": [
    "soz={}"
   ]
  },
  {
   "cell_type": "code",
   "execution_count": 41,
   "id": "ababbf9e-9894-4a31-8156-002a92f715dc",
   "metadata": {
    "tags": []
   },
   "outputs": [],
   "source": [
    "agg_list= ['mean','min', 'max','sum']"
   ]
  },
  {
   "cell_type": "code",
   "execution_count": 42,
   "id": "ccb90f35-3778-46c5-aaff-d228ef557ed5",
   "metadata": {
    "tags": []
   },
   "outputs": [],
   "source": [
    "for col in num_cols:\n",
    "    soz[col] = agg_list"
   ]
  },
  {
   "cell_type": "code",
   "execution_count": 43,
   "id": "d5dbe358-78fd-4f82-9755-a93f2c90c8cf",
   "metadata": {
    "tags": []
   },
   "outputs": [
    {
     "data": {
      "text/plain": [
       "{'total': ['mean', 'min', 'max', 'sum'],\n",
       " 'speeding': ['mean', 'min', 'max', 'sum'],\n",
       " 'alcohol': ['mean', 'min', 'max', 'sum'],\n",
       " 'not_distracted': ['mean', 'min', 'max', 'sum'],\n",
       " 'no_previous': ['mean', 'min', 'max', 'sum'],\n",
       " 'ins_premium': ['mean', 'min', 'max', 'sum'],\n",
       " 'ins_losses': ['mean', 'min', 'max', 'sum']}"
      ]
     },
     "execution_count": 43,
     "metadata": {},
     "output_type": "execute_result"
    }
   ],
   "source": [
    "soz"
   ]
  },
  {
   "cell_type": "code",
   "execution_count": 50,
   "id": "82f4a9c7-301c-460d-b575-44f9617f9b9c",
   "metadata": {
    "tags": []
   },
   "outputs": [],
   "source": [
    "new_dict= {col: agg_list for col in num_cols}"
   ]
  },
  {
   "cell_type": "code",
   "execution_count": 44,
   "id": "7ae722b8-5a03-418e-9322-4a57c6f4d41d",
   "metadata": {
    "tags": []
   },
   "outputs": [],
   "source": [
    "#kısa yol"
   ]
  },
  {
   "cell_type": "code",
   "execution_count": 48,
   "id": "efda0d80-177a-4cef-8355-e3951ee2161c",
   "metadata": {
    "tags": []
   },
   "outputs": [
    {
     "data": {
      "text/html": [
       "<div>\n",
       "<style scoped>\n",
       "    .dataframe tbody tr th:only-of-type {\n",
       "        vertical-align: middle;\n",
       "    }\n",
       "\n",
       "    .dataframe tbody tr th {\n",
       "        vertical-align: top;\n",
       "    }\n",
       "\n",
       "    .dataframe thead th {\n",
       "        text-align: right;\n",
       "    }\n",
       "</style>\n",
       "<table border=\"1\" class=\"dataframe\">\n",
       "  <thead>\n",
       "    <tr style=\"text-align: right;\">\n",
       "      <th></th>\n",
       "      <th>total</th>\n",
       "      <th>speeding</th>\n",
       "      <th>alcohol</th>\n",
       "      <th>not_distracted</th>\n",
       "      <th>no_previous</th>\n",
       "      <th>ins_premium</th>\n",
       "      <th>ins_losses</th>\n",
       "    </tr>\n",
       "  </thead>\n",
       "  <tbody>\n",
       "    <tr>\n",
       "      <th>0</th>\n",
       "      <td>18.8</td>\n",
       "      <td>7.332</td>\n",
       "      <td>5.640</td>\n",
       "      <td>18.048</td>\n",
       "      <td>15.040</td>\n",
       "      <td>784.55</td>\n",
       "      <td>145.08</td>\n",
       "    </tr>\n",
       "    <tr>\n",
       "      <th>1</th>\n",
       "      <td>18.1</td>\n",
       "      <td>7.421</td>\n",
       "      <td>4.525</td>\n",
       "      <td>16.290</td>\n",
       "      <td>17.014</td>\n",
       "      <td>1053.48</td>\n",
       "      <td>133.93</td>\n",
       "    </tr>\n",
       "    <tr>\n",
       "      <th>2</th>\n",
       "      <td>18.6</td>\n",
       "      <td>6.510</td>\n",
       "      <td>5.208</td>\n",
       "      <td>15.624</td>\n",
       "      <td>17.856</td>\n",
       "      <td>899.47</td>\n",
       "      <td>110.35</td>\n",
       "    </tr>\n",
       "    <tr>\n",
       "      <th>3</th>\n",
       "      <td>22.4</td>\n",
       "      <td>4.032</td>\n",
       "      <td>5.824</td>\n",
       "      <td>21.056</td>\n",
       "      <td>21.280</td>\n",
       "      <td>827.34</td>\n",
       "      <td>142.39</td>\n",
       "    </tr>\n",
       "    <tr>\n",
       "      <th>4</th>\n",
       "      <td>12.0</td>\n",
       "      <td>4.200</td>\n",
       "      <td>3.360</td>\n",
       "      <td>10.920</td>\n",
       "      <td>10.680</td>\n",
       "      <td>878.41</td>\n",
       "      <td>165.63</td>\n",
       "    </tr>\n",
       "  </tbody>\n",
       "</table>\n",
       "</div>"
      ],
      "text/plain": [
       "   total  speeding  alcohol  not_distracted  no_previous  ins_premium  \\\n",
       "0   18.8     7.332    5.640          18.048       15.040       784.55   \n",
       "1   18.1     7.421    4.525          16.290       17.014      1053.48   \n",
       "2   18.6     6.510    5.208          15.624       17.856       899.47   \n",
       "3   22.4     4.032    5.824          21.056       21.280       827.34   \n",
       "4   12.0     4.200    3.360          10.920       10.680       878.41   \n",
       "\n",
       "   ins_losses  \n",
       "0      145.08  \n",
       "1      133.93  \n",
       "2      110.35  \n",
       "3      142.39  \n",
       "4      165.63  "
      ]
     },
     "execution_count": 48,
     "metadata": {},
     "output_type": "execute_result"
    }
   ],
   "source": [
    "df[num_cols].head()"
   ]
  },
  {
   "cell_type": "code",
   "execution_count": 51,
   "id": "57cb7031-15bd-432e-81e8-816df4f6d052",
   "metadata": {
    "tags": []
   },
   "outputs": [
    {
     "data": {
      "text/html": [
       "<div>\n",
       "<style scoped>\n",
       "    .dataframe tbody tr th:only-of-type {\n",
       "        vertical-align: middle;\n",
       "    }\n",
       "\n",
       "    .dataframe tbody tr th {\n",
       "        vertical-align: top;\n",
       "    }\n",
       "\n",
       "    .dataframe thead th {\n",
       "        text-align: right;\n",
       "    }\n",
       "</style>\n",
       "<table border=\"1\" class=\"dataframe\">\n",
       "  <thead>\n",
       "    <tr style=\"text-align: right;\">\n",
       "      <th></th>\n",
       "      <th>total</th>\n",
       "      <th>speeding</th>\n",
       "      <th>alcohol</th>\n",
       "      <th>not_distracted</th>\n",
       "      <th>no_previous</th>\n",
       "      <th>ins_premium</th>\n",
       "      <th>ins_losses</th>\n",
       "    </tr>\n",
       "  </thead>\n",
       "  <tbody>\n",
       "    <tr>\n",
       "      <th>mean</th>\n",
       "      <td>15.790196</td>\n",
       "      <td>4.998196</td>\n",
       "      <td>4.886784</td>\n",
       "      <td>13.573176</td>\n",
       "      <td>14.004882</td>\n",
       "      <td>886.957647</td>\n",
       "      <td>134.493137</td>\n",
       "    </tr>\n",
       "    <tr>\n",
       "      <th>min</th>\n",
       "      <td>5.900000</td>\n",
       "      <td>1.792000</td>\n",
       "      <td>1.593000</td>\n",
       "      <td>1.760000</td>\n",
       "      <td>5.900000</td>\n",
       "      <td>641.960000</td>\n",
       "      <td>82.750000</td>\n",
       "    </tr>\n",
       "    <tr>\n",
       "      <th>max</th>\n",
       "      <td>23.900000</td>\n",
       "      <td>9.450000</td>\n",
       "      <td>10.038000</td>\n",
       "      <td>23.661000</td>\n",
       "      <td>21.280000</td>\n",
       "      <td>1301.520000</td>\n",
       "      <td>194.780000</td>\n",
       "    </tr>\n",
       "    <tr>\n",
       "      <th>sum</th>\n",
       "      <td>805.300000</td>\n",
       "      <td>254.908000</td>\n",
       "      <td>249.226000</td>\n",
       "      <td>692.232000</td>\n",
       "      <td>714.249000</td>\n",
       "      <td>45234.840000</td>\n",
       "      <td>6859.150000</td>\n",
       "    </tr>\n",
       "  </tbody>\n",
       "</table>\n",
       "</div>"
      ],
      "text/plain": [
       "           total    speeding     alcohol  not_distracted  no_previous  \\\n",
       "mean   15.790196    4.998196    4.886784       13.573176    14.004882   \n",
       "min     5.900000    1.792000    1.593000        1.760000     5.900000   \n",
       "max    23.900000    9.450000   10.038000       23.661000    21.280000   \n",
       "sum   805.300000  254.908000  249.226000      692.232000   714.249000   \n",
       "\n",
       "       ins_premium   ins_losses  \n",
       "mean    886.957647   134.493137  \n",
       "min     641.960000    82.750000  \n",
       "max    1301.520000   194.780000  \n",
       "sum   45234.840000  6859.150000  "
      ]
     },
     "execution_count": 51,
     "metadata": {},
     "output_type": "execute_result"
    }
   ],
   "source": [
    "df[num_cols].agg(new_dict)"
   ]
  },
  {
   "cell_type": "code",
   "execution_count": null,
   "id": "9fc2fc65-a4fb-48dd-96a0-ad9d64bd85a1",
   "metadata": {},
   "outputs": [],
   "source": []
  }
 ],
 "metadata": {
  "kernelspec": {
   "display_name": "Python 3 (ipykernel)",
   "language": "python",
   "name": "python3"
  },
  "language_info": {
   "codemirror_mode": {
    "name": "ipython",
    "version": 3
   },
   "file_extension": ".py",
   "mimetype": "text/x-python",
   "name": "python",
   "nbconvert_exporter": "python",
   "pygments_lexer": "ipython3",
   "version": "3.11.4"
  }
 },
 "nbformat": 4,
 "nbformat_minor": 5
}
