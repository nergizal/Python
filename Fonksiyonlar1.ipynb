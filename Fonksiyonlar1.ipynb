{
 "cells": [
  {
   "cell_type": "code",
   "execution_count": null,
   "id": "0f95286f-9a8b-4eb3-9430-a9c14b446d63",
   "metadata": {},
   "outputs": [],
   "source": [
    "## Fonksiyonlar 1"
   ]
  },
  {
   "cell_type": "markdown",
   "id": "635ec1e6-db15-4d2d-b67b-54e0ef106212",
   "metadata": {
    "tags": []
   },
   "source": [
    "**Fonksiyon:** belli bir işlevi yerine getirmek için yazılmış özel kod parçasıdır."
   ]
  },
  {
   "cell_type": "markdown",
   "id": "d032e77c-306c-469a-9592-d1ce078b3018",
   "metadata": {},
   "source": [
    "Fonksiyon, çağırıldığı zaman çalışır."
   ]
  },
  {
   "cell_type": "markdown",
   "id": "e4b9b02d-4373-4443-85e2-81f66233af92",
   "metadata": {},
   "source": [
    "\n",
    "Fonksiyonlar isteğe göre parametre(girdiler) alabilirler."
   ]
  },
  {
   "cell_type": "markdown",
   "id": "e6484bb7-2b2c-4164-9e0d-dd34df1b8a45",
   "metadata": {
    "tags": []
   },
   "source": [
    "Fonksiyonlar isteğe göre geriye bir değer dönebilirler."
   ]
  },
  {
   "cell_type": "markdown",
   "id": "f41f1d2d-6416-491d-8254-4d59ec19bbe6",
   "metadata": {},
   "source": [
    "Fonksiyon Çağırma:\n",
    "\n",
    "**fonksiyon_adi()** fonksiyon adını yazıp parantezi kapattığımmızda fonksiyonu çağırmış oluyoruz.\n",
    "\n"
   ]
  },
  {
   "cell_type": "markdown",
   "id": "712210c1-cba9-4b7a-88c2-dcf46203e404",
   "metadata": {},
   "source": [
    "Parametre ile fonksiyon çağırma:\n",
    "\n",
    "\n",
    "**fonksiyon_adi(parametre_1, parametre_2, ... )**"
   ]
  },
  {
   "cell_type": "markdown",
   "id": "89ef4428-5031-4def-99e9-90bc404916f4",
   "metadata": {},
   "source": [
    "Fonksiyonlar kod tekrarını önler."
   ]
  },
  {
   "cell_type": "code",
   "execution_count": 4,
   "id": "5b595bfa-85a5-461c-93af-5fcd12b74622",
   "metadata": {
    "tags": []
   },
   "outputs": [
    {
     "data": {
      "text/plain": [
       "int"
      ]
     },
     "execution_count": 4,
     "metadata": {},
     "output_type": "execute_result"
    }
   ],
   "source": [
    "# type\n",
    "\n",
    "type(42)"
   ]
  },
  {
   "cell_type": "code",
   "execution_count": 6,
   "id": "a93d9462-2686-4bb3-8463-b4c77905d5f8",
   "metadata": {
    "tags": []
   },
   "outputs": [
    {
     "data": {
      "text/plain": [
       "str"
      ]
     },
     "execution_count": 6,
     "metadata": {},
     "output_type": "execute_result"
    }
   ],
   "source": [
    "type(\"güzel bir metin\")"
   ]
  },
  {
   "cell_type": "code",
   "execution_count": 7,
   "id": "6cf72fb7-d93a-4469-81e1-e7fe4cacecc3",
   "metadata": {
    "tags": []
   },
   "outputs": [
    {
     "data": {
      "text/plain": [
       "str"
      ]
     },
     "execution_count": 7,
     "metadata": {},
     "output_type": "execute_result"
    }
   ],
   "source": [
    "type(\"AI\")"
   ]
  },
  {
   "cell_type": "code",
   "execution_count": 8,
   "id": "8b0f3bae-73a0-4d51-a01e-bcb8a193b66c",
   "metadata": {
    "tags": []
   },
   "outputs": [
    {
     "data": {
      "text/plain": [
       "5"
      ]
     },
     "execution_count": 8,
     "metadata": {},
     "output_type": "execute_result"
    }
   ],
   "source": [
    "int(5.68)"
   ]
  },
  {
   "cell_type": "code",
   "execution_count": 9,
   "id": "fb22e727-b673-4932-9cf4-87f5bd3039b0",
   "metadata": {
    "tags": []
   },
   "outputs": [
    {
     "ename": "ValueError",
     "evalue": "invalid literal for int() with base 10: 'değer'",
     "output_type": "error",
     "traceback": [
      "\u001b[0;31m---------------------------------------------------------------------------\u001b[0m",
      "\u001b[0;31mValueError\u001b[0m                                Traceback (most recent call last)",
      "Cell \u001b[0;32mIn[9], line 1\u001b[0m\n\u001b[0;32m----> 1\u001b[0m \u001b[38;5;28mint\u001b[39m(\u001b[38;5;124m'\u001b[39m\u001b[38;5;124mdeğer\u001b[39m\u001b[38;5;124m'\u001b[39m)\n",
      "\u001b[0;31mValueError\u001b[0m: invalid literal for int() with base 10: 'değer'"
     ]
    }
   ],
   "source": [
    "int('değer')"
   ]
  },
  {
   "cell_type": "code",
   "execution_count": 10,
   "id": "09dc82ff-96f8-4f9f-b938-253e009d18e1",
   "metadata": {
    "tags": []
   },
   "outputs": [
    {
     "data": {
      "text/plain": [
       "82"
      ]
     },
     "execution_count": 10,
     "metadata": {},
     "output_type": "execute_result"
    }
   ],
   "source": [
    "int('82')"
   ]
  },
  {
   "cell_type": "code",
   "execution_count": 12,
   "id": "b70ae748-e937-4ea3-aee3-ce990f2fc387",
   "metadata": {
    "tags": []
   },
   "outputs": [
    {
     "data": {
      "text/plain": [
       "'45'"
      ]
     },
     "execution_count": 12,
     "metadata": {},
     "output_type": "execute_result"
    }
   ],
   "source": [
    "str(45)"
   ]
  },
  {
   "cell_type": "code",
   "execution_count": 13,
   "id": "7cd5c14f-5eaa-4707-89b6-461e5254d8e7",
   "metadata": {
    "tags": []
   },
   "outputs": [
    {
     "data": {
      "text/plain": [
       "'4.57'"
      ]
     },
     "execution_count": 13,
     "metadata": {},
     "output_type": "execute_result"
    }
   ],
   "source": [
    "str(4.57)"
   ]
  },
  {
   "cell_type": "code",
   "execution_count": 14,
   "id": "76382432-eb43-40bc-99ac-6cfe151ff94f",
   "metadata": {
    "tags": []
   },
   "outputs": [
    {
     "data": {
      "text/plain": [
       "'Ankara'"
      ]
     },
     "execution_count": 14,
     "metadata": {},
     "output_type": "execute_result"
    }
   ],
   "source": [
    "str('Ankara')"
   ]
  },
  {
   "cell_type": "code",
   "execution_count": 15,
   "id": "386960ec-f13f-4689-8830-6628bc4c1c06",
   "metadata": {
    "tags": []
   },
   "outputs": [
    {
     "data": {
      "text/plain": [
       "12.0"
      ]
     },
     "execution_count": 15,
     "metadata": {},
     "output_type": "execute_result"
    }
   ],
   "source": [
    "float(12)"
   ]
  },
  {
   "cell_type": "code",
   "execution_count": 17,
   "id": "55aa9268-bd2d-4661-9262-97adc2aa72da",
   "metadata": {
    "tags": []
   },
   "outputs": [
    {
     "data": {
      "text/plain": [
       "4.0"
      ]
     },
     "execution_count": 17,
     "metadata": {},
     "output_type": "execute_result"
    }
   ],
   "source": [
    "float('4')"
   ]
  },
  {
   "cell_type": "code",
   "execution_count": 19,
   "id": "ce99ed7f-ed18-40f3-8916-d4c3b6fc6ff3",
   "metadata": {
    "tags": []
   },
   "outputs": [
    {
     "data": {
      "text/plain": [
       "78.0"
      ]
     },
     "execution_count": 19,
     "metadata": {},
     "output_type": "execute_result"
    }
   ],
   "source": [
    "sayi='78'\n",
    "float(sayi)"
   ]
  },
  {
   "cell_type": "code",
   "execution_count": 20,
   "id": "5f4a9908-07df-4bcc-8422-43ad7ba38af6",
   "metadata": {
    "tags": []
   },
   "outputs": [],
   "source": [
    "sayi = '78-'"
   ]
  },
  {
   "cell_type": "code",
   "execution_count": 21,
   "id": "8c821302-038d-44e4-88e9-ef201f482106",
   "metadata": {
    "tags": []
   },
   "outputs": [
    {
     "ename": "ValueError",
     "evalue": "could not convert string to float: '78-'",
     "output_type": "error",
     "traceback": [
      "\u001b[0;31m---------------------------------------------------------------------------\u001b[0m",
      "\u001b[0;31mValueError\u001b[0m                                Traceback (most recent call last)",
      "Cell \u001b[0;32mIn[21], line 1\u001b[0m\n\u001b[0;32m----> 1\u001b[0m \u001b[38;5;28mfloat\u001b[39m(sayi)\n",
      "\u001b[0;31mValueError\u001b[0m: could not convert string to float: '78-'"
     ]
    }
   ],
   "source": [
    "float(sayi)"
   ]
  },
  {
   "cell_type": "markdown",
   "id": "d04402f9-f032-4a99-add7-7978a1647377",
   "metadata": {},
   "source": [
    "## Matemaitk Fonksiyonlar (Math)"
   ]
  },
  {
   "cell_type": "markdown",
   "id": "8ea13bc0-c19e-4f42-a3ca-19a35c4b8f51",
   "metadata": {},
   "source": [
    "Matematiksel işlemleri yapmak için  Python'da **math modülü** kullanılır"
   ]
  },
  {
   "cell_type": "markdown",
   "id": "9860d64f-c4fd-40bf-bcb9-7c6353298c57",
   "metadata": {},
   "source": [
    "**Modül:** birbiriyle ilgili fonksiyonları ve dosyaları bir arada tutan kümelerdir."
   ]
  },
  {
   "cell_type": "code",
   "execution_count": 22,
   "id": "82e47134-e65e-46d9-b104-5057c98e0b77",
   "metadata": {
    "tags": []
   },
   "outputs": [],
   "source": [
    "#math modülü içeri nasıl alınır\n",
    "\n",
    "import math"
   ]
  },
  {
   "cell_type": "code",
   "execution_count": 24,
   "id": "ebe8828d-0080-4b06-83d2-513f8237f0af",
   "metadata": {
    "tags": []
   },
   "outputs": [
    {
     "name": "stdout",
     "output_type": "stream",
     "text": [
      "<module 'math' from '/Users/nergizalici/anaconda3/lib/python3.11/lib-dynload/math.cpython-311-darwin.so'>\n"
     ]
    }
   ],
   "source": [
    "#math modülünü görelim\n",
    "print(math)"
   ]
  },
  {
   "cell_type": "code",
   "execution_count": 25,
   "id": "ca05f361-9b2d-4d97-aa61-31b9a672aa15",
   "metadata": {
    "collapsed": true,
    "jupyter": {
     "outputs_hidden": true,
     "source_hidden": true
    },
    "tags": []
   },
   "outputs": [
    {
     "name": "stdout",
     "output_type": "stream",
     "text": [
      "Help on module math:\n",
      "\n",
      "NAME\n",
      "    math\n",
      "\n",
      "MODULE REFERENCE\n",
      "    https://docs.python.org/3.11/library/math.html\n",
      "    \n",
      "    The following documentation is automatically generated from the Python\n",
      "    source files.  It may be incomplete, incorrect or include features that\n",
      "    are considered implementation detail and may vary between Python\n",
      "    implementations.  When in doubt, consult the module reference at the\n",
      "    location listed above.\n",
      "\n",
      "DESCRIPTION\n",
      "    This module provides access to the mathematical functions\n",
      "    defined by the C standard.\n",
      "\n",
      "FUNCTIONS\n",
      "    acos(x, /)\n",
      "        Return the arc cosine (measured in radians) of x.\n",
      "        \n",
      "        The result is between 0 and pi.\n",
      "    \n",
      "    acosh(x, /)\n",
      "        Return the inverse hyperbolic cosine of x.\n",
      "    \n",
      "    asin(x, /)\n",
      "        Return the arc sine (measured in radians) of x.\n",
      "        \n",
      "        The result is between -pi/2 and pi/2.\n",
      "    \n",
      "    asinh(x, /)\n",
      "        Return the inverse hyperbolic sine of x.\n",
      "    \n",
      "    atan(x, /)\n",
      "        Return the arc tangent (measured in radians) of x.\n",
      "        \n",
      "        The result is between -pi/2 and pi/2.\n",
      "    \n",
      "    atan2(y, x, /)\n",
      "        Return the arc tangent (measured in radians) of y/x.\n",
      "        \n",
      "        Unlike atan(y/x), the signs of both x and y are considered.\n",
      "    \n",
      "    atanh(x, /)\n",
      "        Return the inverse hyperbolic tangent of x.\n",
      "    \n",
      "    cbrt(x, /)\n",
      "        Return the cube root of x.\n",
      "    \n",
      "    ceil(x, /)\n",
      "        Return the ceiling of x as an Integral.\n",
      "        \n",
      "        This is the smallest integer >= x.\n",
      "    \n",
      "    comb(n, k, /)\n",
      "        Number of ways to choose k items from n items without repetition and without order.\n",
      "        \n",
      "        Evaluates to n! / (k! * (n - k)!) when k <= n and evaluates\n",
      "        to zero when k > n.\n",
      "        \n",
      "        Also called the binomial coefficient because it is equivalent\n",
      "        to the coefficient of k-th term in polynomial expansion of the\n",
      "        expression (1 + x)**n.\n",
      "        \n",
      "        Raises TypeError if either of the arguments are not integers.\n",
      "        Raises ValueError if either of the arguments are negative.\n",
      "    \n",
      "    copysign(x, y, /)\n",
      "        Return a float with the magnitude (absolute value) of x but the sign of y.\n",
      "        \n",
      "        On platforms that support signed zeros, copysign(1.0, -0.0)\n",
      "        returns -1.0.\n",
      "    \n",
      "    cos(x, /)\n",
      "        Return the cosine of x (measured in radians).\n",
      "    \n",
      "    cosh(x, /)\n",
      "        Return the hyperbolic cosine of x.\n",
      "    \n",
      "    degrees(x, /)\n",
      "        Convert angle x from radians to degrees.\n",
      "    \n",
      "    dist(p, q, /)\n",
      "        Return the Euclidean distance between two points p and q.\n",
      "        \n",
      "        The points should be specified as sequences (or iterables) of\n",
      "        coordinates.  Both inputs must have the same dimension.\n",
      "        \n",
      "        Roughly equivalent to:\n",
      "            sqrt(sum((px - qx) ** 2.0 for px, qx in zip(p, q)))\n",
      "    \n",
      "    erf(x, /)\n",
      "        Error function at x.\n",
      "    \n",
      "    erfc(x, /)\n",
      "        Complementary error function at x.\n",
      "    \n",
      "    exp(x, /)\n",
      "        Return e raised to the power of x.\n",
      "    \n",
      "    exp2(x, /)\n",
      "        Return 2 raised to the power of x.\n",
      "    \n",
      "    expm1(x, /)\n",
      "        Return exp(x)-1.\n",
      "        \n",
      "        This function avoids the loss of precision involved in the direct evaluation of exp(x)-1 for small x.\n",
      "    \n",
      "    fabs(x, /)\n",
      "        Return the absolute value of the float x.\n",
      "    \n",
      "    factorial(n, /)\n",
      "        Find n!.\n",
      "        \n",
      "        Raise a ValueError if x is negative or non-integral.\n",
      "    \n",
      "    floor(x, /)\n",
      "        Return the floor of x as an Integral.\n",
      "        \n",
      "        This is the largest integer <= x.\n",
      "    \n",
      "    fmod(x, y, /)\n",
      "        Return fmod(x, y), according to platform C.\n",
      "        \n",
      "        x % y may differ.\n",
      "    \n",
      "    frexp(x, /)\n",
      "        Return the mantissa and exponent of x, as pair (m, e).\n",
      "        \n",
      "        m is a float and e is an int, such that x = m * 2.**e.\n",
      "        If x is 0, m and e are both 0.  Else 0.5 <= abs(m) < 1.0.\n",
      "    \n",
      "    fsum(seq, /)\n",
      "        Return an accurate floating point sum of values in the iterable seq.\n",
      "        \n",
      "        Assumes IEEE-754 floating point arithmetic.\n",
      "    \n",
      "    gamma(x, /)\n",
      "        Gamma function at x.\n",
      "    \n",
      "    gcd(*integers)\n",
      "        Greatest Common Divisor.\n",
      "    \n",
      "    hypot(...)\n",
      "        hypot(*coordinates) -> value\n",
      "        \n",
      "        Multidimensional Euclidean distance from the origin to a point.\n",
      "        \n",
      "        Roughly equivalent to:\n",
      "            sqrt(sum(x**2 for x in coordinates))\n",
      "        \n",
      "        For a two dimensional point (x, y), gives the hypotenuse\n",
      "        using the Pythagorean theorem:  sqrt(x*x + y*y).\n",
      "        \n",
      "        For example, the hypotenuse of a 3/4/5 right triangle is:\n",
      "        \n",
      "            >>> hypot(3.0, 4.0)\n",
      "            5.0\n",
      "    \n",
      "    isclose(a, b, *, rel_tol=1e-09, abs_tol=0.0)\n",
      "        Determine whether two floating point numbers are close in value.\n",
      "        \n",
      "          rel_tol\n",
      "            maximum difference for being considered \"close\", relative to the\n",
      "            magnitude of the input values\n",
      "          abs_tol\n",
      "            maximum difference for being considered \"close\", regardless of the\n",
      "            magnitude of the input values\n",
      "        \n",
      "        Return True if a is close in value to b, and False otherwise.\n",
      "        \n",
      "        For the values to be considered close, the difference between them\n",
      "        must be smaller than at least one of the tolerances.\n",
      "        \n",
      "        -inf, inf and NaN behave similarly to the IEEE 754 Standard.  That\n",
      "        is, NaN is not close to anything, even itself.  inf and -inf are\n",
      "        only close to themselves.\n",
      "    \n",
      "    isfinite(x, /)\n",
      "        Return True if x is neither an infinity nor a NaN, and False otherwise.\n",
      "    \n",
      "    isinf(x, /)\n",
      "        Return True if x is a positive or negative infinity, and False otherwise.\n",
      "    \n",
      "    isnan(x, /)\n",
      "        Return True if x is a NaN (not a number), and False otherwise.\n",
      "    \n",
      "    isqrt(n, /)\n",
      "        Return the integer part of the square root of the input.\n",
      "    \n",
      "    lcm(*integers)\n",
      "        Least Common Multiple.\n",
      "    \n",
      "    ldexp(x, i, /)\n",
      "        Return x * (2**i).\n",
      "        \n",
      "        This is essentially the inverse of frexp().\n",
      "    \n",
      "    lgamma(x, /)\n",
      "        Natural logarithm of absolute value of Gamma function at x.\n",
      "    \n",
      "    log(...)\n",
      "        log(x, [base=math.e])\n",
      "        Return the logarithm of x to the given base.\n",
      "        \n",
      "        If the base not specified, returns the natural logarithm (base e) of x.\n",
      "    \n",
      "    log10(x, /)\n",
      "        Return the base 10 logarithm of x.\n",
      "    \n",
      "    log1p(x, /)\n",
      "        Return the natural logarithm of 1+x (base e).\n",
      "        \n",
      "        The result is computed in a way which is accurate for x near zero.\n",
      "    \n",
      "    log2(x, /)\n",
      "        Return the base 2 logarithm of x.\n",
      "    \n",
      "    modf(x, /)\n",
      "        Return the fractional and integer parts of x.\n",
      "        \n",
      "        Both results carry the sign of x and are floats.\n",
      "    \n",
      "    nextafter(x, y, /)\n",
      "        Return the next floating-point value after x towards y.\n",
      "    \n",
      "    perm(n, k=None, /)\n",
      "        Number of ways to choose k items from n items without repetition and with order.\n",
      "        \n",
      "        Evaluates to n! / (n - k)! when k <= n and evaluates\n",
      "        to zero when k > n.\n",
      "        \n",
      "        If k is not specified or is None, then k defaults to n\n",
      "        and the function returns n!.\n",
      "        \n",
      "        Raises TypeError if either of the arguments are not integers.\n",
      "        Raises ValueError if either of the arguments are negative.\n",
      "    \n",
      "    pow(x, y, /)\n",
      "        Return x**y (x to the power of y).\n",
      "    \n",
      "    prod(iterable, /, *, start=1)\n",
      "        Calculate the product of all the elements in the input iterable.\n",
      "        \n",
      "        The default start value for the product is 1.\n",
      "        \n",
      "        When the iterable is empty, return the start value.  This function is\n",
      "        intended specifically for use with numeric values and may reject\n",
      "        non-numeric types.\n",
      "    \n",
      "    radians(x, /)\n",
      "        Convert angle x from degrees to radians.\n",
      "    \n",
      "    remainder(x, y, /)\n",
      "        Difference between x and the closest integer multiple of y.\n",
      "        \n",
      "        Return x - n*y where n*y is the closest integer multiple of y.\n",
      "        In the case where x is exactly halfway between two multiples of\n",
      "        y, the nearest even value of n is used. The result is always exact.\n",
      "    \n",
      "    sin(x, /)\n",
      "        Return the sine of x (measured in radians).\n",
      "    \n",
      "    sinh(x, /)\n",
      "        Return the hyperbolic sine of x.\n",
      "    \n",
      "    sqrt(x, /)\n",
      "        Return the square root of x.\n",
      "    \n",
      "    tan(x, /)\n",
      "        Return the tangent of x (measured in radians).\n",
      "    \n",
      "    tanh(x, /)\n",
      "        Return the hyperbolic tangent of x.\n",
      "    \n",
      "    trunc(x, /)\n",
      "        Truncates the Real x to the nearest Integral toward 0.\n",
      "        \n",
      "        Uses the __trunc__ magic method.\n",
      "    \n",
      "    ulp(x, /)\n",
      "        Return the value of the least significant bit of the float x.\n",
      "\n",
      "DATA\n",
      "    e = 2.718281828459045\n",
      "    inf = inf\n",
      "    nan = nan\n",
      "    pi = 3.141592653589793\n",
      "    tau = 6.283185307179586\n",
      "\n",
      "FILE\n",
      "    /Users/nergizalici/anaconda3/lib/python3.11/lib-dynload/math.cpython-311-darwin.so\n",
      "\n",
      "\n"
     ]
    }
   ],
   "source": [
    "#Python'da help özelliği vardır.\n",
    "\n",
    "help(math)"
   ]
  },
  {
   "cell_type": "code",
   "execution_count": 26,
   "id": "850163ff-ddcc-4851-ab2d-42a37700b70d",
   "metadata": {
    "tags": []
   },
   "outputs": [
    {
     "data": {
      "text/plain": [
       "3.141592653589793"
      ]
     },
     "execution_count": 26,
     "metadata": {},
     "output_type": "execute_result"
    }
   ],
   "source": [
    "#math modülü içindeki bir fonksiyonu -> . ile çağırılır.\n",
    "\n",
    "math.pi"
   ]
  },
  {
   "cell_type": "code",
   "execution_count": 31,
   "id": "fb552328-9e89-49c0-bad0-5cdbbbc188fb",
   "metadata": {
    "tags": []
   },
   "outputs": [
    {
     "name": "stdout",
     "output_type": "stream",
     "text": [
      "62.83185307179586\n"
     ]
    }
   ],
   "source": [
    "#Örnek:\n",
    "\n",
    "#yarıçapı 10 cm olan bir çemberin çevresi ne kadardır?\n",
    "#çevre=2*pi*r\n",
    "\n",
    "r=10\n",
    "\n",
    "\n",
    "#çevre\n",
    "cevre = 2*math.pi*r\n",
    "\n",
    "print(cevre)\n"
   ]
  },
  {
   "cell_type": "code",
   "execution_count": 36,
   "id": "0a19f2b7-8a93-4c2c-bcb0-7fe4211476e9",
   "metadata": {
    "tags": []
   },
   "outputs": [
    {
     "name": "stdout",
     "output_type": "stream",
     "text": [
      "0.5235987755982988\n"
     ]
    }
   ],
   "source": [
    "# 30 derecenin sinüsünü hesaplayalım\n",
    "\n",
    "derece = 30\n",
    "#radyan hesapla\n",
    "radyan = math.radians(derece)\n",
    "\n",
    "print(radyan)"
   ]
  },
  {
   "cell_type": "code",
   "execution_count": 33,
   "id": "8f54c755-7f18-4e9a-983d-1a7e0cae5341",
   "metadata": {
    "tags": []
   },
   "outputs": [
    {
     "data": {
      "text/plain": [
       "-0.9880316240928618"
      ]
     },
     "execution_count": 33,
     "metadata": {},
     "output_type": "execute_result"
    }
   ],
   "source": [
    "#yanlış kullanım\n",
    "sinus= math.sin(derece) \n",
    "sinus"
   ]
  },
  {
   "cell_type": "code",
   "execution_count": 34,
   "id": "c4f025c2-ca3f-4f85-872d-b81584cecb6c",
   "metadata": {
    "tags": []
   },
   "outputs": [
    {
     "name": "stdout",
     "output_type": "stream",
     "text": [
      "Help on built-in function sin in module math:\n",
      "\n",
      "sin(x, /)\n",
      "    Return the sine of x (measured in radians).\n",
      "\n"
     ]
    }
   ],
   "source": [
    "help(math.sin)"
   ]
  },
  {
   "cell_type": "code",
   "execution_count": 37,
   "id": "1df81ddd-b2fd-4f03-ae58-fd55f9436176",
   "metadata": {
    "tags": []
   },
   "outputs": [
    {
     "data": {
      "text/plain": [
       "0.49999999999999994"
      ]
     },
     "execution_count": 37,
     "metadata": {},
     "output_type": "execute_result"
    }
   ],
   "source": [
    "#doğru kullanım\n",
    "sinus=math.sin(radyan)\n",
    "sinus"
   ]
  },
  {
   "cell_type": "markdown",
   "id": "83a1ca3b-ad43-4a7a-b7a7-990fa36f41f6",
   "metadata": {},
   "source": [
    "## Fonksiyonların Bİrleşimi"
   ]
  },
  {
   "cell_type": "markdown",
   "id": "93bf0ce5-789c-4824-acce-9b0b423464b5",
   "metadata": {},
   "source": [
    "Yukarıda kullandığımız math.sin fonksiyonunu tek adımda kullanmak istersek"
   ]
  },
  {
   "cell_type": "code",
   "execution_count": 4,
   "id": "b8a7546f-97cf-499f-9fad-b6e714c138f6",
   "metadata": {
    "tags": []
   },
   "outputs": [
    {
     "data": {
      "text/plain": [
       "0.49999999999999994"
      ]
     },
     "execution_count": 4,
     "metadata": {},
     "output_type": "execute_result"
    }
   ],
   "source": [
    "import math\n",
    "derece = 30\n",
    "sinus = math.sin(math.radians(derece))\n",
    "sinus"
   ]
  },
  {
   "cell_type": "markdown",
   "id": "ade8b959-68cc-4b15-b8f1-e6c118b48a24",
   "metadata": {
    "tags": []
   },
   "source": [
    "**Chain:** Fonksiyonları zincirlemek"
   ]
  },
  {
   "cell_type": "markdown",
   "id": "81233940-377f-4cbc-b08b-b3057053cbed",
   "metadata": {},
   "source": [
    "### Fonksiyon Tanımlamak"
   ]
  },
  {
   "cell_type": "markdown",
   "id": "3f82bfca-61b3-4e87-b06d-9647758caaae",
   "metadata": {},
   "source": [
    "**tanımlamak:definition**"
   ]
  },
  {
   "cell_type": "code",
   "execution_count": 7,
   "id": "3aa71610-b9ab-4aa2-ab53-9107b33d59b6",
   "metadata": {
    "tags": []
   },
   "outputs": [],
   "source": [
    "#parametresiz fonksiyon tanımlamak\n",
    "def fonksiyon_adi():\n",
    "    print(\"ilk fonksiyon\")"
   ]
  },
  {
   "cell_type": "code",
   "execution_count": 8,
   "id": "e4990478-c2bc-40a0-8553-5ec86e2f6116",
   "metadata": {
    "tags": []
   },
   "outputs": [
    {
     "name": "stdout",
     "output_type": "stream",
     "text": [
      "ilk fonksiyon\n"
     ]
    }
   ],
   "source": [
    "#fonksiyonu çağıralım\n",
    "\n",
    "\n",
    "fonksiyon_adi()"
   ]
  },
  {
   "cell_type": "markdown",
   "id": "1a1d034a-ff34-4ac4-b67c-e4aa41de67ac",
   "metadata": {},
   "source": [
    "**indent:** Python'da indent yapısı ile kod bölümlendirilir.\n",
    "\n",
    "* indent:tab\n",
    "* indent: 4 space"
   ]
  },
  {
   "cell_type": "code",
   "execution_count": 9,
   "id": "0abcfc4f-0b88-443e-b7d8-937f5ed5a937",
   "metadata": {
    "tags": []
   },
   "outputs": [
    {
     "name": "stdout",
     "output_type": "stream",
     "text": [
      "Adı John Doe\n",
      "Yaşı 24\n",
      "Dili:Python\n"
     ]
    }
   ],
   "source": [
    "print(\"Adı John Doe\")\n",
    "print(\"Yaşı 24\")\n",
    "print(\"Dili:Python\")"
   ]
  },
  {
   "cell_type": "code",
   "execution_count": 10,
   "id": "336fed09-2aee-4f54-9db3-2ab202fe32d0",
   "metadata": {
    "tags": []
   },
   "outputs": [
    {
     "name": "stdout",
     "output_type": "stream",
     "text": [
      "Adı John Doe\n",
      "Yaşı 24\n",
      "Dili:Python\n"
     ]
    }
   ],
   "source": [
    "#öğrenci bilgileri tekrar lazım olsa\n",
    "print(\"Adı John Doe\")\n",
    "print(\"Yaşı 24\")\n",
    "print(\"Dili:Python\")\n"
   ]
  },
  {
   "cell_type": "code",
   "execution_count": 11,
   "id": "0872f792-a42d-4c33-98fd-b59c69ba9e53",
   "metadata": {
    "tags": []
   },
   "outputs": [],
   "source": [
    "#parametresiz bir fonksiyon tanımmla\n",
    "def ögrenci_adi():\n",
    "    print(\"Adı John Doe\")"
   ]
  },
  {
   "cell_type": "code",
   "execution_count": 13,
   "id": "b5741229-6b50-4cd9-a1e9-eb97d22c0504",
   "metadata": {
    "tags": []
   },
   "outputs": [
    {
     "name": "stdout",
     "output_type": "stream",
     "text": [
      "Adı John Doe\n"
     ]
    }
   ],
   "source": [
    "ögrenci_adi()"
   ]
  },
  {
   "cell_type": "code",
   "execution_count": 14,
   "id": "16a3f457-66cc-4470-bace-a1d636d141f3",
   "metadata": {
    "tags": []
   },
   "outputs": [],
   "source": [
    "#öğrenci yaşını print eden fonksiyon\n",
    "def ögrenci_yasi():\n",
    "    print(\"Yaşı 24\")"
   ]
  },
  {
   "cell_type": "code",
   "execution_count": 15,
   "id": "68ed6f45-8c2d-461f-86c8-9a189d5b619c",
   "metadata": {
    "tags": []
   },
   "outputs": [
    {
     "name": "stdout",
     "output_type": "stream",
     "text": [
      "Yaşı 24\n"
     ]
    }
   ],
   "source": [
    "ögrenci_yasi()"
   ]
  },
  {
   "cell_type": "code",
   "execution_count": 16,
   "id": "135a55f9-64d0-4ffc-ade3-1b96f99571e7",
   "metadata": {
    "tags": []
   },
   "outputs": [],
   "source": [
    "#öğrencinin kullandığı dili print eden fonksiiyon\n",
    "def ögrenci_dili():\n",
    "    print(\"Dili Python\")\n",
    "    "
   ]
  },
  {
   "cell_type": "code",
   "execution_count": 17,
   "id": "8944584c-051a-4872-9a1b-1bf33849531d",
   "metadata": {
    "tags": []
   },
   "outputs": [
    {
     "name": "stdout",
     "output_type": "stream",
     "text": [
      "Dili Python\n"
     ]
    }
   ],
   "source": [
    "ögrenci_dili()"
   ]
  },
  {
   "cell_type": "code",
   "execution_count": 18,
   "id": "dd981ffc-3401-4aae-9176-a3b13d8c463f",
   "metadata": {
    "tags": []
   },
   "outputs": [
    {
     "name": "stdout",
     "output_type": "stream",
     "text": [
      "Adı John Doe\n",
      "Yaşı 24\n",
      "Dili Python\n"
     ]
    }
   ],
   "source": [
    "#öğrenci bilgilerini tekrar yaz\n",
    "ögrenci_adi()\n",
    "ögrenci_yasi()\n",
    "ögrenci_dili()"
   ]
  },
  {
   "cell_type": "code",
   "execution_count": 23,
   "id": "244a2d81-d973-406a-8de6-7ac5b3af0f9e",
   "metadata": {
    "tags": []
   },
   "outputs": [],
   "source": [
    "#bütün öğrenci bilgilerini yazan tek fonksiyon yazalım\n",
    "def ogrenci_bilgileri():\n",
    "    ögrenci_adi()\n",
    "    ögrenci_yasi()\n",
    "    ögrenci_dili()\n",
    "    "
   ]
  },
  {
   "cell_type": "code",
   "execution_count": 24,
   "id": "750b04d7-794d-4d44-bc76-3531a8cd7506",
   "metadata": {
    "tags": []
   },
   "outputs": [
    {
     "name": "stdout",
     "output_type": "stream",
     "text": [
      "Adı John Doe\n",
      "Yaşı 24\n",
      "Dili Python\n"
     ]
    }
   ],
   "source": [
    "#tekrar öğrenci bilgileri\n",
    "\n",
    "\n",
    "ogrenci_bilgileri()"
   ]
  },
  {
   "cell_type": "code",
   "execution_count": 25,
   "id": "940c8277-ad65-47cc-a2e3-ba4a2b0e8b75",
   "metadata": {
    "tags": []
   },
   "outputs": [
    {
     "data": {
      "text/plain": [
       "function"
      ]
     },
     "execution_count": 25,
     "metadata": {},
     "output_type": "execute_result"
    }
   ],
   "source": [
    "type(ogrenci_bilgileri)"
   ]
  },
  {
   "cell_type": "code",
   "execution_count": 26,
   "id": "4379fa15-537d-4cd8-a849-a1c36e06c274",
   "metadata": {
    "tags": []
   },
   "outputs": [
    {
     "name": "stdout",
     "output_type": "stream",
     "text": [
      "<function ogrenci_bilgileri at 0x109571e40>\n"
     ]
    }
   ],
   "source": [
    "print(ogrenci_bilgileri)"
   ]
  },
  {
   "cell_type": "markdown",
   "id": "3071e895-676a-47e9-a73d-ca3763d5d876",
   "metadata": {},
   "source": [
    "Peki öğrencinin adını ve soyadını ayrı ayrı yazmak istesek:\n",
    "\n",
    "\"Adı\": Peter\n",
    "\n",
    "\"Soyadı\":Parker"
   ]
  },
  {
   "cell_type": "markdown",
   "id": "b57ea29d-5ba1-48ed-a73c-a5ce0721db22",
   "metadata": {},
   "source": [
    "O zaman ogrenci_adi() fonksiyonunu iki alt fonksiyona bölmemiz gerekiyor."
   ]
  },
  {
   "cell_type": "code",
   "execution_count": 27,
   "id": "2524d019-031e-4cdb-983f-763df80ecdb1",
   "metadata": {
    "tags": []
   },
   "outputs": [],
   "source": [
    "#Öğrencinin ilk adını ve soyadını veren iki ayrı fonksiyon yazalım.\n",
    "def ögrenci_ilk_adi():\n",
    "    print(\"Adı:Peter\")\n",
    "    \n",
    "\n",
    "def ögrenci_soyadi():\n",
    "    print(\"Soyadı: Parker\")\n",
    "    \n",
    "          "
   ]
  },
  {
   "cell_type": "code",
   "execution_count": 36,
   "id": "083b12d1-7c59-432b-9798-cffe012859e9",
   "metadata": {
    "tags": []
   },
   "outputs": [],
   "source": [
    "#Şimdi öğrenci adı fonksiyonunu iki alt fonksiyonun birleşimi olarak yazalım.\n",
    "def ögrenci_adi():\n",
    "    \n",
    "    ögrenci_ilk_adi()\n",
    "    \n",
    "    ögrenci_soyadi()\n",
    "    "
   ]
  },
  {
   "cell_type": "code",
   "execution_count": 37,
   "id": "8bb84745-796c-4a2f-a36f-4ed5e62e14ec",
   "metadata": {
    "tags": []
   },
   "outputs": [
    {
     "name": "stdout",
     "output_type": "stream",
     "text": [
      "Adı:Peter\n",
      "Soyadı: Parker\n"
     ]
    }
   ],
   "source": [
    "ögrenci_adi()"
   ]
  },
  {
   "cell_type": "code",
   "execution_count": 40,
   "id": "e86d2c62-8efc-461c-9372-a74cf1ef2df1",
   "metadata": {
    "tags": []
   },
   "outputs": [
    {
     "name": "stdout",
     "output_type": "stream",
     "text": [
      "Adı:Peter\n",
      "Soyadı: Parker\n",
      "Yaşı 24\n",
      "Dili Python\n"
     ]
    }
   ],
   "source": [
    "ogrenci_bilgileri()"
   ]
  },
  {
   "cell_type": "markdown",
   "id": "6ba4edaa-6a32-46c0-8261-f978358546fb",
   "metadata": {},
   "source": [
    "**İşleme sırası( Execution Flow):**\n",
    "\n",
    "Python kodu ilk satırdan itibaren çalıştırmaya başlar.\n",
    "\n",
    "\n",
    "Ve aşağı doğru iner.\n",
    "\n",
    "Eğer bir fonksiyon çalıştırılmasına denk gelirse,\n",
    "\n",
    "Önce gider o fonksiyonu çalıştırır,bitmesini bekler, geri döner.\n",
    "\n",
    "Kaldığı yerden aşağı doğru çalışmaya devam eder."
   ]
  },
  {
   "cell_type": "markdown",
   "id": "299e1ded-3d6c-4d69-8885-0262f190a446",
   "metadata": {},
   "source": [
    "### Parametreler(Argümanlar)"
   ]
  },
  {
   "cell_type": "markdown",
   "id": "f4eb61c8-6cbc-48b9-8709-b1e1bf638421",
   "metadata": {},
   "source": [
    "Çoğu zaman fonksiyonlar parametrelere ihtiyaç duyarlar.\n",
    "\n",
    "**Parametre** fonksiyonun çalışması için kendisine iletilen girdilerdir.\n",
    "\n",
    "Parametreler, fonksiyon çağırılırken iletilirler."
   ]
  },
  {
   "cell_type": "code",
   "execution_count": 1,
   "id": "cfbebf7c-0d76-4f5c-a34e-e7700d3788e8",
   "metadata": {
    "tags": []
   },
   "outputs": [],
   "source": [
    "#Diyelim ki kendisine iletilen sayının karesini alan bir fonksiyon yazmak istiyoruz.\n",
    "\n",
    "def karesini_yaz(sayi):\n",
    "    \n",
    "    #sayının karesini al\n",
    "    karesi=sayi**2\n",
    "    #sayının karesini yaz\n",
    "    print(karesi)"
   ]
  },
  {
   "cell_type": "code",
   "execution_count": 2,
   "id": "fc54e944-d6f6-48e6-ac8e-48d87c76ce24",
   "metadata": {
    "tags": []
   },
   "outputs": [
    {
     "ename": "TypeError",
     "evalue": "karesini_yaz() missing 1 required positional argument: 'sayi'",
     "output_type": "error",
     "traceback": [
      "\u001b[0;31m---------------------------------------------------------------------------\u001b[0m",
      "\u001b[0;31mTypeError\u001b[0m                                 Traceback (most recent call last)",
      "Cell \u001b[0;32mIn[2], line 2\u001b[0m\n\u001b[1;32m      1\u001b[0m \u001b[38;5;66;03m#şimdi bu fonksiyonu parametre ile çağıralım\u001b[39;00m\n\u001b[0;32m----> 2\u001b[0m karesini_yaz()\n",
      "\u001b[0;31mTypeError\u001b[0m: karesini_yaz() missing 1 required positional argument: 'sayi'"
     ]
    }
   ],
   "source": [
    "#şimdi bu fonksiyonu parametre ile çağıralım\n",
    "karesini_yaz()"
   ]
  },
  {
   "cell_type": "code",
   "execution_count": 3,
   "id": "ad2f47f9-916f-4730-a17a-7eace27889d1",
   "metadata": {
    "tags": []
   },
   "outputs": [
    {
     "name": "stdout",
     "output_type": "stream",
     "text": [
      "36\n"
     ]
    }
   ],
   "source": [
    "karesini_yaz(6)"
   ]
  },
  {
   "cell_type": "code",
   "execution_count": 4,
   "id": "ecbab3c8-cd6a-4262-91f8-fc06e1b21985",
   "metadata": {
    "tags": []
   },
   "outputs": [],
   "source": [
    "#Örnek:\n",
    "\n",
    "#İki parametre alan bir fonksiyon tanımlayalım.\n",
    "#İki parametre: kisa_kenar, uzun_kenar\n",
    "#Fonksiyon dikdörtgenin alanını hesaplasın.\n",
    "\n",
    "def dikdörtgen_alani_hesapla(kisa_kenar, uzun_kenar):\n",
    "    \n",
    "    #alan hesapla->bunu bir değişkene at\n",
    "    dikdörtgen_alani=(kisa_kenar*uzun_kenar)\n",
    "    \n",
    "    #bu alanı print et\n",
    "    print(dikdörtgen_alani)\n"
   ]
  },
  {
   "cell_type": "code",
   "execution_count": 5,
   "id": "7a48b7fd-45e7-45c8-830a-48613d75992b",
   "metadata": {
    "tags": []
   },
   "outputs": [
    {
     "name": "stdout",
     "output_type": "stream",
     "text": [
      "24\n"
     ]
    }
   ],
   "source": [
    "#Şimdi fonksiyonu iki parametre ile çağıralım.\n",
    "dikdörtgen_alani_hesapla(4, 6)"
   ]
  },
  {
   "cell_type": "code",
   "execution_count": 7,
   "id": "55f17007-95a8-4e5b-8cdf-ef1e9d8e9e87",
   "metadata": {
    "tags": []
   },
   "outputs": [
    {
     "name": "stdout",
     "output_type": "stream",
     "text": [
      "24\n"
     ]
    }
   ],
   "source": [
    "kisa=4\n",
    "uzun=6\n",
    "dikdörtgen_alani_hesapla(kisa,uzun)"
   ]
  },
  {
   "cell_type": "code",
   "execution_count": 9,
   "id": "c21049bb-0786-4d5b-aaad-8d19c1118cdb",
   "metadata": {
    "tags": []
   },
   "outputs": [],
   "source": [
    "#Örnek\n",
    "\n",
    "#Daha önce tanımladığımız ogrenci_bilgileri fonksiyonunu parametrik yapalım.\n",
    "\n",
    "#Öğrenci ilk adını tekrar tanımlayalım.\n",
    "\n",
    "def ogrenci_ilk_adi(ilk_adi)\n",
    "def ogrenci_bilgileri(ilk_adi, soyadi, yas, dili):\n",
    "\n",
    "\n",
    "    #öğrenci ilk adı\n",
    "    ogrenci_ilk_adi(ilk_adi)\n",
    "\n",
    "    #öğrenci soyadı\n",
    "    ogrenci_soyadi(soyadi)\n",
    "    \n",
    "    #öğrenci yaşı\n",
    "    ogrenci_yasi(yas)\n",
    "    \n",
    "    #öğrenci dili\n",
    "    ogrenci_dili(dil)\n",
    "\n"
   ]
  },
  {
   "cell_type": "code",
   "execution_count": 10,
   "id": "2de91c51-c995-44d7-854a-307638bb2240",
   "metadata": {
    "tags": []
   },
   "outputs": [
    {
     "ename": "TypeError",
     "evalue": "ogrenci_bilgileri() missing 4 required positional arguments: 'ilk_adi', 'soyadi', 'yas', and 'dili'",
     "output_type": "error",
     "traceback": [
      "\u001b[0;31m---------------------------------------------------------------------------\u001b[0m",
      "\u001b[0;31mTypeError\u001b[0m                                 Traceback (most recent call last)",
      "Cell \u001b[0;32mIn[10], line 1\u001b[0m\n\u001b[0;32m----> 1\u001b[0m ogrenci_bilgileri()\n",
      "\u001b[0;31mTypeError\u001b[0m: ogrenci_bilgileri() missing 4 required positional arguments: 'ilk_adi', 'soyadi', 'yas', and 'dili'"
     ]
    }
   ],
   "source": [
    "ogrenci_bilgileri()"
   ]
  },
  {
   "cell_type": "code",
   "execution_count": 11,
   "id": "fab17829-ae69-4841-807b-67a086895ff4",
   "metadata": {
    "tags": []
   },
   "outputs": [
    {
     "ename": "NameError",
     "evalue": "name 'yas' is not defined",
     "output_type": "error",
     "traceback": [
      "\u001b[0;31m---------------------------------------------------------------------------\u001b[0m",
      "\u001b[0;31mNameError\u001b[0m                                 Traceback (most recent call last)",
      "Cell \u001b[0;32mIn[11], line 6\u001b[0m\n\u001b[1;32m      3\u001b[0m yasi\u001b[38;5;241m=\u001b[39m\u001b[38;5;241m28\u001b[39m\n\u001b[1;32m      4\u001b[0m kullandıgı_dil\u001b[38;5;241m=\u001b[39m\u001b[38;5;124m'\u001b[39m\u001b[38;5;124mPython\u001b[39m\u001b[38;5;124m'\u001b[39m\n\u001b[0;32m----> 6\u001b[0m ogrenci_bilgileri(ilk, soy,yas,kullandıgı_dil)\n",
      "\u001b[0;31mNameError\u001b[0m: name 'yas' is not defined"
     ]
    }
   ],
   "source": [
    "ilk= 'Klark'\n",
    "soy=\"Kent\"\n",
    "yasi=28\n",
    "kullandıgı_dil='Python'\n",
    "\n",
    "ogrenci_bilgileri(ilk, soy,yas,kullandıgı_dil)\n"
   ]
  },
  {
   "cell_type": "markdown",
   "id": "800e5587-eae9-4900-b03f-84b0ebdf9785",
   "metadata": {},
   "source": [
    "### Scope(Yaşam aLanı) Kavramı\n"
   ]
  },
  {
   "cell_type": "markdown",
   "id": "6a473619-b1a2-44af-bf25-8c236b369fc0",
   "metadata": {},
   "source": [
    "Python'da değişkenler tanımlandıkları alanda ve o alanın alt alanlarında geçerlidir.\n",
    "Buna scope(yaşam alanı) denir.\n",
    "Python'da scope girinti(indent) ile tanımlanır."
   ]
  },
  {
   "cell_type": "code",
   "execution_count": 1,
   "id": "e9a0942c-a720-40ba-bf38-193b3509521c",
   "metadata": {
    "tags": []
   },
   "outputs": [],
   "source": [
    "#Fonksiyon scope'u içinde bir değişken tanımlayalım\n",
    "\n",
    "def scope():\n",
    "    scope_degiskeni=100\n",
    "    print(scope_degiskeni)"
   ]
  },
  {
   "cell_type": "code",
   "execution_count": 2,
   "id": "f08cd4bd-86ca-48af-a734-e229a9ae17d5",
   "metadata": {
    "tags": []
   },
   "outputs": [
    {
     "name": "stdout",
     "output_type": "stream",
     "text": [
      "100\n"
     ]
    }
   ],
   "source": [
    "#Fonksiyonu çağır\n",
    "\n",
    "scope()"
   ]
  },
  {
   "cell_type": "code",
   "execution_count": 4,
   "id": "6fa61fb0-5584-441f-bd89-8ad07d5a8cb5",
   "metadata": {
    "tags": []
   },
   "outputs": [
    {
     "ename": "NameError",
     "evalue": "name 'scope_degiskeni' is not defined",
     "output_type": "error",
     "traceback": [
      "\u001b[0;31m---------------------------------------------------------------------------\u001b[0m",
      "\u001b[0;31mNameError\u001b[0m                                 Traceback (most recent call last)",
      "Cell \u001b[0;32mIn[4], line 2\u001b[0m\n\u001b[1;32m      1\u001b[0m \u001b[38;5;66;03m#şimdi bu değişkene dışarıdan erişmeye çalışalım\u001b[39;00m\n\u001b[0;32m----> 2\u001b[0m \u001b[38;5;28mprint\u001b[39m(scope_degiskeni)\u001b[38;5;241m/\u001b[39m\u001b[38;5;241m/\u001b[39m tanımlanmmaış\n",
      "\u001b[0;31mNameError\u001b[0m: name 'scope_degiskeni' is not defined"
     ]
    }
   ],
   "source": [
    "#şimdi bu değişkene dışarıdan erişmeye çalışalım\n",
    "print(scope_degiskeni)// tanımlanmmaış\n"
   ]
  },
  {
   "cell_type": "markdown",
   "id": "aa236765-fa40-4c73-87ad-89a77cabe8a4",
   "metadata": {},
   "source": [
    "DEğişkenin scope'unun dışından ona ulaşmaya çalışırsak Python interpreter hata verir"
   ]
  },
  {
   "cell_type": "markdown",
   "id": "7d81b2bd-0299-47d1-895d-e50ccfb6d246",
   "metadata": {},
   "source": [
    "Ama daha üstte yani global scopeta tanımlanmış bir değişkene erişebilirisiniz."
   ]
  },
  {
   "cell_type": "code",
   "execution_count": 5,
   "id": "cbbdcaba-878d-455f-8a2a-183f482701f5",
   "metadata": {
    "tags": []
   },
   "outputs": [],
   "source": [
    "kisa=4\n",
    "uzun=6"
   ]
  },
  {
   "cell_type": "code",
   "execution_count": 6,
   "id": "48a4411b-1052-41ad-83a2-6a1b744da44e",
   "metadata": {
    "tags": []
   },
   "outputs": [],
   "source": [
    "#En tepede tanımlanmış kisa ve uzun tüm fonksiyonlar erişebilir.\n",
    "def cevre():\n",
    "    dikdörtgen_cevresi=2*kisa*uzun\n",
    "    print(dikdörtgen_cevresi)"
   ]
  },
  {
   "cell_type": "code",
   "execution_count": 7,
   "id": "84cef341-531e-40df-b84c-9f70b3d903f4",
   "metadata": {
    "tags": []
   },
   "outputs": [
    {
     "name": "stdout",
     "output_type": "stream",
     "text": [
      "48\n"
     ]
    }
   ],
   "source": [
    "cevre()"
   ]
  },
  {
   "cell_type": "markdown",
   "id": "251ce908-134f-460c-a693-c5698bfb0883",
   "metadata": {},
   "source": [
    "Peki global scope içindeki bir değişkeni fonksiyon içinden değiştirebilir miyiz?"
   ]
  },
  {
   "cell_type": "code",
   "execution_count": 9,
   "id": "7bebb428-6bb2-481a-801b-b75f1e1624e4",
   "metadata": {
    "tags": []
   },
   "outputs": [
    {
     "data": {
      "text/plain": [
       "4"
      ]
     },
     "execution_count": 9,
     "metadata": {},
     "output_type": "execute_result"
    }
   ],
   "source": [
    "#kisa değişkeninin mevcut halini görelim\n",
    "\n",
    "kisa\n"
   ]
  },
  {
   "cell_type": "code",
   "execution_count": 11,
   "id": "27935dd7-4af0-4b57-94fa-7bb3f7c3be05",
   "metadata": {
    "tags": []
   },
   "outputs": [],
   "source": [
    "#global scope'u değiştirmeye çalışan fonksiyon\n",
    "\n",
    "def global_degisken_degistir():\n",
    "    kisa=400\n",
    "    print(kisa)"
   ]
  },
  {
   "cell_type": "code",
   "execution_count": 12,
   "id": "dc154c04-3e10-40de-81ff-3d07fcdd0038",
   "metadata": {
    "tags": []
   },
   "outputs": [
    {
     "name": "stdout",
     "output_type": "stream",
     "text": [
      "400\n"
     ]
    }
   ],
   "source": [
    "global_degisken_degistir()"
   ]
  },
  {
   "cell_type": "markdown",
   "id": "9305b268-c4db-4656-acbc-b4ee72a9df1d",
   "metadata": {
    "tags": []
   },
   "source": []
  },
  {
   "cell_type": "code",
   "execution_count": 17,
   "id": "22794e37-8675-45e0-bca5-00fb48228701",
   "metadata": {
    "tags": []
   },
   "outputs": [
    {
     "data": {
      "text/plain": [
       "4"
      ]
     },
     "execution_count": 17,
     "metadata": {},
     "output_type": "execute_result"
    }
   ],
   "source": [
    "#fonksiyon çağırıldıktan sonra kisa değişkenine ne oldu\n",
    "\n",
    "kisa"
   ]
  },
  {
   "cell_type": "markdown",
   "id": "34854e11-7291-4cac-9c7d-ba2d64a5fa1e",
   "metadata": {},
   "source": [
    "Fonksiyon içinden değiştirmemize rağmen globaldeki değişkenin değeri değişmedi\n",
    "sebebi:\n",
    "Python globaldeki kisa değişkenine dokunmadı.\n",
    "siz fonksiyon içinde kisa değişkenine atama yaptığınız anda , Python sizin için yeni bir değişken tanımlar.aslında bu globaldeki değişkenin kopyasıdır.Bu yeni kopya sadece fonksiyon scope u içinde yaşar.\n",
    "\n",
    "Çözümü:\n",
    "Global scope taki değişkeni gerçekten değiştirmek istiyorsak:\n",
    "değişken başına global anahtar kelimesi yazılır."
   ]
  },
  {
   "cell_type": "code",
   "execution_count": 19,
   "id": "edee62a2-00ac-44cb-a8c2-efe1f9d579c1",
   "metadata": {
    "tags": []
   },
   "outputs": [],
   "source": [
    "#fonksiyonu tekrar tanımlayalım\n",
    "\n",
    "def global_degisken_degistir():\n",
    "    global kisa\n",
    "    kisa=400\n",
    "    print(kisa)"
   ]
  },
  {
   "cell_type": "code",
   "execution_count": 20,
   "id": "4fb789e3-a0a6-4174-b209-cd37bce2c3bf",
   "metadata": {
    "tags": []
   },
   "outputs": [
    {
     "name": "stdout",
     "output_type": "stream",
     "text": [
      "400\n"
     ]
    }
   ],
   "source": [
    "global_degisken_degistir()"
   ]
  },
  {
   "cell_type": "code",
   "execution_count": 21,
   "id": "cea27527-4168-44a2-9389-9e30e61dc52c",
   "metadata": {
    "tags": []
   },
   "outputs": [
    {
     "data": {
      "text/plain": [
       "400"
      ]
     },
     "execution_count": 21,
     "metadata": {},
     "output_type": "execute_result"
    }
   ],
   "source": [
    "#globaldeki kisa değişkenini tekrar gör\n",
    "\n",
    "kisa"
   ]
  },
  {
   "cell_type": "markdown",
   "id": "c896e152-00c8-426c-a216-4af0bad8d368",
   "metadata": {},
   "source": [
    "### Fonksiyonun Değer Dönmesi(return)\n"
   ]
  },
  {
   "cell_type": "markdown",
   "id": "001c4898-5c81-4854-ab48-ee419ffd1233",
   "metadata": {},
   "source": [
    "Fonksiyonlar işlerini bitirdikten sonra geriye değer dönebilirler.\n",
    "Buna geriye değer return etmek demnir.\n",
    "Ve return anahtar kelimesi ile sağlanır."
   ]
  },
  {
   "cell_type": "markdown",
   "id": "ae07edcc-d6d4-4978-9b4b-b13b9af79077",
   "metadata": {
    "tags": []
   },
   "source": []
  },
  {
   "cell_type": "code",
   "execution_count": 6,
   "id": "da090e57-33ee-451c-bf11-9578b0cbfe1f",
   "metadata": {
    "tags": []
   },
   "outputs": [],
   "source": [
    "#Kendisine parametre olarak verilen bir sayının küpünü hesaplayıp geri dönen bir fonksiyon yazalım\n",
    "\n",
    "def cube(n):\n",
    "        #sayının küpünü hesapla\n",
    "        n_kup=n**3\n",
    "        \n",
    "        # bu küp değerini geri dön\n",
    "        return n_kup"
   ]
  },
  {
   "cell_type": "code",
   "execution_count": 7,
   "id": "48d42a1b-cc97-4ccb-861a-eb9e67abe8cb",
   "metadata": {
    "tags": []
   },
   "outputs": [
    {
     "name": "stdout",
     "output_type": "stream",
     "text": [
      "125\n"
     ]
    }
   ],
   "source": [
    "#Şimdi fonksiyonu çağırdığımız zaman,fonksiyon bize değer döner\n",
    "# o değeri alıp bir değişkene atayabiliriz.\n",
    "\n",
    "sayi=5\n",
    "\n",
    "kup= cube(5)\n",
    "\n",
    "print(kup)"
   ]
  },
  {
   "cell_type": "code",
   "execution_count": 8,
   "id": "676fe23f-41d5-41fb-885c-9ff1a2db1388",
   "metadata": {
    "tags": []
   },
   "outputs": [
    {
     "name": "stdout",
     "output_type": "stream",
     "text": [
      "64\n"
     ]
    }
   ],
   "source": [
    "n=4\n",
    "dordun_kupu=cube(4)\n",
    "print(dordun_kupu)"
   ]
  },
  {
   "cell_type": "code",
   "execution_count": 9,
   "id": "bee6386e-d8d5-443b-9fad-bc13170fc450",
   "metadata": {
    "tags": []
   },
   "outputs": [
    {
     "name": "stdout",
     "output_type": "stream",
     "text": [
      "216\n"
     ]
    }
   ],
   "source": [
    "#birleşim-chain\n",
    "\n",
    "n=6\n",
    "\n",
    "print(cube(n))"
   ]
  },
  {
   "cell_type": "markdown",
   "id": "a8321b29-5646-4360-ada9-bdc5a3d88f03",
   "metadata": {},
   "source": [
    "Geriye değer dönmeyen fonksiyonlara void fonksiyonlar denir."
   ]
  },
  {
   "cell_type": "markdown",
   "id": "d1e350e6-b9da-48bd-be91-49f98153ab1a",
   "metadata": {},
   "source": [
    "### Docstring- Fonksiyon Dokümantasyonu"
   ]
  },
  {
   "cell_type": "code",
   "execution_count": 10,
   "id": "be11ecc8-ebc9-42c0-a09d-761ebadcbf8b",
   "metadata": {
    "tags": []
   },
   "outputs": [
    {
     "name": "stdout",
     "output_type": "stream",
     "text": [
      "Help on function cube in module __main__:\n",
      "\n",
      "cube(n)\n",
      "\n"
     ]
    }
   ],
   "source": [
    "#Fonksiyon hakkında yardım alalım.\n",
    "\n",
    "help(cube)"
   ]
  },
  {
   "cell_type": "code",
   "execution_count": 11,
   "id": "122bb7ce-a6e1-4121-8630-d6edee61495d",
   "metadata": {
    "tags": []
   },
   "outputs": [
    {
     "data": {
      "text/plain": [
       "\u001b[0;31mSignature:\u001b[0m \u001b[0mcube\u001b[0m\u001b[0;34m(\u001b[0m\u001b[0mn\u001b[0m\u001b[0;34m)\u001b[0m\u001b[0;34m\u001b[0m\u001b[0;34m\u001b[0m\u001b[0m\n",
       "\u001b[0;31mDocstring:\u001b[0m <no docstring>\n",
       "\u001b[0;31mFile:\u001b[0m      /var/folders/jn/fbzcrx0n0fg31rt9f05lggnm0000gn/T/ipykernel_2853/1011320664.py\n",
       "\u001b[0;31mType:\u001b[0m      function"
      ]
     },
     "metadata": {},
     "output_type": "display_data"
    }
   ],
   "source": [
    "#Yardım görmek içim-,biraz daha detaylı\n",
    "\n",
    "cube?"
   ]
  },
  {
   "cell_type": "code",
   "execution_count": 12,
   "id": "be874719-d9d1-4f42-8843-229655a8554e",
   "metadata": {
    "tags": []
   },
   "outputs": [
    {
     "data": {
      "text/plain": [
       "\u001b[0;31mSignature:\u001b[0m \u001b[0mcube\u001b[0m\u001b[0;34m(\u001b[0m\u001b[0mn\u001b[0m\u001b[0;34m)\u001b[0m\u001b[0;34m\u001b[0m\u001b[0;34m\u001b[0m\u001b[0m\n",
       "\u001b[0;31mDocstring:\u001b[0m <no docstring>\n",
       "\u001b[0;31mSource:\u001b[0m   \n",
       "\u001b[0;32mdef\u001b[0m \u001b[0mcube\u001b[0m\u001b[0;34m(\u001b[0m\u001b[0mn\u001b[0m\u001b[0;34m)\u001b[0m\u001b[0;34m:\u001b[0m\u001b[0;34m\u001b[0m\n",
       "\u001b[0;34m\u001b[0m        \u001b[0;31m#sayının küpünü hesapla\u001b[0m\u001b[0;34m\u001b[0m\n",
       "\u001b[0;34m\u001b[0m        \u001b[0mn_kup\u001b[0m\u001b[0;34m=\u001b[0m\u001b[0mn\u001b[0m\u001b[0;34m**\u001b[0m\u001b[0;36m3\u001b[0m\u001b[0;34m\u001b[0m\n",
       "\u001b[0;34m\u001b[0m        \u001b[0;34m\u001b[0m\n",
       "\u001b[0;34m\u001b[0m        \u001b[0;31m# bu küp değerini geri dön\u001b[0m\u001b[0;34m\u001b[0m\n",
       "\u001b[0;34m\u001b[0m        \u001b[0;32mreturn\u001b[0m \u001b[0mn_kup\u001b[0m\u001b[0;34m\u001b[0m\u001b[0;34m\u001b[0m\u001b[0m\n",
       "\u001b[0;31mFile:\u001b[0m      /var/folders/jn/fbzcrx0n0fg31rt9f05lggnm0000gn/T/ipykernel_2853/1011320664.py\n",
       "\u001b[0;31mType:\u001b[0m      function"
      ]
     },
     "metadata": {},
     "output_type": "display_data"
    }
   ],
   "source": [
    "#Yardım 3- en detaylısı\n",
    "#kodu da gösterir\n",
    "cube??"
   ]
  },
  {
   "cell_type": "code",
   "execution_count": 8,
   "id": "f0f8d3aa-3fb7-4529-8780-7beee1c5475a",
   "metadata": {
    "tags": []
   },
   "outputs": [
    {
     "ename": "SyntaxError",
     "evalue": "'return' outside function (1694516976.py, line 19)",
     "output_type": "error",
     "traceback": [
      "\u001b[0;36m  Cell \u001b[0;32mIn[8], line 19\u001b[0;36m\u001b[0m\n\u001b[0;31m    return ustel\u001b[0m\n\u001b[0m    ^\u001b[0m\n\u001b[0;31mSyntaxError\u001b[0m\u001b[0;31m:\u001b[0m 'return' outside function\n"
     ]
    }
   ],
   "source": [
    "#docstringi olan bir fonksiyon yazalım\n",
    "\n",
    "import math\n",
    "\n",
    "def ustel_hesapla(sayi,ust):\n",
    "    \"\"\"\n",
    "    Bu fonksiyon üstel hesaplama yapar.\n",
    "    Parametreler: int sayi,int ust\n",
    "    Sonuc:verilen sayinin,verilen üstünü döner.\n",
    "    \n",
    "    \"\"\"\n",
    "    #sayının üstünü hesapla\n",
    "    # ustel=sayi**ust\n",
    "    \n",
    "    ustel=math.pow(sayi,ust)\n",
    "    \n",
    "    #bulduğun üstü dön\n",
    "    \n",
    "return ustel"
   ]
  },
  {
   "cell_type": "code",
   "execution_count": null,
   "id": "38b7df2e-e89d-4558-847f-d1b4e1e04a5a",
   "metadata": {},
   "outputs": [],
   "source": [
    "def isimleri_selamla(isim1,isim2):\n",
    "    birlesmis_isim=\"Selam\" + isim1 + \"ve\" +isim2\n",
    "    print(birlesmis_isim)\n",
    "    \n",
    "    \n",
    "isimleri_selamla(\"Clara Kent\" , \"Superman\")\n",
    "isimleri_selamla(\"nergiz\" , \"alıci\")"
   ]
  },
  {
   "cell_type": "code",
   "execution_count": null,
   "id": "9f9b6a8a-a60c-4650-8af2-f08a4e018354",
   "metadata": {},
   "outputs": [],
   "source": []
  }
 ],
 "metadata": {
  "kernelspec": {
   "display_name": "Python 3 (ipykernel)",
   "language": "python",
   "name": "python3"
  },
  "language_info": {
   "codemirror_mode": {
    "name": "ipython",
    "version": 3
   },
   "file_extension": ".py",
   "mimetype": "text/x-python",
   "name": "python",
   "nbconvert_exporter": "python",
   "pygments_lexer": "ipython3",
   "version": "3.11.4"
  }
 },
 "nbformat": 4,
 "nbformat_minor": 5
}
