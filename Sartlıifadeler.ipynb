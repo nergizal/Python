{
 "cells": [
  {
   "cell_type": "markdown",
   "id": "9cdc101e-9dee-4763-85e8-e1641cd17704",
   "metadata": {},
   "source": [
    "## Şartlı İfadeler"
   ]
  },
  {
   "cell_type": "markdown",
   "id": "bee63621-265b-4ac6-8583-715607cfe519",
   "metadata": {},
   "source": [
    "Bu bölümde şartlı ifadeler yani if else yapısını göreceğiz."
   ]
  },
  {
   "cell_type": "markdown",
   "id": "0cf3584a-e30b-4c08-bd3b-18c0ebdfaee5",
   "metadata": {},
   "source": [
    "**Şartlı ifade bir yargıdır**;\n",
    "\n",
    "Şartlı ifade sonucu true ya da false olan şartlı ifadelerdir\n",
    "\n",
    "Şartlı ifadeler mantıksal operatörler ve şart operatörleri ile kontrol edilir"
   ]
  },
  {
   "cell_type": "code",
   "execution_count": 1,
   "id": "d5f8fa5e-060e-4ad1-97f5-0743b2abc840",
   "metadata": {
    "tags": []
   },
   "outputs": [],
   "source": [
    "#tek eşit atama demektir yargı bildirmez\n",
    "a=6"
   ]
  },
  {
   "cell_type": "code",
   "execution_count": 2,
   "id": "7db6c564-572f-412d-b5a6-b75f8ec920ee",
   "metadata": {
    "tags": []
   },
   "outputs": [
    {
     "data": {
      "text/plain": [
       "True"
      ]
     },
     "execution_count": 2,
     "metadata": {},
     "output_type": "execute_result"
    }
   ],
   "source": [
    "#eşitlik kontrolü ==\n",
    "a==6 \n"
   ]
  },
  {
   "cell_type": "code",
   "execution_count": 3,
   "id": "07f44f4d-5eff-4a3b-9a80-bbc5955c610a",
   "metadata": {
    "tags": []
   },
   "outputs": [
    {
     "data": {
      "text/plain": [
       "False"
      ]
     },
     "execution_count": 3,
     "metadata": {},
     "output_type": "execute_result"
    }
   ],
   "source": [
    "a==8"
   ]
  },
  {
   "cell_type": "code",
   "execution_count": 4,
   "id": "e606d347-77cf-4c4f-a3b3-17d228789f4b",
   "metadata": {
    "tags": []
   },
   "outputs": [
    {
     "data": {
      "text/plain": [
       "True"
      ]
     },
     "execution_count": 4,
     "metadata": {},
     "output_type": "execute_result"
    }
   ],
   "source": [
    "True"
   ]
  },
  {
   "cell_type": "code",
   "execution_count": 5,
   "id": "513bf014-7ea5-4d85-b071-6f9cbb24854b",
   "metadata": {
    "tags": []
   },
   "outputs": [
    {
     "data": {
      "text/plain": [
       "False"
      ]
     },
     "execution_count": 5,
     "metadata": {},
     "output_type": "execute_result"
    }
   ],
   "source": [
    "False"
   ]
  },
  {
   "cell_type": "code",
   "execution_count": 6,
   "id": "aa1cacc1-93d1-4e3b-adb0-56ba17400a7b",
   "metadata": {
    "tags": []
   },
   "outputs": [
    {
     "data": {
      "text/plain": [
       "bool"
      ]
     },
     "execution_count": 6,
     "metadata": {},
     "output_type": "execute_result"
    }
   ],
   "source": [
    "type(True)"
   ]
  },
  {
   "cell_type": "code",
   "execution_count": 8,
   "id": "e03c813f-099c-4353-b682-832e3e5d9243",
   "metadata": {
    "tags": []
   },
   "outputs": [
    {
     "data": {
      "text/plain": [
       "bool"
      ]
     },
     "execution_count": 8,
     "metadata": {},
     "output_type": "execute_result"
    }
   ],
   "source": [
    "type(False)"
   ]
  },
  {
   "cell_type": "markdown",
   "id": "d857478c-88ee-4081-b662-161ea382bc5a",
   "metadata": {},
   "source": [
    "**Şart Operatörleri**\n",
    "* x==y : x,y'ye eşit midir?\n",
    "* x!=y : x,y'ye eşit değil midir?\n",
    "* x< y : x,y'den küçük müdür?\n",
    "* x> y : x,y'den büyük müdür?\n",
    "* x<=y :\n",
    "* x>=y :"
   ]
  },
  {
   "cell_type": "code",
   "execution_count": 9,
   "id": "674f12a2-47bb-413e-ad3b-925dc9c9ec0d",
   "metadata": {
    "tags": []
   },
   "outputs": [
    {
     "name": "stdout",
     "output_type": "stream",
     "text": [
      "x==y: False\n"
     ]
    }
   ],
   "source": [
    "x=12\n",
    "y=8\n",
    "\n",
    "print(\"x==y:\", x==y)"
   ]
  },
  {
   "cell_type": "markdown",
   "id": "fe3a8c88-c171-46b8-9d33-828dea01f530",
   "metadata": {},
   "source": [
    "**Mantıksal Operatörler** \n",
    "\n",
    "* and: ve (her iki taraf da True ise sonuç true,taraflardan biri False ise sonuç false)\n",
    "\n",
    "* or: veya(her iki taraftan biri bile True ise sonuç true, her iki taraf false ise sonuç false)"
   ]
  },
  {
   "cell_type": "code",
   "execution_count": 10,
   "id": "297e38da-dfc7-4f90-adea-c08c9aae3f91",
   "metadata": {
    "tags": []
   },
   "outputs": [
    {
     "data": {
      "text/plain": [
       "True"
      ]
     },
     "execution_count": 10,
     "metadata": {},
     "output_type": "execute_result"
    }
   ],
   "source": [
    " True and True\n",
    "    "
   ]
  },
  {
   "cell_type": "code",
   "execution_count": 11,
   "id": "f6c61754-8e71-41fc-b6fd-cc153d93ee2f",
   "metadata": {
    "tags": []
   },
   "outputs": [
    {
     "data": {
      "text/plain": [
       "False"
      ]
     },
     "execution_count": 11,
     "metadata": {},
     "output_type": "execute_result"
    }
   ],
   "source": [
    "False or False\n"
   ]
  },
  {
   "cell_type": "code",
   "execution_count": 12,
   "id": "dd8f3602-3486-423a-8f71-e22d045697dc",
   "metadata": {
    "tags": []
   },
   "outputs": [
    {
     "name": "stdout",
     "output_type": "stream",
     "text": [
      "True\n"
     ]
    }
   ],
   "source": [
    "# a->True\n",
    "\n",
    "a=6==6\n",
    "print(a)"
   ]
  },
  {
   "cell_type": "code",
   "execution_count": 14,
   "id": "6d39137c-86dc-41d1-a085-44005c364233",
   "metadata": {
    "tags": []
   },
   "outputs": [
    {
     "name": "stdout",
     "output_type": "stream",
     "text": [
      "False\n"
     ]
    }
   ],
   "source": [
    "b= 6==8\n",
    "print(b)"
   ]
  },
  {
   "cell_type": "code",
   "execution_count": 15,
   "id": "9be99bdc-6741-482e-ae10-3e965a7cc89e",
   "metadata": {
    "tags": []
   },
   "outputs": [
    {
     "name": "stdout",
     "output_type": "stream",
     "text": [
      "True and False: False\n"
     ]
    }
   ],
   "source": [
    "print(\"{0} and {1}: {2}\".format(a,b, a and b))"
   ]
  },
  {
   "cell_type": "markdown",
   "id": "39764579-4484-45f8-af3e-0df0acb38c52",
   "metadata": {},
   "source": [
    "### If Yapısı\n"
   ]
  },
  {
   "cell_type": "markdown",
   "id": "05af600e-c1cf-40fc-85ec-8efcd004fcf3",
   "metadata": {},
   "source": [
    "Bilgisayar programlarında kod yukardan aşağı doğru çalışır\n",
    "\n",
    "Siz belli şartlara göre farklı bölümleri çalıştırmak isteyebilirsiniz: Kodu dallandırmak\n",
    "\n",
    "ÖRn: Verilen bir sayı pozitif ise kabul et, değilse tekrar iste\n",
    "\n",
    "Kod içinde bu kararları veren yapıya if blokları denir\n",
    "\n",
    "If yapılarına karar yapıları da denir"
   ]
  },
  {
   "cell_type": "code",
   "execution_count": 17,
   "id": "7255228e-f394-4766-ad51-9ce29cae10de",
   "metadata": {
    "tags": []
   },
   "outputs": [
    {
     "name": "stdout",
     "output_type": "stream",
     "text": [
      "7 sayısı 0'dan büyüktür\n"
     ]
    }
   ],
   "source": [
    "x=7\n",
    "\n",
    "if x>0:\n",
    "    print(\"{} sayısı 0'dan büyüktür\".format(x))"
   ]
  },
  {
   "cell_type": "code",
   "execution_count": 19,
   "id": "e458d9f5-3001-4e5a-aaed-8241fac2fc0d",
   "metadata": {
    "tags": []
   },
   "outputs": [
    {
     "name": "stdout",
     "output_type": "stream",
     "text": [
      "if bloğu sonrası\n"
     ]
    }
   ],
   "source": [
    "x=-8\n",
    "\n",
    "if x>0:\n",
    "    print(\"{} sayısı 0'dan büyüktür\".format(x))\n",
    "    \n",
    "print(\"if bloğu sonrası\")"
   ]
  },
  {
   "cell_type": "code",
   "execution_count": 24,
   "id": "0c5e1ff1-5aef-4423-b1ce-2f521d7cca29",
   "metadata": {
    "tags": []
   },
   "outputs": [
    {
     "name": "stdout",
     "output_type": "stream",
     "text": [
      " --------\n",
      "10 sayısı 0'dan büyük 10'dan küçük eşittir\n",
      "------\n"
     ]
    }
   ],
   "source": [
    "#Eğer x sayısı 0'dan büyük 10'dan küçük eşitse bunu ekrana yazalım\n",
    "\n",
    "x = 10\n",
    "    \n",
    "print(\" --------\")\n",
    "\n",
    "if x>0 and x<=10: \n",
    "    print(\"{} sayısı 0'dan büyük 10'dan küçük eşittir\".format(x))\n",
    "    \n",
    "print(\"------\")"
   ]
  },
  {
   "cell_type": "code",
   "execution_count": 25,
   "id": "e343b98e-38f7-4bf0-a4d2-38f1c68c4b62",
   "metadata": {
    "tags": []
   },
   "outputs": [
    {
     "name": "stdout",
     "output_type": "stream",
     "text": [
      "----------\n",
      "19 sayısı 0'dan büyük eşit ve 20'den küçüktür.\n",
      "----------\n"
     ]
    }
   ],
   "source": [
    "#Eğer x sayısı 0'dan büyük eşit ve 20 den küçükse bunu ekrana yazalım\n",
    "\n",
    "x=19\n",
    "\n",
    "print(\"----------\")\n",
    "\n",
    "if x>=0 and x<20:\n",
    "    print(\"{} sayısı 0'dan büyük eşit ve 20'den küçüktür.\".format(x))\n",
    "    \n",
    "print(\"----------\")\n"
   ]
  },
  {
   "cell_type": "code",
   "execution_count": 26,
   "id": "362a9d0a-a0c2-4365-84df-f4809f6ee8ad",
   "metadata": {
    "tags": []
   },
   "outputs": [
    {
     "name": "stdout",
     "output_type": "stream",
     "text": [
      "----------\n",
      "----------\n"
     ]
    }
   ],
   "source": [
    "#x sayısı 100'den. büyük veya 0'dan küçükse ekrana yazdır\n",
    "x=80\n",
    "\n",
    "print(\"----------\")\n",
    "\n",
    "if x>100 or x<0:\n",
    "    print(\"{} sayısı  100'den. büyük veya 0'dan küçüktür.\".format(x))\n",
    "    \n",
    "print(\"----------\")"
   ]
  },
  {
   "cell_type": "markdown",
   "id": "685b75cd-5340-44e5-b94a-d999c0e7a6d9",
   "metadata": {},
   "source": [
    "**Alternatif İşleme:**\n",
    "\n",
    "**else**\n",
    "\n",
    "Çoğu zaman bir koşul yerine geldiği ya da gelmediği zaman bunun alternatifleri lazım olur.\n",
    "\n",
    "Bu durumlar için if bloğundan sonra else bloğu çalıştırılır."
   ]
  },
  {
   "cell_type": "code",
   "execution_count": 27,
   "id": "3c367b70-1743-4c9b-8cb5-2a38d78a0feb",
   "metadata": {
    "tags": []
   },
   "outputs": [
    {
     "name": "stdout",
     "output_type": "stream",
     "text": [
      "çift\n"
     ]
    }
   ],
   "source": [
    "x=14\n",
    "\n",
    "if x%2 ==0:\n",
    "    print(\"çift\")\n",
    "else:\n",
    "    print(\"tek\")"
   ]
  },
  {
   "cell_type": "markdown",
   "id": "b261b035-7e22-4074-8281-e6d4bc6848fe",
   "metadata": {},
   "source": [
    "**elif**\n",
    "\n",
    "Yukarıda sadece iki durum kontrol ettik\n",
    "\n",
    "* if\n",
    "* else\n",
    "\n",
    "Ama çoğu zaman ikiden fazla durum olur.Bunun için **if-elif-....-else** bloğu kullanılır"
   ]
  },
  {
   "cell_type": "markdown",
   "id": "9e2d8d2c-2b49-4b12-942d-28c27e745707",
   "metadata": {},
   "source": [
    "**elif:el**se**if**"
   ]
  },
  {
   "cell_type": "code",
   "execution_count": 1,
   "id": "d8ecdcec-f6d2-4026-aab2-14b0b2007af7",
   "metadata": {
    "tags": []
   },
   "outputs": [],
   "source": [
    "#kullanıcıdan bir sayı isteyelim\n",
    "#bu sayının pozitif,nötr ya da negatif olma durumunu kontrol edelim.\n",
    "\n",
    "def pozitif_mi():\n",
    "    \n",
    "    #input() fonksiyonu str döner\n",
    "    girdi = input(\"Lütfen bir sayı giriniz:\")\n",
    "    \n",
    "    #girdiyi-> integer(int) yapalım\n",
    "    n = int(girdi)\n",
    "    \n",
    "    #koşulları kontrol et\n",
    "    if n>0:\n",
    "        print(\"Pozitif\")\n",
    "    elif n==0:\n",
    "        print(\"Nötr\")\n",
    "    else:\n",
    "        print(\"Negatif\")"
   ]
  },
  {
   "cell_type": "code",
   "execution_count": 2,
   "id": "cdc17e28-3f6e-4a1c-94d2-2ef3e52e3c01",
   "metadata": {
    "tags": []
   },
   "outputs": [
    {
     "name": "stdin",
     "output_type": "stream",
     "text": [
      "Lütfen bir sayı giriniz: 78\n"
     ]
    },
    {
     "name": "stdout",
     "output_type": "stream",
     "text": [
      "Pozitif\n"
     ]
    }
   ],
   "source": [
    "pozitif_mi()\n"
   ]
  },
  {
   "cell_type": "code",
   "execution_count": 3,
   "id": "f843a14e-f392-4432-96c9-2f904e8fe301",
   "metadata": {
    "tags": []
   },
   "outputs": [
    {
     "name": "stdin",
     "output_type": "stream",
     "text": [
      "Lütfen bir sayı giriniz: 0\n"
     ]
    },
    {
     "name": "stdout",
     "output_type": "stream",
     "text": [
      "Nötr\n"
     ]
    }
   ],
   "source": [
    "pozitif_mi()"
   ]
  },
  {
   "cell_type": "code",
   "execution_count": 4,
   "id": "0858c975-9660-47db-a1af-34d8ff723b33",
   "metadata": {
    "tags": []
   },
   "outputs": [
    {
     "name": "stdin",
     "output_type": "stream",
     "text": [
      "Lütfen bir sayı giriniz: -6\n"
     ]
    },
    {
     "name": "stdout",
     "output_type": "stream",
     "text": [
      "Negatif\n"
     ]
    }
   ],
   "source": [
    "pozitif_mi()\n"
   ]
  },
  {
   "cell_type": "markdown",
   "id": "08531c08-6cc2-4127-904b-a00456694aeb",
   "metadata": {},
   "source": [
    "Şimdi kullanıcıdan 1-7 arsında sayı isteyen bir fonksiyon yazalım.\n",
    "\n",
    "Fonksiyonumuz, bu sayıya göre haftanın hangi günü olduğuna karar verip kullanıcıya dönsün(return)"
   ]
  },
  {
   "cell_type": "code",
   "execution_count": 5,
   "id": "b56f128e-4a26-4edd-af8f-65961d00a4a7",
   "metadata": {
    "tags": []
   },
   "outputs": [],
   "source": [
    "def haftanin_gunleri():\n",
    "    \n",
    "    #kullanıcıdan bir gğn numarası isteyelim\n",
    "    gun_numarasi= int(input(\"LÜtfen bir gün numarası giriniz\"))\n",
    "    \n",
    "    #fonksiyonun sonunda geri döneceğimiz gün adını tutan bir değişken tanımlayalım\n",
    "    gun_adi = \"\"\n",
    "    \n",
    "    #kontrol et\n",
    "    if    gun_numarasi==1:\n",
    "          gun_adi=\"Pazartesi\"\n",
    "    elif  gun_numarasi==2:\n",
    "          gun_adi=\"Salı\"\n",
    "    elif  gun_numarasi==3:\n",
    "          gun_adi=\"Çarşamba\"\n",
    "    elif  gun_numarasi==4:\n",
    "          gun_adi=\"Perşembe\"\n",
    "    elif  gun_numarasi==5:\n",
    "          gun_adi=\"Cuma\"\n",
    "    elif  gun_numarasi==6:\n",
    "          gun_adi=\"Cumartesi\"\n",
    "    else :gun_adi=\"Pazar\"\n",
    "    \n",
    "    # gun adını geri dön ->return\n",
    "    return gun_adi\n",
    "            "
   ]
  },
  {
   "cell_type": "code",
   "execution_count": 7,
   "id": "3aafba38-a26a-4f6b-b27d-7e9247a77b56",
   "metadata": {
    "tags": []
   },
   "outputs": [
    {
     "name": "stdin",
     "output_type": "stream",
     "text": [
      "LÜtfen bir gün numarası giriniz 6\n"
     ]
    },
    {
     "data": {
      "text/plain": [
       "'Cumartesi'"
      ]
     },
     "execution_count": 7,
     "metadata": {},
     "output_type": "execute_result"
    }
   ],
   "source": [
    "haftanin_gunleri()"
   ]
  },
  {
   "cell_type": "markdown",
   "id": "889d3da4-074f-4714-a91a-a9ba99244c69",
   "metadata": {},
   "source": [
    "Haftanın günleri fonksiyonumuz güzel çalışıyor ama bazı sorunları var\n",
    "\n",
    "1- Ya kullanıcı sayı yerine harf girerse\n",
    "\n",
    "2- Ya kullanıcı 7'den büyük bir sayı girerse\n",
    "\n",
    "3- Ya kullanıcı 1'den küçük bir sayı girerse\n"
   ]
  },
  {
   "cell_type": "markdown",
   "id": "49b05edf-a21d-43e3-9ac1-33489c8a98a7",
   "metadata": {},
   "source": [
    "Şimdi bu koşullara göre fonksiyonu tekrar düzenleyelim\n"
   ]
  },
  {
   "cell_type": "code",
   "execution_count": 3,
   "id": "c61fb092-e6ad-4619-8ff0-97acc0748c73",
   "metadata": {
    "tags": []
   },
   "outputs": [],
   "source": [
    "def haftanin_gunleri():\n",
    "    #kullanıcıdan bir gün numarası isteyelim\n",
    "    # direkt aldığımız değeri int olarak çeviremeyiz\n",
    "    # önce kontrol etmemiz lazım\n",
    "    girdi= input(\"Lütfen bir gün numarası giriniz.\")\n",
    "    \n",
    "    #Kontrol 1: Tam sayı kontrolü\n",
    "    #girdinin tam sayı(int) olmasını istiyoruz\n",
    "    # o zaman int kontrolü yapmamız lazım\n",
    "    \n",
    "    if not girdi.isdigit():\n",
    "        gun_numarasi= int(girdi)\n",
    "    else:\n",
    "        print(\"Lütfen tam sayı giriniz\")\n",
    "        #girdi hatalı olduğuna göre programı sonlandırmamız lazım -<return    \n",
    "    return\n",
    "    \n",
    "    print(\"1.KONTROL BAŞARILI\")\n",
    "    \n",
    "    #Kontrol2:Sayının 1-7 arasında olma kontrolü\n",
    "    #Bu noktaya gelmişsek -> 1.kontrol başarılıdır.Ve gün numarası gelmiştir\n",
    "    \n",
    "    if gun_numarasi <1 or gun_numarasi>7 :\n",
    "        print(\"Lütfen 1-7 arasında bir sayı giriniz\")\n",
    "        return"
   ]
  },
  {
   "cell_type": "markdown",
   "id": "46961eb7-c3ea-4bf6-b989-1d3a817ea55a",
   "metadata": {},
   "source": [
    "### İç içe(Nested) Şartlı İfadeler"
   ]
  },
  {
   "cell_type": "markdown",
   "id": "d6ef6121-237a-48d7-a757-575522397f41",
   "metadata": {},
   "source": [
    "**not** operatörü\n",
    "\n",
    "Bir yargıyı(True veya False) tersine çevirmek için kullanılır.\n",
    "\n",
    "değilse gibi okunabilir."
   ]
  },
  {
   "cell_type": "code",
   "execution_count": 4,
   "id": "eafb5beb-b1e2-4f83-ae68-545d2c4bc060",
   "metadata": {
    "tags": []
   },
   "outputs": [
    {
     "data": {
      "text/plain": [
       "False"
      ]
     },
     "execution_count": 4,
     "metadata": {},
     "output_type": "execute_result"
    }
   ],
   "source": [
    "not True\n"
   ]
  },
  {
   "cell_type": "code",
   "execution_count": 5,
   "id": "f6cfa1f3-0234-4076-b4be-886f50b97978",
   "metadata": {
    "tags": []
   },
   "outputs": [
    {
     "data": {
      "text/plain": [
       "True"
      ]
     },
     "execution_count": 5,
     "metadata": {},
     "output_type": "execute_result"
    }
   ],
   "source": [
    "x=5\n",
    "\n",
    "x==5"
   ]
  },
  {
   "cell_type": "code",
   "execution_count": 6,
   "id": "45c7893b-fe79-4f90-9aa0-7d118b5e3caf",
   "metadata": {
    "tags": []
   },
   "outputs": [
    {
     "data": {
      "text/plain": [
       "False"
      ]
     },
     "execution_count": 6,
     "metadata": {},
     "output_type": "execute_result"
    }
   ],
   "source": [
    "not x==5"
   ]
  },
  {
   "cell_type": "code",
   "execution_count": 7,
   "id": "5111a628-4151-4288-abc5-8af7b2ac6cb1",
   "metadata": {
    "tags": []
   },
   "outputs": [
    {
     "name": "stdout",
     "output_type": "stream",
     "text": [
      "x 5'e eşittir.\n"
     ]
    }
   ],
   "source": [
    "#normal if kullanımı\n",
    "if x==5:\n",
    "    print(\"x 5'e eşittir.\")\n",
    "else:\n",
    "    print(\"x 5'e eşit değildir.\")"
   ]
  },
  {
   "cell_type": "code",
   "execution_count": 8,
   "id": "4466e552-cd10-42d9-8f81-428f74594318",
   "metadata": {
    "tags": []
   },
   "outputs": [
    {
     "name": "stdout",
     "output_type": "stream",
     "text": [
      "x 5'e eşittir\n"
     ]
    }
   ],
   "source": [
    "#not ile if kullanımı\n",
    "\n",
    "if not x==5:\n",
    "    print(\"x 5'e eşit değildir\")\n",
    "else:\n",
    "    print(\"x 5'e eşittir\")"
   ]
  },
  {
   "cell_type": "markdown",
   "id": "df2b05bd-0850-4f04-8913-417e8158f7cc",
   "metadata": {},
   "source": [
    "**Önemli Not:** ifler içeri girmek için True'ya ihtiyaç duyar."
   ]
  },
  {
   "cell_type": "markdown",
   "id": "a57c27b8-8d30-4e19-ae1b-b0c9e28292af",
   "metadata": {},
   "source": [
    "Diyelim ki ir koşul sağlandıktan sonra, o koşul içinde başka bir koşula bakmamız lazım.\n",
    "\n",
    "* Bunun için içeride, tekrar bir koşul yapısı kurmamız lazım\n",
    "* İç-İçe koşul yapısıdır.(Nested)"
   ]
  },
  {
   "cell_type": "code",
   "execution_count": 9,
   "id": "aa5b5edd-548c-4bb3-8606-71571f663f88",
   "metadata": {
    "tags": []
   },
   "outputs": [
    {
     "name": "stdout",
     "output_type": "stream",
     "text": [
      " x y'den büyüktür\n"
     ]
    }
   ],
   "source": [
    "#örnek\n",
    "\n",
    "x=300\n",
    "y=30\n",
    "\n",
    "if x==y:\n",
    "    print(\"x ile y aynı\")\n",
    "else:\n",
    "    \n",
    "    if x>y:\n",
    "        print(\" x y'den büyüktür\")\n",
    "    #gereksiz kod redundant\n",
    "    elif x==y:\n",
    "        print(\"x ile y aynı\")\n",
    "    else:\n",
    "        print(\" x y'den küçüktür\")\n",
    "        "
   ]
  },
  {
   "cell_type": "code",
   "execution_count": 10,
   "id": "77c7f998-5564-4d5f-bc0a-3a6635d0b746",
   "metadata": {
    "tags": []
   },
   "outputs": [],
   "source": [
    "#örnek\n",
    "#kullanıcıdan bir sayı isteyelim\n",
    "\n",
    "#bu sayı 10'dan küçükse:\n",
    "    #tek ise 10'dan küçük tek\n",
    "    #çift ise 10'dan küçük çift\n",
    "#sayı 10'dan büyükse \n",
    "    #tek ise tek\n",
    "    #çift ise çift\n",
    "    \n",
    "def sayi_tek_mi():\n",
    "    \n",
    "    #kullanıcıdan bir sayı iste\n",
    "    girdi= input(\"Lütfen bir sayı giriniz\")\n",
    "    \n",
    "    #input() -> str(metin) döner -> int'e cast etmeniz lazım\n",
    "    sayi= int(girdi)\n",
    "    \n",
    "    #koşulları kontrol et\n",
    "    if sayi>10:\n",
    "        \n",
    "        #sayi tek mi çift mi\n",
    "        if sayi%2==1:\n",
    "            print(\"10'dan küçük tek\")\n",
    "        else:\n",
    "            print(\"10'dan küçük çift\")\n",
    "    else: \n",
    "        if sayi%2==1:\n",
    "            print(\"tek\")\n",
    "        else:\n",
    "            print(\"çift\")\n",
    "        "
   ]
  },
  {
   "cell_type": "code",
   "execution_count": 12,
   "id": "9c5d296b-3fdd-45ce-b5ac-412bfce93713",
   "metadata": {
    "tags": []
   },
   "outputs": [
    {
     "name": "stdin",
     "output_type": "stream",
     "text": [
      "Lütfen bir sayı giriniz 4\n"
     ]
    },
    {
     "name": "stdout",
     "output_type": "stream",
     "text": [
      "çift\n"
     ]
    }
   ],
   "source": [
    "sayi_tek_mi()"
   ]
  },
  {
   "cell_type": "markdown",
   "id": "e78b39aa-f61d-4503-add3-4e5fba34472b",
   "metadata": {},
   "source": [
    "### Recursion-Kendi kendini çağırmak\n"
   ]
  },
  {
   "cell_type": "markdown",
   "id": "f381b99b-bf8a-4ebf-ab68-40ff69ef3e5c",
   "metadata": {},
   "source": [
    "Bİr fonksiyon başka fonksiyonları çağırabildiği gibi, kendisini de çağırabilir.Buna recursion denir\n",
    "\n",
    "Örn: Verilen bir sayıdan geriye doğru, 0'a kadar sayan bir fonksiyon.\n",
    "\n",
    "**Önemli Not** Recursionlarda durma koşulu çok önemlidir.Eğer fonksiyon nerede duracağını bilemezse sonsuz döngüye girer"
   ]
  },
  {
   "cell_type": "code",
   "execution_count": 13,
   "id": "e8401a4a-601f-41b1-9075-7c0f23050417",
   "metadata": {
    "tags": []
   },
   "outputs": [],
   "source": [
    "#örnek\n",
    "\n",
    "def geri_say(n):\n",
    "    \n",
    "    #ilk önce durma koşulunu yazmamız lazım\n",
    "    if n<=0:\n",
    "        print(\"Program sonu\")\n",
    "    else:\n",
    "        print(n)\n",
    "        geri_say(n-1)"
   ]
  },
  {
   "cell_type": "code",
   "execution_count": 14,
   "id": "cfbbd5c1-bbc3-44c8-bb5b-d1a04ba931d3",
   "metadata": {
    "tags": []
   },
   "outputs": [
    {
     "name": "stdout",
     "output_type": "stream",
     "text": [
      "5\n",
      "4\n",
      "3\n",
      "2\n",
      "1\n",
      "Program sonu\n"
     ]
    }
   ],
   "source": [
    "geri_say(5)"
   ]
  },
  {
   "cell_type": "markdown",
   "id": "8c179873-2188-4225-b423-df2c3999e311",
   "metadata": {},
   "source": [
    "Şimdi kendisine verilen bir metni, geriye doğru sayarak yazan bir fonksiyon tanımlayalım"
   ]
  },
  {
   "cell_type": "code",
   "execution_count": 17,
   "id": "ab9e997b-a58c-42f4-ba6d-2b14a8d504bb",
   "metadata": {
    "tags": []
   },
   "outputs": [],
   "source": [
    "def metni_yaz(metin, n):\n",
    "    \n",
    "    #önce durma koşulu\n",
    "    if n<=0: \n",
    "        return\n",
    "    else:\n",
    "            print(metin)\n",
    "            metni_yaz(metin,n-1)"
   ]
  },
  {
   "cell_type": "code",
   "execution_count": 18,
   "id": "8b9244e9-5e06-41e8-9f67-255b585f2378",
   "metadata": {
    "tags": []
   },
   "outputs": [
    {
     "name": "stdout",
     "output_type": "stream",
     "text": [
      "Machine Learning\n",
      "Machine Learning\n",
      "Machine Learning\n",
      "Machine Learning\n",
      "Machine Learning\n"
     ]
    }
   ],
   "source": [
    "metni_yaz(\"Machine Learning\", 5)"
   ]
  },
  {
   "cell_type": "code",
   "execution_count": 22,
   "id": "c16d855d-5ebb-4a8b-80b9-3d9004e745b3",
   "metadata": {
    "tags": []
   },
   "outputs": [],
   "source": [
    "#Şimdi gelen sayıyı da yazdıralım\n",
    "def metni_yaz(metin, n):\n",
    "    \n",
    "    #önce durma koşulu\n",
    "    if n<=0: \n",
    "        return\n",
    "    else:\n",
    "            print(\"{0} : {1}\".format(n,metin))\n",
    "            metni_yaz(metin,n-1)\n"
   ]
  },
  {
   "cell_type": "code",
   "execution_count": 21,
   "id": "b308720f-101b-4c48-8ef1-80a3437ab3bd",
   "metadata": {
    "tags": []
   },
   "outputs": [
    {
     "name": "stdout",
     "output_type": "stream",
     "text": [
      "5:Machine Learning\n",
      "4:Machine Learning\n",
      "3:Machine Learning\n",
      "2:Machine Learning\n",
      "1:Machine Learning\n"
     ]
    }
   ],
   "source": [
    "metni_yaz(\"Machine Learning\", 5)"
   ]
  },
  {
   "cell_type": "markdown",
   "id": "e6c836e6-e128-4b63-915f-d4d878d4a7ee",
   "metadata": {},
   "source": [
    "Diyelim ki durma koşulu koymadınız veya koşulunuz yanlış->Hiç durmaz(sonsuz döngü)"
   ]
  },
  {
   "cell_type": "code",
   "execution_count": 23,
   "id": "33ae7978-9b22-41f3-afca-75d3efd8fef7",
   "metadata": {
    "tags": []
   },
   "outputs": [],
   "source": [
    "#verilen sayıdan 100' e kadar olan sayıları yazalım\n",
    "\n",
    "def yuze_kadar_say(n):\n",
    "    \n",
    "    #durma koşulu yok\n",
    "    \n",
    "    print(n)\n",
    "    yuze_kadar_say(n+1)"
   ]
  },
  {
   "cell_type": "code",
   "execution_count": 25,
   "id": "739f4b25-6565-48a1-9de7-cd7203563f11",
   "metadata": {
    "tags": []
   },
   "outputs": [],
   "source": [
    "def yuze_kadar_say(n):\n",
    "    \n",
    "    if n>100:\n",
    "        return\n",
    "    \n",
    "    print(n)\n",
    "    yuze_kadar_say(n+1)"
   ]
  },
  {
   "cell_type": "code",
   "execution_count": 26,
   "id": "39d83a7a-19d4-4f71-b797-d4f292e5ec52",
   "metadata": {
    "tags": []
   },
   "outputs": [
    {
     "name": "stdout",
     "output_type": "stream",
     "text": [
      "80\n",
      "81\n",
      "82\n",
      "83\n",
      "84\n",
      "85\n",
      "86\n",
      "87\n",
      "88\n",
      "89\n",
      "90\n",
      "91\n",
      "92\n",
      "93\n",
      "94\n",
      "95\n",
      "96\n",
      "97\n",
      "98\n",
      "99\n",
      "100\n"
     ]
    }
   ],
   "source": [
    "yuze_kadar_say(80)"
   ]
  },
  {
   "cell_type": "code",
   "execution_count": null,
   "id": "4a40691e-8a4b-47a4-bf52-3c4062f8d329",
   "metadata": {},
   "outputs": [],
   "source": []
  }
 ],
 "metadata": {
  "kernelspec": {
   "display_name": "Python 3 (ipykernel)",
   "language": "python",
   "name": "python3"
  },
  "language_info": {
   "codemirror_mode": {
    "name": "ipython",
    "version": 3
   },
   "file_extension": ".py",
   "mimetype": "text/x-python",
   "name": "python",
   "nbconvert_exporter": "python",
   "pygments_lexer": "ipython3",
   "version": "3.11.4"
  }
 },
 "nbformat": 4,
 "nbformat_minor": 5
}
