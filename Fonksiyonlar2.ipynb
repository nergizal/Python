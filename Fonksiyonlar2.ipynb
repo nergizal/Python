{
 "cells": [
  {
   "cell_type": "markdown",
   "id": "8e01fcf5-6ee4-4ded-bd0b-8eda50968658",
   "metadata": {},
   "source": [
    "### Fonksiyonlar 2 ###"
   ]
  },
  {
   "cell_type": "markdown",
   "id": "1c8482e6-1f06-46f3-9c1f-dafb1fcba8cf",
   "metadata": {},
   "source": [
    "Fonksiyonlar çoğu zaman, işlemlerini bitirdikten sonra geriye değer dönerler. Fonksiyonu çağıran yerde o değeri alır ve buna göre işlemlerini yapar.\n"
   ]
  },
  {
   "cell_type": "markdown",
   "id": "000c2af5-b48e-4ded-b052-80109186989e",
   "metadata": {},
   "source": [
    "Geriye değer dönmeyen fonksiyonlara void fonksiyonlar denir."
   ]
  },
  {
   "cell_type": "markdown",
   "id": "bbd08e33-e1e0-4c86-bf56-285da760056c",
   "metadata": {},
   "source": [
    "Geriye değer dönme-> return"
   ]
  },
  {
   "cell_type": "markdown",
   "id": "d913b05a-c392-4ba8-b20e-a534cbd013bc",
   "metadata": {},
   "source": [
    "Önemli*= Fonksiyon içinde return ifadesinde sonra gelen kodlar çalıştırılmaz."
   ]
  },
  {
   "cell_type": "markdown",
   "id": "ea25f58d-2caa-4e21-91c8-74bad358055d",
   "metadata": {},
   "source": [
    "### Dönüş Değeri ###"
   ]
  },
  {
   "cell_type": "code",
   "execution_count": 1,
   "id": "fb954a06-0ec4-4c09-880c-7609b71495b3",
   "metadata": {
    "tags": []
   },
   "outputs": [
    {
     "name": "stdout",
     "output_type": "stream",
     "text": [
      "2.718281828459045\n"
     ]
    }
   ],
   "source": [
    "import math\n",
    "e = math.exp(1.0)\n",
    "\n",
    "print(e)"
   ]
  },
  {
   "cell_type": "markdown",
   "id": "135abca6-d2bf-4a4c-b3a8-35c97f30b63b",
   "metadata": {},
   "source": [
    "Örneğin dairenin alanını hesaplayan bir fonksiyon yazalım ve değerini alıp ekrana basalım."
   ]
  },
  {
   "cell_type": "code",
   "execution_count": 2,
   "id": "6e602f06-5c8d-4554-b819-9d312493ddeb",
   "metadata": {
    "tags": []
   },
   "outputs": [],
   "source": [
    "def alan(yaricap):\n",
    "    \n",
    "    a=math.pi*yaricap**2\n",
    "    \n",
    "    return a"
   ]
  },
  {
   "cell_type": "code",
   "execution_count": 3,
   "id": "81b80797-fc71-4db8-bda0-2735fc6a52c2",
   "metadata": {
    "tags": []
   },
   "outputs": [
    {
     "name": "stdout",
     "output_type": "stream",
     "text": [
      "50.26548245743669\n"
     ]
    }
   ],
   "source": [
    "daire_alani=alan(4)\n",
    "print(daire_alani)"
   ]
  },
  {
   "cell_type": "markdown",
   "id": "ec2a2274-0ad3-4c92-ae2f-c6ee138cee41",
   "metadata": {},
   "source": [
    "Yukarıdaki alan fonksiyonunun içindeki 'a' değişkenine geçici değişken denir. Tek amacı hesaplanan alan değeri tutup bunu return'e vermek."
   ]
  },
  {
   "cell_type": "markdown",
   "id": "4d9790fd-76db-4782-98ee-17cd12bd155a",
   "metadata": {},
   "source": [
    "Bu geçici değişkenleri kullanmayabiliriz.(Genelde debug işlemleri için önerilir)"
   ]
  },
  {
   "cell_type": "code",
   "execution_count": 4,
   "id": "47ced0a4-b85d-46fe-82ce-5b9027979875",
   "metadata": {
    "tags": []
   },
   "outputs": [],
   "source": [
    "# geçici değişken olmadan alan fonksiyonu\n",
    "\n",
    "def alan(yaricap):\n",
    "    \n",
    "    return math.pi*yaricap**2"
   ]
  },
  {
   "cell_type": "code",
   "execution_count": 5,
   "id": "88dbca72-a096-407d-9751-44413373eba3",
   "metadata": {
    "tags": []
   },
   "outputs": [
    {
     "name": "stdout",
     "output_type": "stream",
     "text": [
      "50.26548245743669\n"
     ]
    }
   ],
   "source": [
    "daire_alani=alan(4)\n",
    "print(daire_alani)"
   ]
  },
  {
   "cell_type": "code",
   "execution_count": 6,
   "id": "9f200183-dbbb-4638-955c-00a3a304d987",
   "metadata": {
    "tags": []
   },
   "outputs": [
    {
     "name": "stdout",
     "output_type": "stream",
     "text": [
      "50.26548245743669\n"
     ]
    }
   ],
   "source": [
    "# Yukarıda print(daire_alani) yazdık-> geçici değişken verdik\n",
    "# daire_alani\n",
    "\n",
    "print(alan(4))"
   ]
  },
  {
   "cell_type": "markdown",
   "id": "3e45245b-8b90-44be-81f6-ab33bb5a2eff",
   "metadata": {},
   "source": [
    "### Adım Adım Geliştirme ###"
   ]
  },
  {
   "cell_type": "markdown",
   "id": "d5ec97d7-f480-4699-9052-9c8d38b51549",
   "metadata": {},
   "source": [
    "Adım adım geliştirme, hata ayıklama(debug) için olmazsa olmaz bir kavramdır.\n",
    "\n",
    "Eğer programın her adımında neyi yaptığını debug edemezseniz, o zaman her şeyi doğru yaptığından emin olamazsınız."
   ]
  },
  {
   "cell_type": "markdown",
   "id": "8ea03728-1028-4fe1-8c95-a091c45e2669",
   "metadata": {},
   "source": [
    " ### Kompozisyon- Fonksiyonların Beraber Kullanımı"
   ]
  },
  {
   "cell_type": "markdown",
   "id": "ad826719-1001-4fc1-bb67-c08c3dcc39de",
   "metadata": {},
   "source": [
    "**Fonksiyonel Programlama**\n",
    "\n",
    "Yapılacak işleri küçük parçalara bölmek ve onları kendi fonksiyonlarına vermek."
   ]
  },
  {
   "cell_type": "markdown",
   "id": "aae84fad-7e0e-4313-8e24-8a36d7147fbc",
   "metadata": {},
   "source": [
    "Örnek: diyelim ki elimizde iki nokta var, bu iki noktayı birleştiren doğru parçasını yarıçap kabul edelim. bu yarıçapa sahip dairenin alanını hesaplayalım.\n",
    "\n",
    "Bu işleri tek fonksiyon içinde yapmak yerine, zaten bu alt işlemler içi"
   ]
  },
  {
   "cell_type": "code",
   "execution_count": 1,
   "id": "cc61633c-84c8-4d89-a898-87323ca1cb06",
   "metadata": {
    "tags": []
   },
   "outputs": [],
   "source": [
    "def selamla(metin):\n",
    "    print(metin)"
   ]
  },
  {
   "cell_type": "code",
   "execution_count": 2,
   "id": "a2c5422d-2528-4e29-b4dd-3ff9bfa4ce41",
   "metadata": {
    "tags": []
   },
   "outputs": [
    {
     "name": "stdout",
     "output_type": "stream",
     "text": [
      "Selam sana Python\n"
     ]
    }
   ],
   "source": [
    "selamla(\"Selam sana Python\")"
   ]
  },
  {
   "cell_type": "code",
   "execution_count": 3,
   "id": "d210a0fa-dc72-497e-bfe6-6c878d0adb49",
   "metadata": {
    "tags": []
   },
   "outputs": [
    {
     "name": "stdout",
     "output_type": "stream",
     "text": [
      "Merhba dünya\n"
     ]
    }
   ],
   "source": [
    "selamla(\"Merhba dünya\")"
   ]
  },
  {
   "cell_type": "code",
   "execution_count": 4,
   "id": "5a8dbe8a-2736-43a0-9221-af170ac7acb5",
   "metadata": {
    "tags": []
   },
   "outputs": [],
   "source": [
    "hello=selamla"
   ]
  },
  {
   "cell_type": "code",
   "execution_count": 5,
   "id": "4b779dde-cd42-4ca1-9e4a-ba130efba532",
   "metadata": {
    "tags": []
   },
   "outputs": [
    {
     "name": "stdout",
     "output_type": "stream",
     "text": [
      "hello world\n"
     ]
    }
   ],
   "source": [
    "hello(\"hello world\")"
   ]
  },
  {
   "cell_type": "markdown",
   "id": "fbadcb77-f032-444f-96a0-59f119ee9913",
   "metadata": {},
   "source": [
    "### Parametre sayısı önceden bilinmiyorsa: args ###"
   ]
  },
  {
   "cell_type": "markdown",
   "id": "265d3211-a55e-4869-a77d-c90883284eb3",
   "metadata": {},
   "source": [
    "Bazen bir fonksiyonun hangi argumanları(parametreleri) alacağı önceden bilinmez. Bu durumda *args şeklinde parametre alır."
   ]
  },
  {
   "cell_type": "code",
   "execution_count": 6,
   "id": "2329bacf-4a62-4c4d-9764-324ae1afada5",
   "metadata": {
    "tags": []
   },
   "outputs": [],
   "source": [
    "def toplam(*args):\n",
    "    \n",
    "    print(\"args:\", args)"
   ]
  },
  {
   "cell_type": "code",
   "execution_count": 7,
   "id": "3e1070d9-5257-4695-9c2a-7477d8814649",
   "metadata": {
    "tags": []
   },
   "outputs": [
    {
     "name": "stdout",
     "output_type": "stream",
     "text": [
      "args: (5, 8)\n"
     ]
    }
   ],
   "source": [
    "toplam(5,8)"
   ]
  },
  {
   "cell_type": "code",
   "execution_count": 8,
   "id": "e132b5a8-b133-46cc-b08f-3cc9bd257dc9",
   "metadata": {
    "tags": []
   },
   "outputs": [],
   "source": [
    "def toplam(*args):\n",
    "    \n",
    "    return sum(args)\n"
   ]
  },
  {
   "cell_type": "code",
   "execution_count": 9,
   "id": "bb258a4f-3838-4c56-9bb7-9c102063c936",
   "metadata": {
    "tags": []
   },
   "outputs": [
    {
     "data": {
      "text/plain": [
       "13"
      ]
     },
     "execution_count": 9,
     "metadata": {},
     "output_type": "execute_result"
    }
   ],
   "source": [
    "toplam(5,8)"
   ]
  },
  {
   "cell_type": "code",
   "execution_count": 10,
   "id": "1140d86c-fb91-4982-b7e2-5438772a2b48",
   "metadata": {
    "tags": []
   },
   "outputs": [],
   "source": [
    "def parametreleri_yaz(*args):\n",
    "    \n",
    "    for a in args:\n",
    "        print(a)"
   ]
  },
  {
   "cell_type": "code",
   "execution_count": 11,
   "id": "92ae3e73-f068-4afa-88a9-4d3f28026068",
   "metadata": {
    "tags": []
   },
   "outputs": [
    {
     "name": "stdout",
     "output_type": "stream",
     "text": [
      "A\n",
      "B\n",
      "45\n",
      "True\n",
      "Python\n"
     ]
    }
   ],
   "source": [
    "parametreleri_yaz(\"A\", \"B\", 45, True, \"Python\")"
   ]
  },
  {
   "cell_type": "markdown",
   "id": "5beb7470-387a-4828-8707-32d197b7664b",
   "metadata": {},
   "source": [
    "### Lambda Fonksiyonu ###\n",
    "\n",
    "Bazen bir fonksiyonu isim vermeden direkt kullanmak isteyebiliriz. Bunun için de lambda anahtar kelimesi kullanılır.Lambda(lambda expression) tek satır fonksiyonu olarak da bilinir."
   ]
  },
  {
   "cell_type": "code",
   "execution_count": 12,
   "id": "6e4aa2b8-2a15-40b1-b9f3-887c877857e4",
   "metadata": {
    "tags": []
   },
   "outputs": [
    {
     "data": {
      "text/plain": [
       "['Selam', 'sana', 'kartal', 'gözü']"
      ]
     },
     "execution_count": 12,
     "metadata": {},
     "output_type": "execute_result"
    }
   ],
   "source": [
    "metin= \"Selam sana kartal gözü\"\n",
    "metin.split()"
   ]
  },
  {
   "cell_type": "code",
   "execution_count": 13,
   "id": "e3b99ec7-1463-451c-a1a0-a9a0a3c8087c",
   "metadata": {
    "tags": []
   },
   "outputs": [],
   "source": [
    "# Şimdi bir lambda fonksiyonu ile split() fonksiyonunu kullanalım\n",
    "\n",
    "metni_parcala= lambda x : x.split()"
   ]
  },
  {
   "cell_type": "code",
   "execution_count": 14,
   "id": "f8581adc-2d2e-4caf-9aec-d21ca1ebb9ab",
   "metadata": {
    "tags": []
   },
   "outputs": [
    {
     "data": {
      "text/plain": [
       "['Selam', 'sana', 'kartal', 'gözü']"
      ]
     },
     "execution_count": 14,
     "metadata": {},
     "output_type": "execute_result"
    }
   ],
   "source": [
    "metni_parcala(metin)"
   ]
  },
  {
   "cell_type": "code",
   "execution_count": 15,
   "id": "d97a2083-a011-46bc-bd1c-065635b79fcd",
   "metadata": {
    "tags": []
   },
   "outputs": [],
   "source": [
    "#Çarpma yapan bir lambda fonksiyonu tanımayalım.\n",
    "\n",
    "multiply =lambda x,y : x * y"
   ]
  },
  {
   "cell_type": "code",
   "execution_count": 16,
   "id": "eb60e080-e65d-44db-a984-ba53441260d2",
   "metadata": {
    "tags": []
   },
   "outputs": [
    {
     "data": {
      "text/plain": [
       "32"
      ]
     },
     "execution_count": 16,
     "metadata": {},
     "output_type": "execute_result"
    }
   ],
   "source": [
    "multiply(4,8)"
   ]
  },
  {
   "cell_type": "code",
   "execution_count": 17,
   "id": "ead882bd-1be4-4136-b217-a10484f9d63f",
   "metadata": {
    "tags": []
   },
   "outputs": [],
   "source": [
    "#üstel hesaplama yapan bir lambda fonksiyonu\n",
    "\n",
    "ustel=lambda sayi, ust: sayi**ust"
   ]
  },
  {
   "cell_type": "code",
   "execution_count": 18,
   "id": "6b28dee4-23aa-4db5-b04f-37ada4046385",
   "metadata": {
    "tags": []
   },
   "outputs": [
    {
     "data": {
      "text/plain": [
       "32"
      ]
     },
     "execution_count": 18,
     "metadata": {},
     "output_type": "execute_result"
    }
   ],
   "source": [
    "ustel(2,5)"
   ]
  },
  {
   "cell_type": "markdown",
   "id": "756179d0-40b0-44cd-a3e6-4355de860b94",
   "metadata": {},
   "source": [
    "### Fonksiyon Dönen Fonksiyon ###"
   ]
  },
  {
   "cell_type": "code",
   "execution_count": 1,
   "id": "525ade7d-7838-4cef-a599-a98ec77f10fb",
   "metadata": {},
   "outputs": [],
   "source": [
    "def katini_al(n):\n",
    "    \"\"\"\n",
    "    Jenerik çarpma fonksiyonu.\n",
    "    Parametreler: n(int)\n",
    "    Return: lambda a: a * n şeklinde bir lambda fonksiyon\n",
    "    \"\"\"\n",
    "    \n",
    "    return lambda a: a * n"
   ]
  },
  {
   "cell_type": "code",
   "execution_count": 2,
   "id": "4d162dbc-ef69-4b48-9dec-70496ca74cae",
   "metadata": {
    "tags": []
   },
   "outputs": [],
   "source": [
    "ikili_katlar=katini_al(2)"
   ]
  },
  {
   "cell_type": "code",
   "execution_count": 3,
   "id": "5e5af4f9-10f1-4c7b-b846-f1f2c48a9ea9",
   "metadata": {
    "tags": []
   },
   "outputs": [
    {
     "data": {
      "text/plain": [
       "function"
      ]
     },
     "execution_count": 3,
     "metadata": {},
     "output_type": "execute_result"
    }
   ],
   "source": [
    "type(ikili_katlar)"
   ]
  },
  {
   "cell_type": "code",
   "execution_count": 5,
   "id": "34a35a3d-4db0-437f-bdb9-5e1d3be6f754",
   "metadata": {
    "tags": []
   },
   "outputs": [
    {
     "data": {
      "text/plain": [
       "30"
      ]
     },
     "execution_count": 5,
     "metadata": {},
     "output_type": "execute_result"
    }
   ],
   "source": [
    "ikili_katlar(15)"
   ]
  },
  {
   "cell_type": "code",
   "execution_count": 6,
   "id": "6167ea98-d088-4f27-ab99-544e0c5d49b0",
   "metadata": {
    "tags": []
   },
   "outputs": [],
   "source": [
    "uclu_katlar=katini_al(3)"
   ]
  },
  {
   "cell_type": "code",
   "execution_count": 7,
   "id": "147e7c42-06da-41b8-8ae1-8c91a3a80bf5",
   "metadata": {
    "tags": []
   },
   "outputs": [
    {
     "data": {
      "text/plain": [
       "function"
      ]
     },
     "execution_count": 7,
     "metadata": {},
     "output_type": "execute_result"
    }
   ],
   "source": [
    "type(uclu_katlar)"
   ]
  },
  {
   "cell_type": "code",
   "execution_count": 8,
   "id": "148b8f1d-75d9-4b36-8c4d-afa9b4da5d89",
   "metadata": {
    "tags": []
   },
   "outputs": [
    {
     "data": {
      "text/plain": [
       "24"
      ]
     },
     "execution_count": 8,
     "metadata": {},
     "output_type": "execute_result"
    }
   ],
   "source": [
    "uclu_katlar(8)"
   ]
  },
  {
   "cell_type": "code",
   "execution_count": 9,
   "id": "d24a96d6-b9b4-45f9-9e7e-5a597b38e3e8",
   "metadata": {
    "tags": []
   },
   "outputs": [
    {
     "data": {
      "text/plain": [
       "\u001b[0;31mSignature:\u001b[0m \u001b[0muclu_katlar\u001b[0m\u001b[0;34m(\u001b[0m\u001b[0ma\u001b[0m\u001b[0;34m)\u001b[0m\u001b[0;34m\u001b[0m\u001b[0;34m\u001b[0m\u001b[0m\n",
       "\u001b[0;31mDocstring:\u001b[0m <no docstring>\n",
       "\u001b[0;31mSource:\u001b[0m        \u001b[0;32mreturn\u001b[0m \u001b[0;32mlambda\u001b[0m \u001b[0ma\u001b[0m\u001b[0;34m:\u001b[0m \u001b[0ma\u001b[0m \u001b[0;34m*\u001b[0m \u001b[0mn\u001b[0m\u001b[0;34m\u001b[0m\u001b[0;34m\u001b[0m\u001b[0m\n",
       "\u001b[0;31mFile:\u001b[0m      /var/folders/jn/fbzcrx0n0fg31rt9f05lggnm0000gn/T/ipykernel_3153/604179328.py\n",
       "\u001b[0;31mType:\u001b[0m      function"
      ]
     },
     "metadata": {},
     "output_type": "display_data"
    }
   ],
   "source": [
    "uclu_katlar??"
   ]
  },
  {
   "cell_type": "markdown",
   "id": "67f9bab7-55a9-4645-86e7-07c17617a6e0",
   "metadata": {},
   "source": [
    "### İç İçe Fonksiyonlar- Nested Functions ###"
   ]
  },
  {
   "cell_type": "markdown",
   "id": "2052a9d4-b696-441a-a34d-406019defbec",
   "metadata": {},
   "source": [
    "Bazen bir fonksiyonun içinde başka bir fonksiyon tanımlamanız gerekir. Buna içiçe fonksiyolar denir."
   ]
  },
  {
   "cell_type": "markdown",
   "id": "daf89201-b37b-4218-a7a9-4078bbc4cd7b",
   "metadata": {},
   "source": [
    " **Örnek**\n",
    " \n",
    " İç içe fonksiyonlar kullanıp bir sayının 5 ve 8'in ortak katı olup olmadığını bulalım."
   ]
  },
  {
   "cell_type": "code",
   "execution_count": 10,
   "id": "de2b9a02-5109-42f1-84a1-d5f324881903",
   "metadata": {
    "tags": []
   },
   "outputs": [],
   "source": [
    "def ortak_kat_mi(n):\n",
    "    \"\"\"\n",
    "    Verilen bir sayının hem 5 in hem de 8 in katı olup olmadığını kontrol eder.\n",
    "    Parametre: n (int)\n",
    "    Return: Eğer sayı hem 5 hem 8 in katı ise True değilse False\n",
    "    \"\"\"\n",
    "\n",
    "    \n",
    "#İç fonksiyon1: 5'e bölünmeyi kontrol etmek\n",
    "    def besin_kati_mi(n):\n",
    "        if n % 5==0:\n",
    "            return True\n",
    "        else:\n",
    "            return False\n",
    "\n",
    "#İç fonksiyon2: 8'e bölünmeyi kontrol etmek\n",
    "    def sekizin_kati_mi(n):\n",
    "        if n % 8==0:\n",
    "            return True\n",
    "        else:\n",
    "            return False\n",
    "\n",
    "#Hem 5 hem de 8 kontrolüne göre karar ver\n",
    "    if besin_kati(n) and sekizin_kati_mi(n):\n",
    "        return True\n",
    "    else:\n",
    "        return False\n",
    "    "
   ]
  },
  {
   "cell_type": "markdown",
   "id": "69f94978-991d-42fb-b7ac-8207af839092",
   "metadata": {},
   "source": [
    " ### Değiştirilebilir ve Değiştirilemez(Mutable vs. Immutable)"
   ]
  },
  {
   "cell_type": "markdown",
   "id": "48a6ea05-ae51-4714-a471-7b92e9a1e491",
   "metadata": {},
   "source": [
    "Python'da her şey bir nesnedir. Ve her nesnenin bir tipi vardır."
   ]
  },
  {
   "cell_type": "markdown",
   "id": "2a20a968-b8e2-453b-979a-1118c4b2139d",
   "metadata": {},
   "source": [
    "**Immutable**: Bazı tipler atandıkları gibi kalırlar. Yani içinden bir parçası değiştirilemez.\n",
    "\n",
    "**Mutable**: Bazı tiplerin ise bir parçasını değiştirebilirsiniz."
   ]
  },
  {
   "cell_type": "markdown",
   "id": "4597a104-a58a-41d5-bd7a-fa41f85d1cb4",
   "metadata": {},
   "source": [
    "Python'un hazır tipleri ve bunların mutable immutable durumları:\n",
    "\n",
    "int: integer-ımmutable\n",
    "float: float-immutable\n",
    "bool:boolean-immutable\n",
    "str: string-immutable\n",
    "list: list-mutable\n",
    "tuple:tuple-immutable\n",
    "dict: dictionary- mutable\n",
    "set: set- mutable"
   ]
  },
  {
   "cell_type": "markdown",
   "id": "c6944d1c-4a86-4b81-9150-6ecea310fdc9",
   "metadata": {},
   "source": [
    "Bir şeyi değiştiremiyorsak nasıl düzelteceğiz: tekrar atayarak;"
   ]
  },
  {
   "cell_type": "code",
   "execution_count": 1,
   "id": "007cc08b-ec78-48c6-acc1-b8a6bb7102f0",
   "metadata": {
    "tags": []
   },
   "outputs": [
    {
     "data": {
      "text/plain": [
       "'KALEM'"
      ]
     },
     "execution_count": 1,
     "metadata": {},
     "output_type": "execute_result"
    }
   ],
   "source": [
    "metin=\"KALEM\"\n",
    "metin"
   ]
  },
  {
   "cell_type": "code",
   "execution_count": 2,
   "id": "197f1b79-2389-4b23-95a9-829b47b9b4b8",
   "metadata": {
    "tags": []
   },
   "outputs": [
    {
     "data": {
      "text/plain": [
       "'K'"
      ]
     },
     "execution_count": 2,
     "metadata": {},
     "output_type": "execute_result"
    }
   ],
   "source": [
    "metin[0]"
   ]
  },
  {
   "cell_type": "markdown",
   "id": "9a75576a-f717-4afe-8af0-9c4bf9ec7ce4",
   "metadata": {},
   "source": [
    "* Yeniden atamak mute etmek değildir"
   ]
  },
  {
   "cell_type": "markdown",
   "id": "b530d9f7-1987-41ac-9027-e920085af3e3",
   "metadata": {},
   "source": [
    "### Pass by Value,Pass by Reference\n"
   ]
  },
  {
   "cell_type": "markdown",
   "id": "6c136a49-c003-4af4-b089-8586db099f82",
   "metadata": {},
   "source": [
    "Ana kural: immutable- pass by value- eğer immutable bir nesne bir fonksiyona parametre olarak geçerse sadece kopyası geçer. Kendisi olduğu yerde hiç değişmeden kalır."
   ]
  },
  {
   "cell_type": "markdown",
   "id": "bd3eeaed-800f-47e7-ab96-20735cd8e748",
   "metadata": {},
   "source": [
    "mutable-pass by reference- eğer mutable bir nesne bir fonksiyona parametre olarak geçerse referansı geçer. Yani bellekteki adresi geçer. Eğer fonksiyon içinde bu değişken değişirse orijinal değişken değişmiş olur."
   ]
  },
  {
   "cell_type": "code",
   "execution_count": 3,
   "id": "ffd10001-94ff-4997-8bd4-2b51f0c8822e",
   "metadata": {
    "tags": []
   },
   "outputs": [
    {
     "name": "stdout",
     "output_type": "stream",
     "text": [
      "Fonksiyona parametre olarak geçmeden önce Python\n",
      "Fonksiyona parametre olarak geçtikten sonra Python\n"
     ]
    }
   ],
   "source": [
    "dil=\"Python\"\n",
    "\n",
    "print(\"Fonksiyona parametre olarak geçmeden önce\", dil)\n",
    "\n",
    "def degistir(ad):\n",
    "    ad=\"Java\"\n",
    "\n",
    "degistir(dil)\n",
    "\n",
    "print(\"Fonksiyona parametre olarak geçtikten sonra\", dil)"
   ]
  },
  {
   "cell_type": "markdown",
   "id": "46b15c06-58a6-4aed-a625-eaa5aed6b9ed",
   "metadata": {},
   "source": [
    "Immutable olan str tipi, fonksiyona parametre olarak geçti ve değişmeden kaldı çünkü str'ler ımmutable'dır. Immutable olan tiplerin kendisi değil kopyası fonksiyona geçer."
   ]
  },
  {
   "cell_type": "code",
   "execution_count": null,
   "id": "08f100a3-e074-4882-ae3c-32e0abd23fe9",
   "metadata": {},
   "outputs": [],
   "source": []
  }
 ],
 "metadata": {
  "kernelspec": {
   "display_name": "Python 3 (ipykernel)",
   "language": "python",
   "name": "python3"
  },
  "language_info": {
   "codemirror_mode": {
    "name": "ipython",
    "version": 3
   },
   "file_extension": ".py",
   "mimetype": "text/x-python",
   "name": "python",
   "nbconvert_exporter": "python",
   "pygments_lexer": "ipython3",
   "version": "3.11.4"
  }
 },
 "nbformat": 4,
 "nbformat_minor": 5
}
